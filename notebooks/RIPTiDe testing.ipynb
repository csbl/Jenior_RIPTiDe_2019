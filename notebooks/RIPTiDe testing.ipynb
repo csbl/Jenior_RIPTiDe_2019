{
 "cells": [
  {
   "cell_type": "markdown",
   "metadata": {},
   "source": [
    "### Contextualizing Transcriptomic Data"
   ]
  },
  {
   "cell_type": "code",
   "execution_count": 1,
   "metadata": {},
   "outputs": [],
   "source": [
    "from riptide import *"
   ]
  },
  {
   "cell_type": "markdown",
   "metadata": {},
   "source": [
    "### Testing with Toy Model"
   ]
  },
  {
   "cell_type": "code",
   "execution_count": 2,
   "metadata": {},
   "outputs": [],
   "source": [
    "# Load in example model\n",
    "toy_model = cobra.io.read_sbml_model('/home/mjenior/Desktop/repos/Jenior_RIPTiDe_2019/data/reconstructions/example_GENRE.sbml')\n",
    "\n",
    "# gene1 = Glucose transporter\n",
    "# gene2 = Proline transporter\n",
    "# gene3 = Glycine transporter\n",
    "# gene4 = Hydrogen efflux\n",
    "# gene5 = Carbon dioxide efflux\n",
    "# gene6 = Phosphate transporter\n",
    "# gene7 = Glycolysis\n",
    "# gene8 = Stickland fermentation"
   ]
  },
  {
   "cell_type": "code",
   "execution_count": 4,
   "metadata": {},
   "outputs": [
    {
     "data": {
      "text/html": [
       "\n",
       "        <table>\n",
       "            <tr>\n",
       "                <td><strong>Name</strong></td>\n",
       "                <td>iTEST</td>\n",
       "            </tr><tr>\n",
       "                <td><strong>Memory address</strong></td>\n",
       "                <td>0x07f9715d9fe80</td>\n",
       "            </tr><tr>\n",
       "                <td><strong>Number of metabolites</strong></td>\n",
       "                <td>14</td>\n",
       "            </tr><tr>\n",
       "                <td><strong>Number of reactions</strong></td>\n",
       "                <td>16</td>\n",
       "            </tr><tr>\n",
       "                <td><strong>Number of groups</strong></td>\n",
       "                <td>0</td>\n",
       "            </tr><tr>\n",
       "                <td><strong>Objective expression</strong></td>\n",
       "                <td>1.0*DM_atp_c - 1.0*DM_atp_c_reverse_1b037</td>\n",
       "            </tr><tr>\n",
       "                <td><strong>Compartments</strong></td>\n",
       "                <td>e, c</td>\n",
       "            </tr>\n",
       "          </table>"
      ],
      "text/plain": [
       "<Model iTEST at 0x7f9715d9fe80>"
      ]
     },
     "execution_count": 4,
     "metadata": {},
     "output_type": "execute_result"
    }
   ],
   "source": [
    "toy_model"
   ]
  },
  {
   "cell_type": "code",
   "execution_count": 18,
   "metadata": {},
   "outputs": [
    {
     "name": "stdout",
     "output_type": "stream",
     "text": [
      "gluc_e\tGlucose\n",
      "gluc_c\tGlucose\n",
      "pro_e\tProline\n",
      "pro_c\tProline\n",
      "gly_e\tGlycine\n",
      "gly_c\tGlycine\n",
      "h_e\tH+\n",
      "h_c\tH+\n",
      "co2_e\tCO2\n",
      "co2_c\tCO2\n",
      "pi_e\tPi\n",
      "pi_c\tPi\n",
      "adp_c\tADP\n",
      "atp_c\tATP\n"
     ]
    }
   ],
   "source": [
    "for cpd in toy_model.metabolites:\n",
    "    print(cpd.id + '\\t' + cpd.name)"
   ]
  },
  {
   "cell_type": "code",
   "execution_count": 6,
   "metadata": {},
   "outputs": [
    {
     "name": "stdout",
     "output_type": "stream",
     "text": [
      "EX_gluc_e   -1000.0\n",
      "rxn1         1000.0\n",
      "EX_pro_e        0.0\n",
      "rxn2            0.0\n",
      "EX_gly_e        0.0\n",
      "rxn3            0.0\n",
      "EX_h_e       1000.0\n",
      "rxn4         1000.0\n",
      "EX_co2_e        0.0\n",
      "rxn5            0.0\n",
      "EX_pi_e     -1000.0\n",
      "rxn6         1000.0\n",
      "EX_adp_c    -1000.0\n",
      "rxn7         1000.0\n",
      "rxn8            0.0\n",
      "DM_atp_c     1000.0\n",
      "Name: fluxes, dtype: float64\n"
     ]
    }
   ],
   "source": [
    "# Find most parsimonious route of flux\n",
    "from cobra.flux_analysis.parsimonious import pfba\n",
    "toy_solution = pfba(toy_model)\n",
    "print(toy_solution.fluxes)"
   ]
  },
  {
   "cell_type": "code",
   "execution_count": 3,
   "metadata": {},
   "outputs": [],
   "source": [
    "# Create associated transcriptomes\n",
    "glucose_transcriptome = {'gene1':100, 'gene2':1, 'gene3':1, 'gene4':1, \n",
    "                         'gene5':1, 'gene6':100, 'gene7':10000, 'gene8':1}\n",
    "peptide_transcriptome = {'gene1':1, 'gene2':100, 'gene3':100, 'gene4':1, \n",
    "                         'gene5':1, 'gene6':1, 'gene7':1, 'gene8':10000}"
   ]
  },
  {
   "cell_type": "code",
   "execution_count": 4,
   "metadata": {
    "scrolled": true
   },
   "outputs": [
    {
     "name": "stdout",
     "output_type": "stream",
     "text": [
      "\n",
      "Initializing model and integrating transcriptomic data...\n",
      "Pruning zero flux subnetworks...\n",
      "Analyzing context-specific flux distributions...\n",
      "\n",
      "Reactions pruned to 9 from 16 (43.75% change)\n",
      "Metabolites pruned to 8 from 14 (42.86% change)\n",
      "\n",
      "RIPTiDe completed in 5 seconds\n",
      "\n"
     ]
    }
   ],
   "source": [
    "# Contextualize toy model\n",
    "toy_model_glucose = riptide.contextualize(toy_model, transcriptome=glucose_transcriptome)"
   ]
  },
  {
   "cell_type": "code",
   "execution_count": 5,
   "metadata": {},
   "outputs": [
    {
     "name": "stdout",
     "output_type": "stream",
     "text": [
      "gluc_e\tGlucose\n",
      "gluc_c\tGlucose\n",
      "h_e\tH+\n",
      "h_c\tH+\n",
      "pi_e\tPi\n",
      "pi_c\tPi\n",
      "adp_c\tADP\n",
      "atp_c\tATP\n"
     ]
    }
   ],
   "source": [
    "for cpd in toy_model_glucose.model.metabolites:\n",
    "    print(cpd.id + '\\t' + cpd.name)"
   ]
  },
  {
   "cell_type": "code",
   "execution_count": 6,
   "metadata": {},
   "outputs": [
    {
     "name": "stdout",
     "output_type": "stream",
     "text": [
      "\n",
      "Initializing model and integrating transcriptomic data...\n",
      "Pruning zero flux subnetworks...\n",
      "Analyzing context-specific flux distributions...\n",
      "\n",
      "Reactions pruned to 13 from 16 (18.75% change)\n",
      "Metabolites pruned to 12 from 14 (14.29% change)\n",
      "\n",
      "RIPTiDe completed in 5 seconds\n",
      "\n"
     ]
    }
   ],
   "source": [
    "# Contextualize toy model\n",
    "toy_model_peptide = riptide.contextualize(toy_model, transcriptome=peptide_transcriptome)"
   ]
  },
  {
   "cell_type": "code",
   "execution_count": 7,
   "metadata": {},
   "outputs": [
    {
     "name": "stdout",
     "output_type": "stream",
     "text": [
      "pro_e\tProline\n",
      "pro_c\tProline\n",
      "gly_e\tGlycine\n",
      "gly_c\tGlycine\n",
      "h_e\tH+\n",
      "h_c\tH+\n",
      "co2_e\tCO2\n",
      "co2_c\tCO2\n",
      "pi_e\tPi\n",
      "pi_c\tPi\n",
      "adp_c\tADP\n",
      "atp_c\tATP\n"
     ]
    }
   ],
   "source": [
    "for cpd in toy_model_peptide.model.metabolites:\n",
    "    print(cpd.id + '\\t' + cpd.name)"
   ]
  },
  {
   "cell_type": "markdown",
   "metadata": {},
   "source": [
    "### Testing with E.coli K-12 MG1655 model"
   ]
  },
  {
   "cell_type": "code",
   "execution_count": 2,
   "metadata": {},
   "outputs": [],
   "source": [
    "iJO1366 = cobra.io.read_sbml_model('/home/mjenior/Desktop/repos/Jenior_RIPTiDe_2019/data/reconstructions/iJO1366.xml')\n",
    "iJO1366.objective = iJO1366.reactions.BIOMASS_Ec_iJO1366_WT_53p95M\n",
    "\n",
    "# Open all exchanges\n",
    "exchanges = set()\n",
    "for rxn in iJO1366.reactions:\n",
    "    if len(rxn.reactants) == 0 or len(rxn.products) == 0:\n",
    "        rxn.bounds = (min(rxn.lower_bound, -1000.), max(rxn.upper_bound, 1000.))\n",
    "        exchanges |= set([rxn.id])"
   ]
  },
  {
   "cell_type": "code",
   "execution_count": 18,
   "metadata": {},
   "outputs": [
    {
     "data": {
      "text/html": [
       "\n",
       "        <table>\n",
       "            <tr>\n",
       "                <td><strong>Name</strong></td>\n",
       "                <td>iJO1366</td>\n",
       "            </tr><tr>\n",
       "                <td><strong>Memory address</strong></td>\n",
       "                <td>0x07f8f897aa3d0</td>\n",
       "            </tr><tr>\n",
       "                <td><strong>Number of metabolites</strong></td>\n",
       "                <td>1805</td>\n",
       "            </tr><tr>\n",
       "                <td><strong>Number of reactions</strong></td>\n",
       "                <td>2583</td>\n",
       "            </tr><tr>\n",
       "                <td><strong>Objective expression</strong></td>\n",
       "                <td>0.0 + 1.0*BIOMASS_Ec_iJO1366_WT_53p95M - 1.0*BIOMASS_Ec_iJO1366_WT_53p95M_reverse_06c4a</td>\n",
       "            </tr><tr>\n",
       "                <td><strong>Compartments</strong></td>\n",
       "                <td>periplasm, cytosol, extracellular space</td>\n",
       "            </tr>\n",
       "          </table>"
      ],
      "text/plain": [
       "<Model iJO1366 at 0x7f8f897aa3d0>"
      ]
     },
     "execution_count": 18,
     "metadata": {},
     "output_type": "execute_result"
    }
   ],
   "source": [
    "iJO1366"
   ]
  },
  {
   "cell_type": "code",
   "execution_count": 3,
   "metadata": {},
   "outputs": [],
   "source": [
    "def max_doubling_time(model):\n",
    "    \n",
    "    with model as m: \n",
    "        growth =  m.slim_optimize()\n",
    "    \n",
    "    if growth < 1e-6:\n",
    "        growth = 'No growth'\n",
    "    else:    \n",
    "        growth = (1.0 / growth) * 3600.0\n",
    "        if growth < 60.0:\n",
    "            growth = str(round(growth, 1)) + ' minutes'\n",
    "        else:\n",
    "            growth = growth / 60.0\n",
    "            growth = str(round(growth, 3)) + ' hours'\n",
    "            \n",
    "    print(growth)\n",
    "\n",
    "\n",
    "def collect_doubling_times(flux_samples, biomass):\n",
    "    biomass = list(flux_samples[biomass])\n",
    "    times = []\n",
    "    \n",
    "    for x in biomass:\n",
    "        growth = (1.0 / x) * 3600.0 # Calculated in minutes\n",
    "        growth = round(growth, 2)\n",
    "        times.append(growth)\n",
    "        \n",
    "    return times\n",
    "\n",
    "\n",
    "def collect_growth_rates(flux_samples, biomass):\n",
    "    biomass = list(flux_samples[biomass])\n",
    "    rates = []\n",
    "    \n",
    "    for x in biomass:\n",
    "        rate = x / 60.0\n",
    "        rate = round(rate, 3)\n",
    "        rates.append(rate)\n",
    "        \n",
    "    return rates"
   ]
  },
  {
   "cell_type": "code",
   "execution_count": 7,
   "metadata": {
    "scrolled": true
   },
   "outputs": [
    {
     "name": "stdout",
     "output_type": "stream",
     "text": [
      "34.0 minutes\n"
     ]
    }
   ],
   "source": [
    "max_doubling_time(iJO1366)"
   ]
  },
  {
   "cell_type": "markdown",
   "metadata": {},
   "source": [
    "### Flux sampling on base model"
   ]
  },
  {
   "cell_type": "code",
   "execution_count": 8,
   "metadata": {},
   "outputs": [],
   "source": [
    "# Prune blocked reactions\n",
    "flux_span = flux_variability_analysis(iJO1366, fraction_of_optimum=0.01)\n",
    "blocked_rxns = []\n",
    "for rxn_id, min_max in flux_span.iterrows():\n",
    "    if max(abs(min_max)) < 1e-6: blocked_rxns.append(rxn_id)\n",
    "for rxn in blocked_rxns: \n",
    "    iJO1366.reactions.get_by_id(rxn).remove_from_model(remove_orphans=True)"
   ]
  },
  {
   "cell_type": "code",
   "execution_count": 11,
   "metadata": {},
   "outputs": [],
   "source": [
    "# Constrain possible solutions\n",
    "obj_val = iJO1366.slim_optimize()\n",
    "obj_constraint = iJO1366.problem.Constraint(iJO1366.objective.expression, lb=obj_val*0.8, ub=obj_val)\n",
    "iJO1366.add_cons_vars([obj_constraint])\n",
    "iJO1366.solver.update()"
   ]
  },
  {
   "cell_type": "code",
   "execution_count": 13,
   "metadata": {},
   "outputs": [
    {
     "name": "stdout",
     "output_type": "stream",
     "text": [
      "[-69727.61, 92.4, 665273.68]\n"
     ]
    }
   ],
   "source": [
    "# Flux sampling of base model\n",
    "iJO1366_sampling_object = ACHRSampler(iJO1366)\n",
    "iJO1366_flux_samples = iJO1366_sampling_object.sample(5000)"
   ]
  },
  {
   "cell_type": "code",
   "execution_count": 40,
   "metadata": {},
   "outputs": [],
   "source": [
    "# Collect base model growth information\n",
    "base_rates = collect_growth_rates(iJO1366_flux_samples, 'BIOMASS_Ec_iJO1366_WT_53p95M')\n",
    "\n",
    "# Screen data against negative values\n",
    "screened_base_rates = []\n",
    "for x in base_rates:\n",
    "    if x > 0.0: \n",
    "        screened_base_rates.append(str(x))"
   ]
  },
  {
   "cell_type": "code",
   "execution_count": 42,
   "metadata": {},
   "outputs": [],
   "source": [
    "# Save times to a file\n",
    "with open('/home/mjenior/Desktop/repos/Jenior_RIPTiDe_2019/data/unconstrained_growth_rates.tsv', 'w') as rates:\n",
    "    for x in screened_base_rates: rates.write(x + '\\n')"
   ]
  },
  {
   "cell_type": "markdown",
   "metadata": {},
   "source": [
    "### Contextualizing Published Datasets"
   ]
  },
  {
   "cell_type": "code",
   "execution_count": 3,
   "metadata": {},
   "outputs": [],
   "source": [
    "# Read in transcriptomes\n",
    "\n",
    "# Data collected from:\n",
    "# Monk et al. (2016). Multi-omics Quantification of Species Variation of Escherichia coli\n",
    "# Links Molecular Features with Strain Phenotypes. Cell Systems. 3; 238–251.\n",
    "\n",
    "# Load in GPR translations\n",
    "gpr_dict = {}\n",
    "with open('/home/mjenior/Desktop/repos/Jenior_RIPTiDe_2019/data/transcript/Monk_et_al_2016/iJO1366_genes.tsv', 'r') as genes:\n",
    "    for line in genes:\n",
    "        line = line.split()\n",
    "        gpr_dict[line[1]] = line[0]\n",
    "\n",
    "# Normalized abundances\n",
    "# Separate into treatment goups and calculate medians\n",
    "m9_aerobic = {}\n",
    "m9_anaerobic = {}     \n",
    "with open('/home/mjenior/Desktop/repos/Jenior_RIPTiDe_2019/data/transcript/Monk_et_al_2016/normalized.tsv', 'r') as transcription:\n",
    "    for line in transcription:\n",
    "        line = line.split()\n",
    "        if line[0] == 'gene':\n",
    "            continue\n",
    "        else:\n",
    "            try:\n",
    "                gene = gpr_dict[line[0]]\n",
    "            except:\n",
    "                continue\n",
    "            m9_aerobic[gene] = numpy.median([int(x) for x in line[1:4]])\n",
    "            m9_anaerobic[gene] = numpy.median([int(y) for y in line[4:7]])\n",
    "\n",
    "# Rich media (LB) data from:\n",
    "# Double-stranded transcriptome of E. coli\n",
    "# Meghan Lybecker, Bob Zimmermann, Ivana Bilusic, Nadezda Tukhtubaeva, Renée Schroeder\n",
    "# Proceedings of the National Academy of Sciences Feb 2014, 111 (8) 3134-3139; DOI: 10.1073/pnas.1315974111\n",
    "lb_aerobic = {}     \n",
    "with open('/home/mjenior/Desktop/repos/Jenior_RIPTiDe_2019/data/transcript/Lybecker_2014.mapped.norm.tsv', 'r') as transcription:\n",
    "    header = transcription.readline()\n",
    "    for line in transcription: \n",
    "        line = line.split()\n",
    "        lb_aerobic[line[0]] = float(line[1])"
   ]
  },
  {
   "cell_type": "markdown",
   "metadata": {},
   "source": [
    "### Sensitivity testing for minimum objective flux"
   ]
  },
  {
   "cell_type": "code",
   "execution_count": 7,
   "metadata": {},
   "outputs": [
    {
     "name": "stdout",
     "output_type": "stream",
     "text": [
      "\n",
      "Initializing model and integrating transcriptomic data...\n",
      "Pruning zero flux subnetworks...\n",
      "Analyzing context-specific flux distributions...\n",
      "\n",
      "Reactions pruned to 445 from 2583 (82.77% change)\n",
      "Metabolites pruned to 451 from 1805 (75.01% change)\n",
      "Flux through the objective DECREASED to ~20.38 from ~105.77 (80.73% change)\n",
      "Contextualized metabolism has a concordancy of 39.0% (p<0.001) with the transcriptome\n",
      "\n",
      "RIPTiDe completed in 37 seconds\n",
      "\n",
      "\n",
      "Initializing model and integrating transcriptomic data...\n",
      "Pruning zero flux subnetworks...\n",
      "Analyzing context-specific flux distributions...\n",
      "\n",
      "Reactions pruned to 446 from 2583 (82.73% change)\n",
      "Metabolites pruned to 451 from 1805 (75.01% change)\n",
      "Flux through the objective DECREASED to ~21.99 from ~105.77 (79.21% change)\n",
      "Contextualized metabolism has a concordancy of 38.6% (p<0.001) with the transcriptome\n",
      "\n",
      "RIPTiDe completed in 36 seconds\n",
      "\n",
      "\n",
      "Initializing model and integrating transcriptomic data...\n",
      "Pruning zero flux subnetworks...\n",
      "Analyzing context-specific flux distributions...\n",
      "\n",
      "Reactions pruned to 442 from 2583 (82.89% change)\n",
      "Metabolites pruned to 447 from 1805 (75.24% change)\n",
      "Flux through the objective DECREASED to ~32.54 from ~105.77 (69.24% change)\n",
      "Contextualized metabolism has a concordancy of 37.6% (p<0.001) with the transcriptome\n",
      "\n",
      "RIPTiDe completed in 36 seconds\n",
      "\n",
      "\n",
      "Initializing model and integrating transcriptomic data...\n",
      "Pruning zero flux subnetworks...\n",
      "Analyzing context-specific flux distributions...\n",
      "\n",
      "Reactions pruned to 441 from 2583 (82.93% change)\n",
      "Metabolites pruned to 446 from 1805 (75.29% change)\n",
      "Flux through the objective DECREASED to ~45.52 from ~105.77 (56.96% change)\n",
      "Contextualized metabolism has a concordancy of 35.5% (p<0.001) with the transcriptome\n",
      "\n",
      "RIPTiDe completed in 36 seconds\n",
      "\n",
      "\n",
      "Initializing model and integrating transcriptomic data...\n",
      "Pruning zero flux subnetworks...\n",
      "Analyzing context-specific flux distributions...\n",
      "\n",
      "Reactions pruned to 451 from 2583 (82.54% change)\n",
      "Metabolites pruned to 455 from 1805 (74.79% change)\n",
      "Flux through the objective DECREASED to ~56.28 from ~105.77 (46.79% change)\n",
      "Contextualized metabolism has a concordancy of 36.4% (p<0.001) with the transcriptome\n",
      "\n",
      "RIPTiDe completed in 37 seconds\n",
      "\n",
      "\n",
      "Initializing model and integrating transcriptomic data...\n",
      "Pruning zero flux subnetworks...\n",
      "Analyzing context-specific flux distributions...\n",
      "\n",
      "Reactions pruned to 453 from 2583 (82.46% change)\n",
      "Metabolites pruned to 454 from 1805 (74.85% change)\n",
      "Flux through the objective DECREASED to ~62.7 from ~105.77 (40.72% change)\n",
      "Contextualized metabolism has a concordancy of 37.4% (p<0.001) with the transcriptome\n",
      "\n",
      "RIPTiDe completed in 54 seconds\n",
      "\n",
      "\n",
      "Initializing model and integrating transcriptomic data...\n",
      "Pruning zero flux subnetworks...\n",
      "Analyzing context-specific flux distributions...\n",
      "\n",
      "Reactions pruned to 463 from 2583 (82.08% change)\n",
      "Metabolites pruned to 462 from 1805 (74.4% change)\n",
      "Flux through the objective DECREASED to ~75.81 from ~105.77 (28.33% change)\n",
      "Contextualized metabolism has a concordancy of 35.0% (p<0.001) with the transcriptome\n",
      "\n",
      "RIPTiDe completed in 37 seconds\n",
      "\n",
      "\n",
      "Initializing model and integrating transcriptomic data...\n",
      "Pruning zero flux subnetworks...\n",
      "Analyzing context-specific flux distributions...\n",
      "\n",
      "Reactions pruned to 485 from 2583 (81.22% change)\n",
      "Metabolites pruned to 481 from 1805 (73.35% change)\n",
      "Flux through the objective DECREASED to ~85.9 from ~105.77 (18.79% change)\n",
      "Contextualized metabolism has a concordancy of 33.9% (p<0.001) with the transcriptome\n",
      "\n",
      "RIPTiDe completed in 1 minutes and 2 seconds\n",
      "\n",
      "\n",
      "Initializing model and integrating transcriptomic data...\n",
      "Pruning zero flux subnetworks...\n",
      "Analyzing context-specific flux distributions...\n",
      "\n",
      "Reactions pruned to 524 from 2583 (79.71% change)\n",
      "Metabolites pruned to 516 from 1805 (71.41% change)\n",
      "Flux through the objective DECREASED to ~94.7 from ~105.77 (10.47% change)\n",
      "Contextualized metabolism has a concordancy of 16.9% (p<0.001) with the transcriptome\n",
      "\n",
      "RIPTiDe completed in 1 minutes and 8 seconds\n",
      "\n",
      "\n",
      "Initializing model and integrating transcriptomic data...\n",
      "Pruning zero flux subnetworks...\n",
      "Analyzing context-specific flux distributions...\n"
     ]
    },
    {
     "ename": "ValueError",
     "evalue": "Cannot take a larger sample than population when 'replace=False'",
     "output_type": "error",
     "traceback": [
      "\u001b[0;31m---------------------------------------------------------------------------\u001b[0m",
      "\u001b[0;31mValueError\u001b[0m                                Traceback (most recent call last)",
      "\u001b[0;32m<ipython-input-7-f0c0ed0ab6c2>\u001b[0m in \u001b[0;36m<module>\u001b[0;34m\u001b[0m\n\u001b[1;32m      8\u001b[0m \u001b[0miJO1366_80\u001b[0m \u001b[0;34m=\u001b[0m \u001b[0mriptide\u001b[0m\u001b[0;34m.\u001b[0m\u001b[0mcontextualize\u001b[0m\u001b[0;34m(\u001b[0m\u001b[0miJO1366\u001b[0m\u001b[0;34m,\u001b[0m \u001b[0mtranscriptome\u001b[0m\u001b[0;34m=\u001b[0m\u001b[0mm9_aerobic\u001b[0m\u001b[0;34m,\u001b[0m \u001b[0mfraction\u001b[0m \u001b[0;34m=\u001b[0m \u001b[0;36m0.8\u001b[0m\u001b[0;34m)\u001b[0m\u001b[0;34m\u001b[0m\u001b[0m\n\u001b[1;32m      9\u001b[0m \u001b[0miJO1366_90\u001b[0m \u001b[0;34m=\u001b[0m \u001b[0mriptide\u001b[0m\u001b[0;34m.\u001b[0m\u001b[0mcontextualize\u001b[0m\u001b[0;34m(\u001b[0m\u001b[0miJO1366\u001b[0m\u001b[0;34m,\u001b[0m \u001b[0mtranscriptome\u001b[0m\u001b[0;34m=\u001b[0m\u001b[0mm9_aerobic\u001b[0m\u001b[0;34m,\u001b[0m \u001b[0mfraction\u001b[0m \u001b[0;34m=\u001b[0m \u001b[0;36m0.9\u001b[0m\u001b[0;34m)\u001b[0m\u001b[0;34m\u001b[0m\u001b[0m\n\u001b[0;32m---> 10\u001b[0;31m \u001b[0miJO1366_100\u001b[0m \u001b[0;34m=\u001b[0m \u001b[0mriptide\u001b[0m\u001b[0;34m.\u001b[0m\u001b[0mcontextualize\u001b[0m\u001b[0;34m(\u001b[0m\u001b[0miJO1366\u001b[0m\u001b[0;34m,\u001b[0m \u001b[0mtranscriptome\u001b[0m\u001b[0;34m=\u001b[0m\u001b[0mm9_aerobic\u001b[0m\u001b[0;34m,\u001b[0m \u001b[0mfraction\u001b[0m \u001b[0;34m=\u001b[0m \u001b[0;36m1.0\u001b[0m\u001b[0;34m)\u001b[0m\u001b[0;34m\u001b[0m\u001b[0m\n\u001b[0m",
      "\u001b[0;32m~/.local/lib/python3.6/site-packages/riptide/riptide.py\u001b[0m in \u001b[0;36mcontextualize\u001b[0;34m(model, transcriptome, samples, norm, fraction, minimum, conservative, objective, set_bounds, include, exclude)\u001b[0m\n\u001b[1;32m    120\u001b[0m     \u001b[0;31m# Find optimal solution space based on transcription and final constraints\u001b[0m\u001b[0;34m\u001b[0m\u001b[0;34m\u001b[0m\u001b[0m\n\u001b[1;32m    121\u001b[0m     \u001b[0mprint\u001b[0m\u001b[0;34m(\u001b[0m\u001b[0;34m'Analyzing context-specific flux distributions...'\u001b[0m\u001b[0;34m)\u001b[0m\u001b[0;34m\u001b[0m\u001b[0m\n\u001b[0;32m--> 122\u001b[0;31m     \u001b[0mflux_samples\u001b[0m\u001b[0;34m,\u001b[0m \u001b[0mfva_result\u001b[0m\u001b[0;34m,\u001b[0m \u001b[0mconcordance\u001b[0m \u001b[0;34m=\u001b[0m \u001b[0m_constrain_and_analyze_model\u001b[0m\u001b[0;34m(\u001b[0m\u001b[0mriptide_model\u001b[0m\u001b[0;34m,\u001b[0m \u001b[0mcoefficient_dict\u001b[0m\u001b[0;34m,\u001b[0m \u001b[0mfraction\u001b[0m\u001b[0;34m,\u001b[0m \u001b[0msamples\u001b[0m\u001b[0;34m,\u001b[0m \u001b[0mobjective\u001b[0m\u001b[0;34m)\u001b[0m\u001b[0;34m\u001b[0m\u001b[0m\n\u001b[0m\u001b[1;32m    123\u001b[0m     \u001b[0mriptide_object\u001b[0m\u001b[0;34m.\u001b[0m\u001b[0mflux_samples\u001b[0m \u001b[0;34m=\u001b[0m \u001b[0mflux_samples\u001b[0m\u001b[0;34m\u001b[0m\u001b[0m\n\u001b[1;32m    124\u001b[0m     \u001b[0mriptide_object\u001b[0m\u001b[0;34m.\u001b[0m\u001b[0mflux_variability\u001b[0m \u001b[0;34m=\u001b[0m \u001b[0mfva_result\u001b[0m\u001b[0;34m\u001b[0m\u001b[0m\n",
      "\u001b[0;32m~/.local/lib/python3.6/site-packages/riptide/riptide.py\u001b[0m in \u001b[0;36m_constrain_and_analyze_model\u001b[0;34m(model, coefficient_dict, fraction, sampling_depth, objective)\u001b[0m\n\u001b[1;32m    278\u001b[0m \u001b[0;34m\u001b[0m\u001b[0m\n\u001b[1;32m    279\u001b[0m             \u001b[0;31m# Analyze flux ranges\u001b[0m\u001b[0;34m\u001b[0m\u001b[0;34m\u001b[0m\u001b[0m\n\u001b[0;32m--> 280\u001b[0;31m             \u001b[0mflux_samples\u001b[0m \u001b[0;34m=\u001b[0m \u001b[0m_gapsplit\u001b[0m\u001b[0;34m(\u001b[0m\u001b[0mconstrained_model\u001b[0m\u001b[0;34m,\u001b[0m \u001b[0mn\u001b[0m\u001b[0;34m=\u001b[0m\u001b[0msampling_depth\u001b[0m\u001b[0;34m)\u001b[0m\u001b[0;34m\u001b[0m\u001b[0m\n\u001b[0m\u001b[1;32m    281\u001b[0m             \u001b[0mfva\u001b[0m \u001b[0;34m=\u001b[0m \u001b[0mflux_variability_analysis\u001b[0m\u001b[0;34m(\u001b[0m\u001b[0mconstrained_model\u001b[0m\u001b[0;34m,\u001b[0m \u001b[0mfraction_of_optimum\u001b[0m\u001b[0;34m=\u001b[0m\u001b[0mfraction\u001b[0m\u001b[0;34m)\u001b[0m\u001b[0;34m\u001b[0m\u001b[0m\n\u001b[1;32m    282\u001b[0m \u001b[0;34m\u001b[0m\u001b[0m\n",
      "\u001b[0;32m~/.local/lib/python3.6/site-packages/riptide/riptide.py\u001b[0m in \u001b[0;36m_gapsplit\u001b[0;34m(model, n, max_tries, primary_tol, secondary_frac, min_range, enforce_range)\u001b[0m\n\u001b[1;32m    504\u001b[0m         \u001b[0mprimary_ub\u001b[0m \u001b[0;34m=\u001b[0m \u001b[0mprimary_target\u001b[0m \u001b[0;34m+\u001b[0m \u001b[0mprimary_tol\u001b[0m\u001b[0;34m*\u001b[0m\u001b[0mwidth\u001b[0m\u001b[0;34m[\u001b[0m\u001b[0mprimary_var\u001b[0m\u001b[0;34m]\u001b[0m\u001b[0;34m\u001b[0m\u001b[0m\n\u001b[1;32m    505\u001b[0m \u001b[0;34m\u001b[0m\u001b[0m\n\u001b[0;32m--> 506\u001b[0;31m         \u001b[0msecondary_vars\u001b[0m \u001b[0;34m=\u001b[0m \u001b[0mnumpy\u001b[0m\u001b[0;34m.\u001b[0m\u001b[0mrandom\u001b[0m\u001b[0;34m.\u001b[0m\u001b[0mchoice\u001b[0m\u001b[0;34m(\u001b[0m\u001b[0mlen\u001b[0m\u001b[0;34m(\u001b[0m\u001b[0midxs\u001b[0m\u001b[0;34m)\u001b[0m\u001b[0;34m,\u001b[0m \u001b[0mn_secondary\u001b[0m\u001b[0;34m,\u001b[0m \u001b[0mreplace\u001b[0m\u001b[0;34m=\u001b[0m\u001b[0;32mFalse\u001b[0m\u001b[0;34m)\u001b[0m\u001b[0;34m\u001b[0m\u001b[0m\n\u001b[0m\u001b[1;32m    507\u001b[0m         \u001b[0msecondary_targets\u001b[0m \u001b[0;34m=\u001b[0m \u001b[0mtarget\u001b[0m\u001b[0;34m[\u001b[0m\u001b[0msecondary_vars\u001b[0m\u001b[0;34m]\u001b[0m\u001b[0;34m\u001b[0m\u001b[0m\n\u001b[1;32m    508\u001b[0m         \u001b[0msecondary_weights\u001b[0m \u001b[0;34m=\u001b[0m \u001b[0mweights\u001b[0m\u001b[0;34m[\u001b[0m\u001b[0midxs\u001b[0m\u001b[0;34m[\u001b[0m\u001b[0msecondary_vars\u001b[0m\u001b[0;34m]\u001b[0m\u001b[0;34m]\u001b[0m\u001b[0;34m\u001b[0m\u001b[0m\n",
      "\u001b[0;32mmtrand.pyx\u001b[0m in \u001b[0;36mnumpy.random.mtrand.RandomState.choice\u001b[0;34m()\u001b[0m\n",
      "\u001b[0;31mValueError\u001b[0m: Cannot take a larger sample than population when 'replace=False'"
     ]
    }
   ],
   "source": [
    "iJO1366_10 = riptide.contextualize(iJO1366, transcriptome=m9_aerobic, fraction = 0.1)\n",
    "iJO1366_20 = riptide.contextualize(iJO1366, transcriptome=m9_aerobic, fraction = 0.2)\n",
    "iJO1366_30 = riptide.contextualize(iJO1366, transcriptome=m9_aerobic, fraction = 0.3)\n",
    "iJO1366_40 = riptide.contextualize(iJO1366, transcriptome=m9_aerobic, fraction = 0.4)\n",
    "iJO1366_50 = riptide.contextualize(iJO1366, transcriptome=m9_aerobic, fraction = 0.5)\n",
    "iJO1366_60 = riptide.contextualize(iJO1366, transcriptome=m9_aerobic, fraction = 0.6)\n",
    "iJO1366_70 = riptide.contextualize(iJO1366, transcriptome=m9_aerobic, fraction = 0.7)\n",
    "iJO1366_80 = riptide.contextualize(iJO1366, transcriptome=m9_aerobic, fraction = 0.8)\n",
    "iJO1366_90 = riptide.contextualize(iJO1366, transcriptome=m9_aerobic, fraction = 0.9)"
   ]
  },
  {
   "cell_type": "markdown",
   "metadata": {},
   "source": [
    "### Comparing to exchanged-constrained pFBA"
   ]
  },
  {
   "cell_type": "code",
   "execution_count": 4,
   "metadata": {},
   "outputs": [],
   "source": [
    "# Set M9 media components + cofactors\n",
    "iJO1366_m9 = copy.deepcopy(iJO1366)\n",
    "\n",
    "#minimal_medium(iJO1366_m9, 0.1, minimize_components=True)\n",
    "\n",
    "m9_components = ['EX_o2_e', \n",
    "                 'EX_glc__D_e', \n",
    "                 'EX_mg2_e', \n",
    "                 'EX_so4_e', \n",
    "                 'EX_ca2_e', \n",
    "                 'EX_cl_e', \n",
    "                 'EX_ca2_e', \n",
    "                 'EX_h2o_e', \n",
    "                 'EX_na1_e', \n",
    "                 'EX_k_e', \n",
    "                 'EX_h_e', \n",
    "                 'EX_pi_e', \n",
    "                 'EX_nh4_e',\n",
    "                 \n",
    "                 # Trace co-factors (essential)\n",
    "                 'EX_adocbl_e',\n",
    "                 'EX_cobalt2_e',\n",
    "                 'EX_cu2_e',\n",
    "                 'EX_fe3dcit_e',\n",
    "                 'EX_mn2_e',\n",
    "                 'EX_mobd_e',\n",
    "                 'EX_ni2_e',\n",
    "                 'EX_zn2_e']\n",
    "\n",
    "# Close non-defined exchanges and collect reactants\n",
    "m9_substrates = []\n",
    "for rxn in exchanges:\n",
    "    if not rxn in m9_components:\n",
    "        iJO1366_m9.reactions.get_by_id(rxn).bounds = (0., max(iJO1366_m9.reactions.get_by_id(rxn).upper_bound, 1000.))\n",
    "    else:\n",
    "        m9_substrates.append(iJO1366_m9.reactions.get_by_id(rxn).reactants[0].id)\n",
    "m9_substrates = set(m9_substrates)"
   ]
  },
  {
   "cell_type": "code",
   "execution_count": 5,
   "metadata": {},
   "outputs": [],
   "source": [
    "# Constrain objective flux\n",
    "\n",
    "# Base model\n",
    "iJO1366_max = copy.deepcopy(iJO1366)\n",
    "prev_obj_val = iJO1366_max.slim_optimize()\n",
    "prev_obj_constraint = iJO1366_max.problem.Constraint(iJO1366_max.objective.expression, lb=prev_obj_val*0.8, ub=prev_obj_val)\n",
    "iJO1366_max.add_cons_vars([prev_obj_constraint])\n",
    "iJO1366_max.solver.update()\n",
    "\n",
    "# M9 constraints\n",
    "iJO1366_m9_max = copy.deepcopy(iJO1366_m9)\n",
    "prev_obj_val = iJO1366_m9_max.slim_optimize()\n",
    "prev_obj_constraint = iJO1366_m9_max.problem.Constraint(iJO1366_m9_max.objective.expression, lb=prev_obj_val*0.8, ub=prev_obj_val)\n",
    "iJO1366_m9_max.add_cons_vars([prev_obj_constraint])\n",
    "iJO1366_m9_max.solver.update()"
   ]
  },
  {
   "cell_type": "code",
   "execution_count": 7,
   "metadata": {},
   "outputs": [],
   "source": [
    "# gapsplit flux sampler\n",
    "# Keaty TC & Jensen PA (2019). gapsplit: Efficient random sampling for non-convex constraint-based models.\n",
    "# bioRxiv 652917; doi: https://doi.org/10.1101/652917 \n",
    "\n",
    "def gapsplit(model, n=500):\n",
    "\n",
    "    # Define a few more variables\n",
    "    max_tries=1000\n",
    "    primary_tol=0.001\n",
    "    secondary_frac=0.05\n",
    "    min_range=1e-5\n",
    "    enforce_range=True\n",
    "\n",
    "    reactions = model.reactions\n",
    "    fva = flux_variability_analysis(model, reactions, fraction_of_optimum=0.001)\n",
    "\n",
    "    if secondary_frac >= 1.0:\n",
    "        n_secondary = secondary_frac\n",
    "    else:\n",
    "        n_secondary = numpy.floor(secondary_frac * len(model.reactions)).astype(int)\n",
    "\n",
    "    idxs = (fva.maximum - fva.minimum >= min_range).to_numpy().nonzero()[0]\n",
    "    weights = (1.0 / (fva.maximum - fva.minimum) ** 2).to_numpy()\n",
    "\n",
    "    samples = numpy.zeros((n, len(model.reactions)))\n",
    "    k = 0\n",
    "    infeasible_count = 0\n",
    "\n",
    "    for try_ in range(max_tries):\n",
    "        relative, target, width = maxgap(samples[0:k,idxs], fva.iloc[idxs,:])\n",
    "        \n",
    "        primary_var = numpy.argmax(relative)\n",
    "        primary_target = target[primary_var]\n",
    "        primary_lb = primary_target - primary_tol*width[primary_var]\n",
    "        primary_ub = primary_target + primary_tol*width[primary_var]\n",
    "\n",
    "        secondary_vars = numpy.random.choice(len(idxs), n_secondary, replace=False)\n",
    "        secondary_targets = target[secondary_vars]\n",
    "        secondary_weights = weights[idxs[secondary_vars]]\n",
    "\n",
    "        new_sample = generate_sample(\n",
    "            model, idxs[primary_var], primary_lb, primary_ub,\n",
    "            idxs[secondary_vars], secondary_targets, secondary_weights)\n",
    "        if new_sample is not None:\n",
    "            if enforce_range:\n",
    "                new_sample[new_sample > fva.maximum] = fva.maximum[new_sample > fva.maximum]\n",
    "                new_sample[new_sample < fva.minimum] = fva.minimum[new_sample < fva.minimum]\n",
    "\n",
    "            samples[k,:] = new_sample\n",
    "            k += 1\n",
    "        else:\n",
    "            infeasible_count += 1\n",
    "\n",
    "        if k >= n: break\n",
    "\n",
    "    if k < n:\n",
    "        samples = samples[:k,:]\n",
    "    return pandas.DataFrame(data=samples,columns=fva.maximum.index)\n",
    "\n",
    "\n",
    "def generate_sample(\n",
    "        model, primary_var, primary_lb, primary_ub,\n",
    "        secondary_vars=None, secondary_targets=None, secondary_weights=None):\n",
    "    with model:\n",
    "        model.reactions[primary_var].lower_bound = primary_lb\n",
    "        model.reactions[primary_var].upper_bound = primary_ub\n",
    "        model.objective = symengine.RealDouble(0)\n",
    "        solution = model.optimize()\n",
    "        if solution.status != 'optimal':\n",
    "            return None\n",
    "        else:\n",
    "            return solution.fluxes\n",
    "\n",
    "\n",
    "def maxgap(points, fva):\n",
    "    points = points.copy()\n",
    "    points = numpy.vstack((fva.minimum, points, fva.maximum))\n",
    "    points.sort(0)\n",
    "\n",
    "    gaps = points[1:,:] - points[0:-1,:]\n",
    "    width = gaps.max(0)\n",
    "    loc = gaps.argmax(0)\n",
    "    left = numpy.zeros(width.size)\n",
    "    for i in range(width.size):\n",
    "        left[i] = points[loc[i],i]\n",
    "\n",
    "    relative = width / (points[-1,:] - points[0,:])\n",
    "    target = left + width / 2.0\n",
    "    \n",
    "    \n",
    "    return relative, target, width\n"
   ]
  },
  {
   "cell_type": "code",
   "execution_count": 8,
   "metadata": {},
   "outputs": [],
   "source": [
    "# Flux sample unconstrained base model\n",
    "raw_flux_samples = gapsplit(iJO1366)"
   ]
  },
  {
   "cell_type": "code",
   "execution_count": 9,
   "metadata": {},
   "outputs": [],
   "source": [
    "# Flux sample M9-constrained base model\n",
    "raw_m9_flux_samples = gapsplit(iJO1366_m9)"
   ]
  },
  {
   "cell_type": "code",
   "execution_count": 10,
   "metadata": {},
   "outputs": [],
   "source": [
    "# Flux sample objective flux constrained, M9-constrained model\n",
    "max_m9_flux_samples = gapsplit(iJO1366_m9_max)"
   ]
  },
  {
   "cell_type": "code",
   "execution_count": 11,
   "metadata": {},
   "outputs": [],
   "source": [
    "# Flux sample objective flux constrained\n",
    "max_flux_samples = gapsplit(iJO1366_max)"
   ]
  },
  {
   "cell_type": "code",
   "execution_count": 12,
   "metadata": {},
   "outputs": [
    {
     "name": "stdout",
     "output_type": "stream",
     "text": [
      "\n",
      "Initializing model and integrating transcriptomic data...\n",
      "Pruning zero flux subnetworks...\n",
      "Analyzing context-specific flux distributions...\n",
      "\n",
      "Reactions pruned to 485 from 2583 (81.22% change)\n",
      "Metabolites pruned to 481 from 1805 (73.35% change)\n",
      "Flux through the objective DECREASED to ~85.9 from ~105.77 (18.79% change)\n",
      "Context-specific metabolism correlates with transcriptome (p<<0.001 ***)\n",
      "\n",
      "RIPTiDe completed in 1 minutes and 33 seconds\n",
      "\n"
     ]
    }
   ],
   "source": [
    "# Get RIPTiDe flux samples without exchange constraints\n",
    "iJO1366_m9_riptide = riptide.contextualize(iJO1366, transcriptome=m9_aerobic)\n",
    "riptide_m9_flux_samples = iJO1366_m9_riptide.flux_samples"
   ]
  },
  {
   "cell_type": "code",
   "execution_count": 13,
   "metadata": {},
   "outputs": [
    {
     "name": "stdout",
     "output_type": "stream",
     "text": [
      "\n",
      "Initializing model and integrating transcriptomic data...\n",
      "Pruning zero flux subnetworks...\n",
      "Analyzing context-specific flux distributions...\n",
      "\n",
      "Reactions pruned to 557 from 2583 (78.44% change)\n",
      "Metabolites pruned to 561 from 1805 (68.92% change)\n",
      "Flux through the objective DECREASED to ~31.22 from ~39.66 (21.28% change)\n",
      "Context-specific metabolism correlates with transcriptome (p<<0.001 ***)\n",
      "\n",
      "RIPTiDe completed in 1 minutes and 15 seconds\n",
      "\n"
     ]
    }
   ],
   "source": [
    "# Get RIPTiDe flux samples with M9 constraints\n",
    "iJO1366_m9_riptide_media = riptide.contextualize(iJO1366_m9, transcriptome=m9_aerobic)\n",
    "riptide_m9_media_flux_samples = iJO1366_m9_riptide_media.flux_samples"
   ]
  },
  {
   "cell_type": "code",
   "execution_count": 16,
   "metadata": {},
   "outputs": [],
   "source": [
    "# Subset to just exchange levels and write to files\n",
    "exchanges_x = set([x.id for x in iJO1366_m9_riptide_media.model.reactions if 'EX_' in x.id])\n",
    "exchanges_y = set([y.id for y in iJO1366_m9_riptide.model.reactions if 'EX_' in y.id])\n",
    "exchanges = exchanges_x.intersection(exchanges_y)\n",
    "\n",
    "raw_flux_samples = raw_flux_samples.loc[0:, exchanges]\n",
    "raw_m9_flux_samples = raw_m9_flux_samples.loc[0:, exchanges]\n",
    "max_m9_flux_samples = max_m9_flux_samples.loc[0:, exchanges]\n",
    "max_flux_samples = max_flux_samples.loc[0:, exchanges]\n",
    "riptide_m9_media_flux_samples = riptide_m9_media_flux_samples.loc[0:, exchanges]\n",
    "riptide_m9_flux_samples = riptide_m9_flux_samples.loc[0:, exchanges]\n",
    "\n",
    "raw_flux_samples.to_csv('/home/mjenior/Desktop/repos/Jenior_RIPTiDe_2019/data/flux_samples/exchanges/raw.iJO1366.exchange_fluxes.tsv', sep='\\t')\n",
    "raw_m9_flux_samples.to_csv('/home/mjenior/Desktop/repos/Jenior_RIPTiDe_2019/data/flux_samples/exchanges/raw_m9.iJO1366.exchange_fluxes.tsv', sep='\\t')\n",
    "max_m9_flux_samples.to_csv('/home/mjenior/Desktop/repos/Jenior_RIPTiDe_2019/data/flux_samples/exchanges/max_m9.iJO1366.exchange_fluxes.tsv', sep='\\t')\n",
    "max_flux_samples.to_csv('/home/mjenior/Desktop/repos/Jenior_RIPTiDe_2019/data/flux_samples/exchanges/max.iJO1366.exchange_fluxes.tsv', sep='\\t')\n",
    "riptide_m9_media_flux_samples.to_csv('/home/mjenior/Desktop/repos/Jenior_RIPTiDe_2019/data/flux_samples/exchanges/riptide_m9.iJO1366.exchange_fluxes.tsv', sep='\\t')\n",
    "riptide_m9_flux_samples.to_csv('/home/mjenior/Desktop/repos/Jenior_RIPTiDe_2019/data/flux_samples/exchanges/riptide.iJO1366.exchange_fluxes.tsv', sep='\\t')"
   ]
  },
  {
   "cell_type": "markdown",
   "metadata": {},
   "source": [
    "### Comparing across conditions"
   ]
  },
  {
   "cell_type": "code",
   "execution_count": 12,
   "metadata": {
    "scrolled": true
   },
   "outputs": [
    {
     "name": "stdout",
     "output_type": "stream",
     "text": [
      "\n",
      "Initializing model and integrating transcriptomic data...\n",
      "Pruning zero flux subnetworks...\n",
      "Analyzing context-specific flux distributions...\n",
      "\n",
      "Reactions pruned to 485 from 2583 (81.22% change)\n",
      "Metabolites pruned to 481 from 1805 (73.35% change)\n",
      "Flux through the objective DECREASED to ~85.9 from ~105.77 (18.79% change)\n",
      "Context-specific metabolism correlates with transcriptome (p<<0.001 ***)\n",
      "\n",
      "RIPTiDe completed in 1 minutes and 50 seconds\n",
      "\n"
     ]
    }
   ],
   "source": [
    "# Aerobic growth in M9 + glucose\n",
    "iJO1366_m9_aerobic = riptide.contextualize(iJO1366, transcriptome=m9_aerobic)"
   ]
  },
  {
   "cell_type": "code",
   "execution_count": null,
   "metadata": {},
   "outputs": [],
   "source": []
  },
  {
   "cell_type": "code",
   "execution_count": null,
   "metadata": {},
   "outputs": [],
   "source": []
  },
  {
   "cell_type": "code",
   "execution_count": 13,
   "metadata": {},
   "outputs": [
    {
     "name": "stdout",
     "output_type": "stream",
     "text": [
      "\n",
      "Initializing model and integrating transcriptomic data...\n",
      "Pruning zero flux subnetworks...\n",
      "Analyzing context-specific flux distributions...\n",
      "\n",
      "Reactions pruned to 491 from 2583 (80.99% change)\n",
      "Metabolites pruned to 491 from 1805 (72.8% change)\n",
      "Flux through the objective DECREASED to ~86.8 from ~105.76 (17.93% change)\n",
      "Context-specific metabolism correlates with transcriptome (p<<0.001 ***)\n",
      "\n",
      "RIPTiDe completed in 2 minutes and 12 seconds\n",
      "\n"
     ]
    }
   ],
   "source": [
    "# Anaerobic growth in M9 + glucose\n",
    "iJO1366.reactions.get_by_id('EX_o2_e').lower_bound = 0.0 # make anaerobic\n",
    "iJO1366_m9_anaerobic = riptide.contextualize(iJO1366, transcriptome=m9_anaerobic)\n",
    "iJO1366.reactions.get_by_id('EX_o2_e').lower_bound = -1000.0 # revert change"
   ]
  },
  {
   "cell_type": "code",
   "execution_count": 14,
   "metadata": {},
   "outputs": [
    {
     "name": "stdout",
     "output_type": "stream",
     "text": [
      "\n",
      "Initializing model and integrating transcriptomic data...\n",
      "Pruning zero flux subnetworks...\n",
      "Analyzing context-specific flux distributions...\n",
      "\n",
      "Reactions pruned to 455 from 2583 (82.38% change)\n",
      "Metabolites pruned to 456 from 1805 (74.74% change)\n",
      "Flux through the objective DECREASED to ~86.58 from ~105.77 (18.14% change)\n",
      "Context-specific metabolism correlates with transcriptome (p<<0.001 ***)\n",
      "\n",
      "RIPTiDe completed in 2 minutes and 2 seconds\n",
      "\n"
     ]
    }
   ],
   "source": [
    "# Aerobic growth in LB\n",
    "iJO1366_lb_aerobic = riptide.contextualize(iJO1366, transcriptome=lb_aerobic)"
   ]
  },
  {
   "cell_type": "code",
   "execution_count": 10,
   "metadata": {},
   "outputs": [
    {
     "name": "stdout",
     "output_type": "stream",
     "text": [
      "\n",
      "Initializing model and integrating transcriptomic data...\n",
      "Pruning zero flux subnetworks...\n",
      "Analyzing context-specific flux distributions...\n",
      "\n",
      "Reactions pruned to 453 from 2583 (82.46% change)\n",
      "Metabolites pruned to 453 from 1805 (74.9% change)\n",
      "Flux through the objective DECREASED to ~86.89 from ~105.77 (17.85% change)\n",
      "\n",
      "RIPTiDe completed in 1 minutes and 33 seconds\n",
      "\n"
     ]
    }
   ],
   "source": [
    "# Compare to base implementation of pFBA\n",
    "# All coefficients set to 1.0\n",
    "pfba_transcriptome = {}\n",
    "for gene in lb_aerobic.keys(): pfba_transcriptome[gene] = 1.0\n",
    "iJO1366_pfba = riptide.contextualize(iJO1366, transcriptome=pfba_transcriptome)"
   ]
  },
  {
   "cell_type": "code",
   "execution_count": 24,
   "metadata": {},
   "outputs": [],
   "source": [
    "# Compares lists to create diagrams for 4 groups\n",
    "def venn_comparison(list1, list2, list3, list4):\n",
    "        \n",
    "    # Confirm correct data types\n",
    "    list1 = set(list1)\n",
    "    list2 = set(list2)\n",
    "    list3 = set(list3)\n",
    "    list4 = set(list4)\n",
    "    \n",
    "    # Identify exclusive elements\n",
    "    list1_only = list1.difference(list2)\n",
    "    list1_only = list1_only.difference(list3)\n",
    "    list1_only = list1_only.difference(list4)\n",
    "    list2_only = list2.difference(list1)\n",
    "    list2_only = list2_only.difference(list3)\n",
    "    list2_only = list2_only.difference(list4)\n",
    "    list3_only = list3.difference(list1)\n",
    "    list3_only = list3_only.difference(list2)\n",
    "    list3_only = list3_only.difference(list4)\n",
    "    list4_only = list4.difference(list1)\n",
    "    list4_only = list4_only.difference(list2)\n",
    "    list4_only = list4_only.difference(list3)\n",
    "\n",
    "    # Find overlap between just 2 groups\n",
    "    list1_list2_overlap = list1.intersection(list2)\n",
    "    list1_list2_overlap = list1_list2_overlap.difference(list3)\n",
    "    list1_list2_overlap = list1_list2_overlap.difference(list4)\n",
    "    list1_list3_overlap = list1.intersection(list3)\n",
    "    list1_list3_overlap = list1_list3_overlap.difference(list2)\n",
    "    list1_list3_overlap = list1_list3_overlap.difference(list4)\n",
    "    list1_list4_overlap = list1.intersection(list4)\n",
    "    list1_list4_overlap = list1_list4_overlap.difference(list2)\n",
    "    list1_list4_overlap = list1_list4_overlap.difference(list3)\n",
    "    list2_list3_overlap = list2.intersection(list3)\n",
    "    list2_list3_overlap = list2_list3_overlap.difference(list1)\n",
    "    list2_list3_overlap = list2_list3_overlap.difference(list4)\n",
    "    list2_list4_overlap = list2.intersection(list4)\n",
    "    list2_list4_overlap = list2_list4_overlap.difference(list1)\n",
    "    list2_list4_overlap = list2_list4_overlap.difference(list3)\n",
    "    list3_list4_overlap = list3.intersection(list4)\n",
    "    list3_list4_overlap = list3_list4_overlap.difference(list1)\n",
    "    list3_list4_overlap = list3_list4_overlap.difference(list2)\n",
    "\n",
    "    # Find overlap in 3 groups\n",
    "    list1_list2_list3_overlap = list1.intersection(list2)\n",
    "    list1_list2_list3_overlap = list1_list2_list3_overlap.intersection(list3)\n",
    "    list1_list2_list3_overlap = list1_list2_list3_overlap.difference(list4)\n",
    "    list1_list2_list4_overlap = list1.intersection(list2)\n",
    "    list1_list2_list4_overlap = list1_list2_list4_overlap.intersection(list4)\n",
    "    list1_list2_list4_overlap = list1_list2_list4_overlap.difference(list3)\n",
    "    list1_list3_list4_overlap = list1.intersection(list3)\n",
    "    list1_list3_list4_overlap = list1_list3_list4_overlap.intersection(list4)\n",
    "    list1_list3_list4_overlap = list1_list3_list4_overlap.difference(list2)\n",
    "    list2_list3_list4_overlap = list2.intersection(list3)\n",
    "    list2_list3_list4_overlap = list2_list3_list4_overlap.intersection(list4)\n",
    "    list2_list3_list4_overlap = list2_list3_list4_overlap.difference(list1)\n",
    "    \n",
    "    # Find overlap between all groups\n",
    "    all_list_overlap = list1.intersection(list2)\n",
    "    all_list_overlap = all_list_overlap.intersection(list3)\n",
    "    all_list_overlap = all_list_overlap.intersection(list4)\n",
    "    \n",
    "    # Calculate totals in each group\n",
    "    list1_total = float(len(list1))\n",
    "    list2_total = float(len(list2))\n",
    "    list3_total = float(len(list3))\n",
    "    list4_total = float(len(list4))\n",
    "    list1_only_total = float(len(list1_only))\n",
    "    list2_only_total = float(len(list2_only))\n",
    "    list3_only_total = float(len(list3_only))\n",
    "    list4_only_total = float(len(list4_only))\n",
    "    list1_list2_overlap_total = float(len(list1_list2_overlap))\n",
    "    list1_list3_overlap_total = float(len(list1_list3_overlap))\n",
    "    list1_list4_overlap_total = float(len(list1_list4_overlap))\n",
    "    list2_list3_overlap_total = float(len(list2_list3_overlap))\n",
    "    list2_list4_overlap_total = float(len(list2_list4_overlap))\n",
    "    list3_list4_overlap_total = float(len(list3_list4_overlap))\n",
    "    list1_list2_list3_overlap_total = float(len(list1_list2_list3_overlap))\n",
    "    list1_list2_list4_overlap_total = float(len(list1_list2_list4_overlap))\n",
    "    list1_list3_list4_overlap_total = float(len(list1_list3_list4_overlap))\n",
    "    list2_list3_list4_overlap_total = float(len(list2_list3_list4_overlap))\n",
    "    all_list_overlap_total = float(len(all_list_overlap))\n",
    "    \n",
    "    # Calculate percent overlaps\n",
    "    list1_only_percent = round(((list1_only_total / list1_total) * 100.0), 1)\n",
    "    list2_only_percent = round(((list2_only_total / list2_total) * 100.0), 1)\n",
    "    list3_only_percent = round(((list3_only_total / list3_total) * 100.0), 1)\n",
    "    list4_only_percent = round(((list4_only_total / list4_total) * 100.0), 1)\n",
    "    temp1 = (list1_list2_overlap_total / list1_total) * 100.0\n",
    "    temp2 = (list1_list2_overlap_total / list2_total) * 100.0\n",
    "    list1_list2_overlap_percent = round(numpy.mean([temp1, temp2]), 1)\n",
    "    temp1 = (list1_list3_overlap_total / list1_total) * 100.0\n",
    "    temp2 = (list1_list3_overlap_total / list3_total) * 100.0\n",
    "    list1_list3_overlap_percent = round(numpy.mean([temp1, temp2]), 1)\n",
    "    temp1 = (list1_list4_overlap_total / list1_total) * 100.0\n",
    "    temp2 = (list1_list4_overlap_total / list4_total) * 100.0\n",
    "    list1_list4_overlap_percent = round(numpy.mean([temp1, temp2]), 1)\n",
    "    temp1 = (list2_list3_overlap_total / list2_total) * 100.0\n",
    "    temp2 = (list2_list3_overlap_total / list3_total) * 100.0\n",
    "    list2_list3_overlap_percent = round(numpy.mean([temp1, temp2]), 1)\n",
    "    temp1 = (list2_list4_overlap_total / list2_total) * 100.0\n",
    "    temp2 = (list2_list4_overlap_total / list4_total) * 100.0\n",
    "    list2_list4_overlap_percent = round(numpy.mean([temp1, temp2]), 1)\n",
    "    temp1 = (list3_list4_overlap_total / list3_total) * 100.0\n",
    "    temp2 = (list3_list4_overlap_total / list4_total) * 100.0\n",
    "    list3_list4_overlap_percent = round(numpy.mean([temp1, temp2]), 1)\n",
    "    temp1 = (list1_list2_list3_overlap_total / list1_total) * 100.0\n",
    "    temp2 = (list1_list2_list3_overlap_total / list2_total) * 100.0\n",
    "    temp3 = (list1_list2_list3_overlap_total / list3_total) * 100.0\n",
    "    list1_list2_list3_overlap_percent = round(numpy.mean([temp1, temp2, temp3]), 1)\n",
    "    temp1 = (list1_list2_list4_overlap_total / list1_total) * 100.0\n",
    "    temp2 = (list1_list2_list4_overlap_total / list2_total) * 100.0\n",
    "    temp3 = (list1_list2_list4_overlap_total / list4_total) * 100.0\n",
    "    list1_list2_list4_overlap_percent = round(numpy.mean([temp1, temp2, temp3]), 1)\n",
    "    temp1 = (list1_list3_list4_overlap_total / list1_total) * 100.0\n",
    "    temp2 = (list1_list3_list4_overlap_total / list3_total) * 100.0\n",
    "    temp3 = (list1_list3_list4_overlap_total / list4_total) * 100.0\n",
    "    list1_list3_list4_overlap_percent = round(numpy.mean([temp1, temp2, temp3]), 1)\n",
    "    temp1 = (list2_list3_list4_overlap_total / list2_total) * 100.0\n",
    "    temp2 = (list2_list3_list4_overlap_total / list3_total) * 100.0\n",
    "    temp3 = (list2_list3_list4_overlap_total / list4_total) * 100.0\n",
    "    list2_list3_list4_overlap_percent = round(numpy.mean([temp1, temp2, temp3]), 1)\n",
    "    temp1 = (all_list_overlap_total / list1_total) * 100.0\n",
    "    temp2 = (all_list_overlap_total / list2_total) * 100.0\n",
    "    temp3 = (all_list_overlap_total / list3_total) * 100.0\n",
    "    temp4 = (all_list_overlap_total / list4_total) * 100.0\n",
    "    all_list_overlap_percent = round(numpy.mean([temp1, temp2, temp3, temp4]), 1)\n",
    "    \n",
    "    # Print report to the screen\n",
    "    print('List 1 only: ' + str(list1_only_percent) + '% (' + str(int(list1_only_total)) + ')')\n",
    "    print('List 2 only: ' + str(list2_only_percent) + '% (' + str(int(list2_only_total)) + ')')\n",
    "    print('List 3 only: ' + str(list3_only_percent) + '% (' + str(int(list3_only_total)) + ')')\n",
    "    print('List 4 only: ' + str(list4_only_percent) + '% (' + str(int(list4_only_total)) + ')')\n",
    "    print('')\n",
    "    print('List 1 + List 2: ' + str(list1_list2_overlap_percent) + '% (' + str(int(list1_list2_overlap_total)) + ')')\n",
    "    print('List 1 + List 3: ' + str(list1_list3_overlap_percent) + '% (' + str(int(list1_list3_overlap_total)) + ')')\n",
    "    print('List 1 + List 4: ' + str(list1_list4_overlap_percent) + '% (' + str(int(list1_list4_overlap_total)) + ')')\n",
    "    print('List 2 + List 3: ' + str(list2_list3_overlap_percent) + '% (' + str(int(list2_list3_overlap_total)) + ')')\n",
    "    print('List 2 + List 4: ' + str(list2_list4_overlap_percent) + '% (' + str(int(list2_list4_overlap_total)) + ')')\n",
    "    print('List 3 + List 4: ' + str(list3_list4_overlap_percent) + '% (' + str(int(list3_list4_overlap_total)) + ')')\n",
    "    print('')\n",
    "    print('List 1 + List 2 + List 3: ' + str(list1_list2_list3_overlap_percent) + '% (' + str(int(list1_list2_list3_overlap_total)) + ')')\n",
    "    print('List 1 + List 2 + List 4: ' + str(list1_list2_list4_overlap_percent) + '% (' + str(int(list1_list2_list4_overlap_total)) + ')')\n",
    "    print('List 1 + List 3 + List 4: ' + str(list1_list3_list4_overlap_percent) + '% (' + str(int(list1_list3_list4_overlap_total)) + ')')\n",
    "    print('List 2 + List 3 + List 4: ' + str(list2_list3_list4_overlap_percent) + '% (' + str(int(list2_list3_list4_overlap_total)) + ')')\n",
    "    print('')\n",
    "    print('Shared: ' + str(all_list_overlap_percent) + '% (' + str(int(all_list_overlap_total)) + ')')\n",
    "\n",
    "    # Return new lists\n",
    "    return [list1_only,list2_only,list3_only,list4_only,list1_list2_overlap, list1_list3_overlap, list1_list4_overlap, list2_list3_overlap, list2_list4_overlap, list3_list4_overlap, list1_list2_list3_overlap, list1_list2_list4_overlap, list1_list3_list4_overlap, list2_list3_list4_overlap, all_list_overlap]\n"
   ]
  },
  {
   "cell_type": "code",
   "execution_count": 33,
   "metadata": {},
   "outputs": [
    {
     "name": "stdout",
     "output_type": "stream",
     "text": [
      "List 1 only: 3.8% (17)\n",
      "List 2 only: 4.3% (21)\n",
      "List 3 only: 4.1% (19)\n",
      "List 4 only: 8.0% (40)\n",
      "\n",
      "List 1 + List 2: 4.5% (21)\n",
      "List 1 + List 3: 4.8% (22)\n",
      "List 1 + List 4: 1.3% (6)\n",
      "List 2 + List 3: 1.7% (8)\n",
      "List 2 + List 4: 8.8% (44)\n",
      "List 3 + List 4: 5.8% (28)\n",
      "\n",
      "List 1 + List 2 + List 3: 4.7% (22)\n",
      "List 1 + List 2 + List 4: 3.1% (15)\n",
      "List 1 + List 3 + List 4: 1.1% (5)\n",
      "List 2 + List 3 + List 4: 4.5% (22)\n",
      "\n",
      "Shared: 71.5% (341)\n"
     ]
    }
   ],
   "source": [
    "# Reactions\n",
    "iJO1366_m9_aerobic_reactions = [x.id for x in iJO1366_m9_aerobic.model.reactions]\n",
    "iJO1366_m9_anaerobic_reactions = [x.id for x in iJO1366_m9_anaerobic.model.reactions]\n",
    "iJO1366_lb_aerobic_reactions = [x.id for x in iJO1366_lb_aerobic.model.reactions]\n",
    "iJO1366_pfba_reactions = [x.id for x in iJO1366_pfba.model.reactions]\n",
    "\n",
    "reactions_comparisons = venn_comparison(iJO1366_pfba_reactions, iJO1366_lb_aerobic_reactions, iJO1366_m9_aerobic_reactions, iJO1366_m9_anaerobic_reactions)\n",
    "\n",
    "# List 1: pfba\n",
    "# List 2: lb_aerobic\n",
    "# List 3: m9_aerobic\n",
    "# List 4: m9_anaerobic"
   ]
  },
  {
   "cell_type": "code",
   "execution_count": 34,
   "metadata": {},
   "outputs": [
    {
     "name": "stdout",
     "output_type": "stream",
     "text": [
      "List 1 only: 1.3% (6)\n",
      "List 2 only: 3.2% (16)\n",
      "List 3 only: 1.9% (9)\n",
      "List 4 only: 5.0% (25)\n",
      "\n",
      "List 1 + List 2: 2.1% (10)\n",
      "List 1 + List 3: 2.6% (12)\n",
      "List 1 + List 4: 0.6% (3)\n",
      "List 2 + List 3: 1.0% (5)\n",
      "List 2 + List 4: 6.8% (34)\n",
      "List 3 + List 4: 3.5% (17)\n",
      "\n",
      "List 1 + List 2 + List 3: 1.7% (8)\n",
      "List 1 + List 2 + List 4: 1.9% (9)\n",
      "List 1 + List 3 + List 4: 0.4% (2)\n",
      "List 2 + List 3 + List 4: 2.9% (14)\n",
      "\n",
      "Shared: 83.6% (399)\n"
     ]
    }
   ],
   "source": [
    "# Metabolites\n",
    "iJO1366_m9_aerobic_metabolites = [x.id for x in iJO1366_m9_aerobic.model.metabolites]\n",
    "iJO1366_m9_anaerobic_metabolites = [x.id for x in iJO1366_m9_anaerobic.model.metabolites]\n",
    "iJO1366_lb_aerobic_metabolites = [x.id for x in iJO1366_lb_aerobic.model.metabolites]\n",
    "iJO1366_pfba_metabolites = [x.id for x in iJO1366_pfba.model.metabolites]\n",
    "\n",
    "metabolites_comparisons = venn_comparison(iJO1366_pfba_metabolites, iJO1366_lb_aerobic_metabolites, iJO1366_m9_aerobic_metabolites, iJO1366_m9_anaerobic_metabolites)\n",
    "\n",
    "# List 1: pfba\n",
    "# List 2: lb_aerobic\n",
    "# List 3: m9_aerobic\n",
    "# List 4: m9_anaerobic"
   ]
  },
  {
   "cell_type": "code",
   "execution_count": 35,
   "metadata": {},
   "outputs": [],
   "source": [
    "# Screen context specific growth rates by each model's optimal growth\n",
    "\n",
    "# Determine bounds\n",
    "pfba_obj_val_lb = iJO1366_pfba.model.slim_optimize() * 0.8\n",
    "lb_aerobic_obj_val_lb = iJO1366_lb_aerobic.model.slim_optimize() * 0.8\n",
    "m9_aerobic_obj_val_lb = iJO1366_m9_aerobic.model.slim_optimize() * 0.8\n",
    "m9_anaerobic_obj_val_lb = iJO1366_m9_anaerobic.model.slim_optimize() * 0.8\n",
    "pfba_obj_val_ub = iJO1366_pfba.model.slim_optimize()\n",
    "lb_aerobic_obj_val_ub = iJO1366_lb_aerobic.model.slim_optimize()\n",
    "m9_aerobic_obj_val_ub = iJO1366_m9_aerobic.model.slim_optimize()\n",
    "m9_anaerobic_obj_val_ub = iJO1366_m9_anaerobic.model.slim_optimize()\n",
    "\n",
    "# Collect fluxes\n",
    "pfba_biomass = list(iJO1366_pfba.flux_samples['BIOMASS_Ec_iJO1366_WT_53p95M'])\n",
    "lb_biomass = list(iJO1366_lb_aerobic.flux_samples['BIOMASS_Ec_iJO1366_WT_53p95M'])\n",
    "m9_aerobic_biomass = list(iJO1366_m9_aerobic.flux_samples['BIOMASS_Ec_iJO1366_WT_53p95M'])\n",
    "m9_anaerobic_biomass = list(iJO1366_m9_anaerobic.flux_samples['BIOMASS_Ec_iJO1366_WT_53p95M'])\n",
    "\n",
    "# Screen fluxes\n",
    "pfba_biomass = [x for x in pfba_biomass if x >= pfba_obj_val_lb and x <= pfba_obj_val_ub]\n",
    "lb_biomass = [x for x in lb_biomass if x >= lb_aerobic_obj_val_lb and x <= lb_aerobic_obj_val_ub]\n",
    "m9_aerobic_biomass = [x for x in m9_aerobic_biomass if x >= m9_aerobic_obj_val_lb and x <= m9_aerobic_obj_val_ub]\n",
    "m9_anaerobic_biomass = [x for x in m9_anaerobic_biomass if x >= m9_anaerobic_obj_val_lb and x <= m9_anaerobic_obj_val_ub]\n",
    "\n",
    "# Convert to per hour rate\n",
    "pfba_rates = [round((x / 60.0), 3) for x in pfba_biomass]\n",
    "lb_aerobic_rates = [round((x / 60.0), 3) for x in lb_biomass]\n",
    "m9_aerobic_rates = [round((x / 60.0), 3) for x in m9_aerobic_biomass]\n",
    "m9_anaerobic_rates = [round((x / 60.0), 3) for x in m9_anaerobic_biomass]\n",
    "\n",
    "# Subsample evenly\n",
    "import random\n",
    "sub_level = min([len(pfba_rates), len(lb_aerobic_rates), len(m9_aerobic_rates), len(m9_anaerobic_rates)])\n",
    "pfba_sub = random.sample(range(0,len(pfba_rates)), sub_level)\n",
    "lb_sub = random.sample(range(0,len(lb_aerobic_rates)), sub_level)\n",
    "m9a_sub = random.sample(range(0,len(m9_aerobic_rates)), sub_level)\n",
    "m9n_sub = random.sample(range(0,len(m9_anaerobic_rates)), sub_level)\n",
    "pfba_rates = [pfba_rates[i] for i in pfba_sub]\n",
    "lb_aerobic_rates = [lb_aerobic_rates[i] for i in lb_sub]\n",
    "m9_aerobic_rates = [m9_aerobic_rates[i] for i in m9a_sub]\n",
    "m9_anaerobic_rates = [m9_anaerobic_rates[i] for i in m9n_sub]\n",
    "\n",
    "# Convert to strings\n",
    "pfba_rates = [str(x) for x in pfba_rates]\n",
    "pfba_rates = 'base_pfba\\t' + '\\t'.join(pfba_rates) + '\\n'\n",
    "m9_aerobic_rates = [str(x) for x in m9_aerobic_rates]\n",
    "m9_aerobic_rates = 'm9_gluc_aerobic\\t' + '\\t'.join(m9_aerobic_rates) + '\\n'\n",
    "m9_anaerobic_rates = [str(x) for x in m9_anaerobic_rates]\n",
    "m9_anaerobic_rates = 'm9_gluc_anaerobic\\t' + '\\t'.join(m9_anaerobic_rates) + '\\n'\n",
    "lb_aerobic_rates = [str(x) for x in lb_aerobic_rates]\n",
    "lb_aerobic_rates = 'lb_aerobic\\t' + '\\t'.join(lb_aerobic_rates) + '\\n'\n",
    "\n",
    "# Write to file\n",
    "with open('/home/mjenior/Desktop/repos/Jenior_RIPTiDe_2019/data/new_growth_rates.tsv', 'w') as rates:\n",
    "    rates.write(pfba_rates)\n",
    "    rates.write(m9_aerobic_rates)\n",
    "    rates.write(m9_anaerobic_rates)\n",
    "    rates.write(lb_aerobic_rates)"
   ]
  },
  {
   "cell_type": "code",
   "execution_count": 19,
   "metadata": {},
   "outputs": [],
   "source": [
    "# Write contextualized models to SBMLs and JSONs\n",
    "cobra.io.write_sbml_model(iJO1366_m9_aerobic, '/home/matt/Desktop/repos/Jenior_RIPTiDe_2019/data/riptide_models/iJO1366_m9_aerobic.sbml')\n",
    "cobra.io.save_json_model(iJO1366_m9_aerobic, '/home/matt/Desktop/repos/Jenior_RIPTiDe_2019/data/riptide_models/iJO1366_m9_aerobic.json')\n",
    "cobra.io.write_sbml_model(iJO1366_m9_anaerobic, '/home/matt/Desktop/repos/Jenior_RIPTiDe_2019/data/riptide_models/iJO1366_m9_anaerobic.sbml')\n",
    "cobra.io.save_json_model(iJO1366_m9_anaerobic, '/home/matt/Desktop/repos/Jenior_RIPTiDe_2019/data/riptide_models/iJO1366_m9_anaerobic.json')\n",
    "cobra.io.write_sbml_model(iJO1366_lb_aerobic, '/home/matt/Desktop/repos/Jenior_RIPTiDe_2019/data/riptide_models/iJO1366_lb_aerobic.sbml')\n",
    "cobra.io.save_json_model(iJO1366_lb_aerobic, '/home/matt/Desktop/repos/Jenior_RIPTiDe_2019/data/riptide_models/iJO1366_lb_aerobic.json')"
   ]
  },
  {
   "cell_type": "code",
   "execution_count": 21,
   "metadata": {},
   "outputs": [],
   "source": [
    "# Correct the sample labels\n",
    "def label_flux_samples(file_name, label):\n",
    "    new_name = file_name.rstrip('tsv') + 'format.tsv'\n",
    "    new_file = open(new_name, 'w')\n",
    "    \n",
    "    with open(file_name, 'r') as samples:\n",
    "        header = samples.readline()\n",
    "        header = 'sample\\t' + header\n",
    "        new_file.write(header)\n",
    "        current = 1\n",
    "        \n",
    "        for line in samples:\n",
    "            line = label + '_' + str(current) + '\\t' + line\n",
    "            new_file.write(line)\n",
    "            current += 1\n",
    "\n",
    "    new_file.close()"
   ]
  },
  {
   "cell_type": "code",
   "execution_count": 27,
   "metadata": {},
   "outputs": [],
   "source": [
    "# Write chosen flux sample tables to tsvs\n",
    "m9_aerobic_samples.to_csv('/home/mjenior/Desktop/repos/Jenior_RIPTiDe_2019/data/flux_samples/M9_aerobic.flux_samples.tsv', sep='\\t')\n",
    "m9_anaerobic_samples.to_csv('/home/mjenior/Desktop/repos/Jenior_RIPTiDe_2019/data/flux_samples/M9_anaerobic.flux_samples.tsv', sep='\\t')\n",
    "lb_samples.to_csv('/home/mjenior/Desktop/repos/Jenior_RIPTiDe_2019/data/flux_samples/LB_aerobic.flux_samples.tsv', sep='\\t')\n",
    "pfba_samples.to_csv('/home/mjenior/Desktop/repos/Jenior_RIPTiDe_2019/data/flux_samples/pFBA.flux_samples.tsv', sep='\\t')\n",
    "\n",
    "    \n",
    "label_flux_samples('/home/mjenior/Desktop/repos/Jenior_RIPTiDe_2019/data/flux_samples/M9_aerobic.flux_samples.tsv', 'm9_aer')\n",
    "label_flux_samples('/home/mjenior/Desktop/repos/Jenior_RIPTiDe_2019/data/flux_samples/M9_anaerobic.flux_samples.tsv', 'm9_anaer')\n",
    "label_flux_samples('/home/mjenior/Desktop/repos/Jenior_RIPTiDe_2019/data/flux_samples/LB_aerobic.flux_samples.tsv', 'lb')\n",
    "label_flux_samples('/home/mjenior/Desktop/repos/Jenior_RIPTiDe_2019/data/flux_samples/pFBA.flux_samples.tsv', 'pfba')"
   ]
  },
  {
   "cell_type": "markdown",
   "metadata": {},
   "source": [
    "### Context-specific Essentiality"
   ]
  },
  {
   "cell_type": "code",
   "execution_count": 8,
   "metadata": {},
   "outputs": [],
   "source": [
    "import cobra.flux_analysis"
   ]
  },
  {
   "cell_type": "code",
   "execution_count": 19,
   "metadata": {},
   "outputs": [
    {
     "name": "stdout",
     "output_type": "stream",
     "text": [
      "Essential genes: 105\n"
     ]
    }
   ],
   "source": [
    "iJO1366_essential_genes = cobra.flux_analysis.find_essential_genes(iJO1366)\n",
    "print('Essential genes: ' + str(len(iJO1366_essential_genes)))"
   ]
  },
  {
   "cell_type": "code",
   "execution_count": 20,
   "metadata": {},
   "outputs": [
    {
     "name": "stdout",
     "output_type": "stream",
     "text": [
      "Essential genes: 226\n"
     ]
    }
   ],
   "source": [
    "iJO1366_pfba_essential_genes = cobra.flux_analysis.find_essential_genes(iJO1366_pfba)\n",
    "iJO1366_pfba_essential_genes = set([x.id for x in iJO1366_pfba_essential_genes])\n",
    "print('Essential genes: ' + str(len(iJO1366_pfba_essential_genes)))"
   ]
  },
  {
   "cell_type": "code",
   "execution_count": 21,
   "metadata": {},
   "outputs": [
    {
     "name": "stdout",
     "output_type": "stream",
     "text": [
      "Essential genes: 227\n"
     ]
    }
   ],
   "source": [
    "iJO1366_lb_aerobic_essential_genes = cobra.flux_analysis.find_essential_genes(iJO1366_lb_aerobic)\n",
    "iJO1366_lb_aerobic_essential_genes = set([x.id for x in iJO1366_lb_aerobic_essential_genes])\n",
    "print('Essential genes: ' + str(len(iJO1366_lb_aerobic_essential_genes)))"
   ]
  },
  {
   "cell_type": "code",
   "execution_count": 22,
   "metadata": {},
   "outputs": [
    {
     "name": "stdout",
     "output_type": "stream",
     "text": [
      "Essential genes: 232\n"
     ]
    }
   ],
   "source": [
    "iJO1366_m9_aerobic_essential_genes = cobra.flux_analysis.find_essential_genes(iJO1366_m9_aerobic)\n",
    "iJO1366_m9_aerobic_essential_genes = set([x.id for x in iJO1366_m9_aerobic_essential_genes])\n",
    "print('Essential genes: ' + str(len(iJO1366_m9_aerobic_essential_genes)))"
   ]
  },
  {
   "cell_type": "code",
   "execution_count": 23,
   "metadata": {},
   "outputs": [
    {
     "name": "stdout",
     "output_type": "stream",
     "text": [
      "Essential genes: 229\n"
     ]
    }
   ],
   "source": [
    "iJO1366_m9_anaerobic_essential_genes = cobra.flux_analysis.find_essential_genes(iJO1366_m9_anaerobic)\n",
    "iJO1366_m9_anaerobic_essential_genes = set([x.id for x in iJO1366_m9_anaerobic_essential_genes])\n",
    "print('Essential genes: ' + str(len(iJO1366_m9_anaerobic_essential_genes)))"
   ]
  },
  {
   "cell_type": "code",
   "execution_count": 14,
   "metadata": {},
   "outputs": [
    {
     "ename": "NameError",
     "evalue": "name 'venn_comparison' is not defined",
     "output_type": "error",
     "traceback": [
      "\u001b[0;31m---------------------------------------------------------------------------\u001b[0m",
      "\u001b[0;31mNameError\u001b[0m                                 Traceback (most recent call last)",
      "\u001b[0;32m<ipython-input-14-5d857bc3bd67>\u001b[0m in \u001b[0;36m<module>\u001b[0;34m()\u001b[0m\n\u001b[0;32m----> 1\u001b[0;31m \u001b[0messentiality_comparisons\u001b[0m \u001b[0;34m=\u001b[0m \u001b[0mvenn_comparison\u001b[0m\u001b[0;34m(\u001b[0m\u001b[0miJO1366_pfba_essential_genes\u001b[0m\u001b[0;34m,\u001b[0m \u001b[0miJO1366_lb_aerobic_essential_genes\u001b[0m\u001b[0;34m,\u001b[0m \u001b[0miJO1366_m9_aerobic_essential_genes\u001b[0m\u001b[0;34m,\u001b[0m \u001b[0miJO1366_m9_anaerobic_essential_genes\u001b[0m\u001b[0;34m)\u001b[0m\u001b[0;34m\u001b[0m\u001b[0m\n\u001b[0m\u001b[1;32m      2\u001b[0m \u001b[0;31m# List 1: pfba\u001b[0m\u001b[0;34m\u001b[0m\u001b[0;34m\u001b[0m\u001b[0m\n\u001b[1;32m      3\u001b[0m \u001b[0;31m# List 2: lb_aerobic\u001b[0m\u001b[0;34m\u001b[0m\u001b[0;34m\u001b[0m\u001b[0m\n\u001b[1;32m      4\u001b[0m \u001b[0;31m# List 3: m9_aerobic\u001b[0m\u001b[0;34m\u001b[0m\u001b[0;34m\u001b[0m\u001b[0m\n\u001b[1;32m      5\u001b[0m \u001b[0;31m# List 4: m9_anaerobic\u001b[0m\u001b[0;34m\u001b[0m\u001b[0;34m\u001b[0m\u001b[0m\n",
      "\u001b[0;31mNameError\u001b[0m: name 'venn_comparison' is not defined"
     ]
    }
   ],
   "source": [
    "essentiality_comparisons = venn_comparison(iJO1366_pfba_essential_genes, iJO1366_lb_aerobic_essential_genes, iJO1366_m9_aerobic_essential_genes, iJO1366_m9_anaerobic_essential_genes)\n",
    "# List 1: pfba\n",
    "# List 2: lb_aerobic\n",
    "# List 3: m9_aerobic\n",
    "# List 4: m9_anaerobic"
   ]
  },
  {
   "cell_type": "code",
   "execution_count": 15,
   "metadata": {},
   "outputs": [
    {
     "name": "stdout",
     "output_type": "stream",
     "text": [
      "Essential in all GENREs: 178\n"
     ]
    }
   ],
   "source": [
    "# Find those genes shared in all models\n",
    "core_essential = iJO1366_pfba_essential_genes.intersection(iJO1366_lb_aerobic_essential_genes)\n",
    "core_essential = core_essential.intersection(iJO1366_m9_aerobic_essential_genes)\n",
    "core_essential = core_essential.intersection(iJO1366_m9_anaerobic_essential_genes)\n",
    "print('Essential in all GENREs: ' + str(len(core_essential)))\n",
    "\n",
    "# Substract as background from each\n",
    "iJO1366_pfba_essential_genes = iJO1366_pfba_essential_genes.difference(core_essential)\n",
    "iJO1366_lb_aerobic_essential_genes = iJO1366_lb_aerobic_essential_genes.difference(core_essential)\n",
    "iJO1366_m9_aerobic_essential_genes = iJO1366_m9_aerobic_essential_genes.difference(core_essential)\n",
    "iJO1366_m9_anaerobic_essential_genes = iJO1366_m9_anaerobic_essential_genes.difference(core_essential)\n",
    "\n",
    "# Find non-essentiality across models\n",
    "iJO1366_pfba_genes = set([x.id for x in iJO1366_pfba.genes])\n",
    "iJO1366_lb_aerobic_genes = set([x.id for x in iJO1366_lb_aerobic.genes])\n",
    "iJO1366_m9_aerobic_genes = set([x.id for x in iJO1366_m9_aerobic.genes])\n",
    "iJO1366_m9_anaerobic_genes = set([x.id for x in iJO1366_m9_anaerobic.genes])\n",
    "\n",
    "# Compare overlapping genes\n",
    "total_genes = set()\n",
    "total_genes |= iJO1366_pfba_essential_genes\n",
    "total_genes |= iJO1366_lb_aerobic_essential_genes\n",
    "total_genes |= iJO1366_m9_aerobic_essential_genes\n",
    "total_genes |= iJO1366_m9_anaerobic_essential_genes\n",
    "with open('/home/matt/Desktop/repos/Jenior_RIPTiDe_2019/data/essentiality_test.tsv', 'w') as outfile:\n",
    "    outfile.write('gene\\tpfba\\tlb_aerobic\\tm9_aerobic\\tm9_anaerobic\\n')\n",
    "    for gene in total_genes:\n",
    "        entry = ['filler','filler','filler','filler']\n",
    "        \n",
    "        if gene in iJO1366_pfba_essential_genes:\n",
    "            entry[0] = 2\n",
    "        elif gene in iJO1366_pfba_genes:\n",
    "            entry[0] = 1\n",
    "        else:\n",
    "            entry[0] = 0\n",
    "            \n",
    "        if gene in iJO1366_lb_aerobic_essential_genes:\n",
    "            entry[1] = 2\n",
    "        elif gene in iJO1366_lb_aerobic_genes:\n",
    "            entry[1] = 1\n",
    "        else:\n",
    "            entry[1] = 0\n",
    "            \n",
    "        if gene in iJO1366_m9_aerobic_essential_genes:\n",
    "            entry[2] = 2\n",
    "        elif gene in iJO1366_m9_aerobic_genes:\n",
    "            entry[2] = 1\n",
    "        else:\n",
    "            entry[2] = 0\n",
    "            \n",
    "        if gene in iJO1366_m9_anaerobic_essential_genes:\n",
    "            entry[3] = 2\n",
    "        elif gene in iJO1366_m9_anaerobic_genes:\n",
    "            entry[3] = 1\n",
    "        else:\n",
    "            entry[3] = 0\n",
    "            \n",
    "        entry = gene + '\\t' + '\\t'.join([str(x) for x in entry]) + '\\n'\n",
    "        outfile.write(entry)\n"
   ]
  },
  {
   "cell_type": "markdown",
   "metadata": {},
   "source": [
    "### Metatranscriptomic analysis"
   ]
  },
  {
   "cell_type": "code",
   "execution_count": 69,
   "metadata": {},
   "outputs": [],
   "source": [
    "def find_source(model, met_id):\n",
    "    generating = set()\n",
    "    for rxn in model.reactions:\n",
    "        for met in rxn.products:\n",
    "            if met_id in met.id:\n",
    "                generating |= set([rxn.id])\n",
    "        \n",
    "    print('Metabolite sources: ' + str(len(generating)))\n",
    "    return generating"
   ]
  },
  {
   "cell_type": "code",
   "execution_count": 5,
   "metadata": {},
   "outputs": [],
   "source": [
    "clinda_k12_metaT = {}\n",
    "with open('/home/matt/Desktop/repos/Jenior_RIPTiDe_2019/data/transcript/clinda_k12.mapped.norm.tsv', 'r') as transcription:\n",
    "    header = transcription.readline()\n",
    "    for line in transcription:\n",
    "        line = line.split()\n",
    "        clinda_k12_metaT[line[0]] = float(line[2])"
   ]
  },
  {
   "cell_type": "code",
   "execution_count": 6,
   "metadata": {},
   "outputs": [
    {
     "name": "stdout",
     "output_type": "stream",
     "text": [
      "\n",
      "Initializing model and integrating transcriptomic data...\n",
      "Pruning zero flux subnetworks...\n",
      "Analyzing context-specific flux distributions...\n",
      "[0.7153049700423447, 0.7153049700423447, 0.7153049700423447, 0.7153049700423447, 0.7153049700423447, 0.7153049700423447, 0.7153049700423447, 0.7153049700423447, 0.7153049700423447, 0.7153049700423447, 0.7153049700423447, 0.7153049700423447, 0.7153049700423447, 0.7153049700423447, 0.7153049700423447, 0.7153049700423447, 0.7153049700423447, 0.7153049700423447, 0.7153049700423447, 0.7153049700423447, 0.7153049700423447, 0.7153049700423447, 0.7153049700423447, 0.7153049700423447, 0.813389956740874, 0.7153049700423447, 0.7153049700423447, 0.7153049700423447, 0.7153049700423447, 0.7153049700423447, 0.7153049700423447, 0.7153049700423447, 0.7153049700423447, 0.7153049700423447, 0.7153049700423447, 0.7153049700423447, 0.7153049700423447, 0.7153049700423447, 0.7153049700423447, 0.7153049700423447, 0.7153049700423447, 0.7153049700423447, 0.7153049700423447, 0.7153049700423447, 0.7153049700423447, 0.7153049700423447, 0.7153049700423447, 0.7153049700423447, 0.7153049700423447, 0.7153049700423447, 0.7153049700423447, 0.7153049700423447, 0.7153049700423447, 0.7153049700423447, 0.7153049700423447, 0.7153049700423447, 0.7153049700423447, 0.7153049700423447, 0.7153049700423447, 0.7153049700423447, 0.3697120784521117, 0.3697120784521117, 0.3697120784521117, 0.058675518250754656, 0.07434150614907285, 0.3697120784521117, 0.3697120784521117, 0.3697120784521117, 0.25365612825262046, 0.12634752301037058, 0.05020293546717015, 0.21637084846455432, 0.04478998441880666, 0.04104736262663581, 0.08108591712189041, 0.08428656421712845, 0.08428656421712845, 0.08428656421712845, 0.08428656421712845, 0.08428656421712845, 0.08428656421712845, 0.08428656421712845, 0.08428656421712845, 0.09567838118691377, 0.09567838118691377, 0.09567838118691377, 0.09567838118691377, 0.09567838118691377, 0.09567838118691377, 0.0951619684199731, 0.0951619684199731, 0.0951619684199731, 0.04859407840515798, 0.0458136972404854, 0.0458136972404854, 0.029575539132766348, 0.029575539132766348, 0.029575539132766348, 0.144855904852164, 0.04162092291077944, 0.05840375863854227, 0.10395202882953236, 0.055570091275396666, 0.12626998773027362, 0.12626998773027362, 0.1571508070465051, 0.08631360209759191, 0.07848539618365791, 0.07848539618365791, 0.07112047129094079, 0.05099805822003709, 0.05099805822003709, 0.03682192154047465, 0.03685551501342504, 0.17284227964844084, 0.30159818437704267, 0.0376552713487679, 0.0376552713487679, 0.03900912692185556, 0.03900912692185556, 0.03900912692185556, 0.1532097134716159, 0.039880472106451306, 0.0631353413838225, 0.0631353413838225, 0.0631353413838225, 0.0631353413838225, 0.0631353413838225, 0.041149146988356734, 0.02915967510555301, 0.050243324861085195, 0.047546579860102876, 0.047546579860102876, 0.047546579860102876, 0.05249130739927518, 0.05282399862104586, 0.04801549840666544, 0.04801549840666544, 0.04801549840666544, 0.04801549840666544, 0.04801549840666544, 0.04801549840666544, 0.051212129730424355, 0.0315758566876187, 0.05580354660580816, 0.03978934498442499, 0.07248676031033882, 0.33470258269709097, 0.037254775370099684, 0.037254775370099684, 0.0691711231433235, 0.03749641669621863, 0.04057072144261339, 0.09155626898996552, 0.09155626898996552, 0.09155626898996552, 0.10451701698609554, 0.035641979762982993, 0.035641979762982993, 0.035641979762982993, 0.0794845510182143, 0.038891047795094336, 0.03218277876558892, 0.044084289807724865, 0.04393300333988625, 0.044657695639119296, 0.05830900187690981, 0.03674276450651111, 0.04065072796669752, 0.06110722233411466, 0.06110722233411466, 0.03694247191122303, 0.03694247191122303, 0.03529654618940355, 0.03529654618940355, 0.042633515134515985, 0.04776876013982298, 0.061383847207926764, 0.07654925374609697, 0.1532097134716159, 0.1532097134716159, 0.1532097134716159, 0.13066277837018989, 0.05019204654835174, 0.029220143356863695, 0.14041840014135515, 0.14041840014135515, 0.050712011728523965, 0.0425243942672082, 0.48510411350917887, 0.27888629373947404, 0.03831154108010661, 0.03831154108010661, 0.04044059500141479, 0.04044059500141479, 0.04044059500141479, 0.041017244340542366, 0.041017244340542366, 0.041017244340542366, 0.12116331648356808, 0.12116331648356808, 0.047059899247382644, 0.16386618090247357, 0.027746895808646636, 0.03409922847762721, 0.08294846282445889, 0.06673733394784934, 0.09408836736030367, 0.0698716435873072, 0.0698716435873072, 0.15865618076655516, 0.084875338097068, 0.084875338097068, 0.07068213438871927, 0.08133443159534862, 0.04219780392903082, 0.09105568762981754, 0.1405635084992259, 0.1498560809282981, 0.04458842358110438, 0.03384538538432169, 0.05700464840993984, 0.062448103876269756, 0.07640476319922304, 0.044947217317489366, 0.05074498739047756, 0.05672941361087051, 0.06391046250566841, 0.05958771618751305, 0.05290493186162516, 0.056319032656253674, 0.05205845356965016, 0.061480843534422576, 0.061480843534422576, 0.061480843534422576, 0.07639163471554129, 0.04089260097194026, 0.01710757263294984, 0.06372380635826365, 0.0816885145228831, 0.0816885145228831, 0.06372380635826365, 0.11347805658901607, 0.11347805658901607, 0.0816885145228831, 0.040688337211127024, 0.06463808940713621, 0.05574670799410361, 0.05574670799410361, 0.03922698252459814, 0.06414013374372458, 0.04471569264644283, 0.04471569264644283, 0.053352149796925534, 0.05207922746441718, 0.043231092821159785, 0.043231092821159785, 0.05207922746441718, 0.06833769610865566, 0.06833769610865566, 0.06833769610865566, 0.06833769610865566, 0.06833769610865566, 0.17398005582540169, 0.03336380171232496, 0.04176255608179323, 0.04471878170142678, 0.05380044890147027, 0.049629761314899504, 0.05354807310928211, 0.06527119122609534, 0.052824307526544254, 0.024965201795605883, 0.05687560313798562, 0.05687560313798562, 0.02708591526845741, 0.11622013347188775, 0.11622013347188775, 0.03991244382553512, 0.13779772311935246, 0.045051164017699055, 0.05490223758786818, 0.047088936364231705, 0.042124747778660564, 0.09689052636261306, 0.09689052636261306, 0.7333732387753009, 0.07032596634907064, 0.03684037864400371, 0.04851885991629897, 0.1005410943162624, 0.05374113904577856, 0.0450970364842106, 0.0450970364842106, 0.0450970364842106, 0.04945522970830672, 0.0450970364842106, 0.0450970364842106, 0.0450970364842106, 0.07436729975818877, 0.05787290453955165, 0.1749719513807458, 0.11815805211606445, 0.09424544580623717, 0.07580085294986218, 0.07580085294986218, 0.07580085294986218, 0.06628980710705058, 0.05153694386198597, 0.036656348193335304, 0.040474574606238156, 0.05979769470004659, 0.0477297608206507, 0.0477297608206507, 0.05810921724582329, 0.1386844363524933, 0.1386844363524933, 0.035424973650360986, 0.03461625905556469, 0.0694156218453026, 0.0694156218453026, 0.0694156218453026, 0.10112623855659582, 0.10112623855659582, 0.10112623855659582, 0.11536477414683391, 0.04101384638006003, 0.06558241351572762, 0.06558241351572762, 0.04471005512109713, 0.11843606706461933, 0.04566403252651336, 0.06569508679626694, 0.11143858526224223, 0.03854630925888629, 0.40005323986264824, 0.40005323986264824, 0.03575712428750947, 0.04030776563710523, 0.04030776563710523, 0.06999420184379514, 0.10228664206131403, 0.02883841338722293, 0.05780355525516212, 0.03276622402568117, 0.038071907639727225, 0.06457252421510201, 0.08810880640151042, 0.04279198365519227, 0.04336762905145007, 0.04841769336557483, 0.19730388825528938, 0.061034397862868205, 0.08349460774562002, 0.04631922108860769, 0.09854911720986669, 0.06018035138618254, 0.059174246177912275, 0.05901191633850607, 0.04481770868728755, 0.04507618536306899, 0.04507618536306899, 0.04507618536306899, 0.04507618536306899, 0.04507618536306899, 0.04507618536306899, 0.04507618536306899, 0.04507618536306899, 0.04507618536306899, 0.04507618536306899, 0.04507618536306899, 0.04507618536306899, 0.04507618536306899, 0.04507618536306899, 0.04507618536306899, 0.04507618536306899, 0.04507618536306899, 0.04507618536306899, 0.04507618536306899, 0.04507618536306899, 0.04507618536306899, 0.04507618536306899, 0.04507618536306899, 0.04507618536306899, 0.04507618536306899, 0.04507618536306899, 0.04507618536306899, 0.04507618536306899, 0.04507618536306899, 0.04507618536306899, 0.04507618536306899, 0.04507618536306899, 0.04507618536306899, 0.04507618536306899, 0.04507618536306899, 0.04507618536306899, 0.04507618536306899, 0.04507618536306899, 0.04507618536306899, 0.04507618536306899, 0.04507618536306899, 0.04507618536306899, 0.04507618536306899, 0.04507618536306899, 0.04507618536306899, 0.04507618536306899, 0.04507618536306899, 0.04507618536306899, 0.04507618536306899, 0.04507618536306899, 0.04507618536306899, 0.04507618536306899, 0.04507618536306899, 0.04507618536306899, 0.04507618536306899, 0.04507618536306899, 0.04507618536306899, 0.04507618536306899, 0.04507618536306899, 0.04507618536306899, 0.04507618536306899, 0.04507618536306899, 0.04507618536306899, 0.04507618536306899, 0.04507618536306899, 0.04507618536306899, 0.04507618536306899, 0.04507618536306899, 0.04507618536306899, 0.04507618536306899, 0.04507618536306899, 0.04507618536306899, 0.04507618536306899, 0.04507618536306899, 0.04507618536306899, 0.04507618536306899, 0.04507618536306899, 0.04507618536306899, 0.04507618536306899, 0.04507618536306899, 0.04507618536306899, 0.04507618536306899, 0.04507618536306899, 0.04507618536306899, 0.04507618536306899, 0.04507618536306899, 0.04507618536306899, 0.04507618536306899, 0.04507618536306899, 0.04507618536306899, 0.04507618536306899, 0.04507618536306899]\n",
      "[12.925909821912455, 552.0385670273639, 0.04009544971415835, 52.11698439251586, 1000.0000000000001, 0.015523064733088177, 285.0050707173017, 1.8775251209898443, 12.531289848944652, 0.12418451786493279, 1000.0, 0.04691724497808991, 685.3789378377319, 658.3643729931538, 9.327273599911223, 1.919639265220953, 361.8025008225915, 30.473794765561934, 6.408032498066518, 10.41082528437394, 0.2872115026400479, 0.04580348248596242, 16.30492600251057, 16.466700004482846, 111.82603967284759, 20.007350966740773, 0.01552306473297449, 0.009536591338262693, 0.4694508904033228, 0.0016706437380662464, 0.5744926154357017, 277.1976921208067, 0.44647953900471293, 0.3447094912922921, 0.021370317816398886, 0.00013922031143920321, 0.06209225893258008, 501.12190880391967, 452.857108083924, 673.5982667173693, 0.1586415449631886, 10.818671186935262, 21.433593447979092, 14.952122235592356, 6.341345968854416, 19.651364630215994, 3.839278530442016, 0.02255369046429223, 10.732981085202255, 23.211367215773862, 0.13573980371984362, 2.3159298819269907, 1.0653138236552877, 0.3447094912926332, 1.7266799134715711, 726.8396049328999, 0.015523064733088177, 0.00020883048714837515, 3.844847342902202, 182.54290179107636, 6.567578975054121, 3.3848634336814944, 8.443851113240502, 1.9196392652209562, 0.09313838839851048, 1.6924317168408558, 4.221925556620425, 3.283789487527195, 324.50814717087246, 0.002157914828366016, 28.622582283446828, 1000.0, 0.06209225893255689, 0.0620922589325569, 285.00507071730175, 1.7828553091649155, 1.7828553091649155, 13.88158765026165, 35.2549683135079, 51.19144776162085, 13.591730961697067, 18.735294980497315, 1.7266799134716848, 13.943679909193907, 9.752452431255094, 10.818671186935195, 1.72667991347158, 284.84081134031976, 16.4667000044827, 284.84081134031965, 13.943679909193975, 9.752452431255055, 0.015523064733084567, 0.015523064733084567, 0.015523064733084565, 4.221925556620425, 1.6924317168408558, 3.283789487527195, 690.4658308278042, 726.8396049328999, 6.341345968854435, 1.919639265221008, 3.839278530442016, 0.1397075825977936, 34.95766333828365, 223.41866431451763, 0.062092258932338086, 0.015523064733084565, 0.015523064733085635, 6.341345968854435, 0.03104612946616906, 0.03104612946616906, 20.00735096674066, 16.304926002510573, 16.30492600251058, 1000.0, 0.008074778067434122, 0.009049320247986516, 0.008074778067434124, 0.008074778067434124, 0.00048727109027619706, 10.410825284373965, 0.34470949129253187, 0.04580348248596252, 1.0653138236552742, 0.04691724497802241, 0.001670643738089819, 0.0225536904642126, 0.4612368920243086, 0.12418451786484051, 0.015523064733085635, 0.20493229853901737, 0.15940725667610423, 0.08213998378948872, 0.17235474564626627, 0.021370317816398927, 2.2134637326575017, 0.8873206553929549, 1.7215983721015578, 0.7503974790255425, 0.5836811559952853, 0.3007854830120398, 0.017124098315420642, 0.031046129466169123, 14.647508194014042, 0.0117293112445056, 3.8448473429023124, 722.8626789330845, 9.752452431255094, 10.818671186935196, 11.672091696476059, 20.518150289661712, 0.06209225893258008, 1.6924317168408558, 3.283789487527195, 4.221925556620424, 0.062092258932338114, 3.384863433681496, 8.44385111324085, 6.567578975054393, 16.466700004482732, 28.622582283446864, 0.06209225893269377, 0.062092258932563114, 0.03104612946616913, 0.031046129466169126, 0.03104612946616913, 0.06209225893258008, 0.0620922589325631, 0.06592081749879536, 0.06592081749879536, 0.3953160745255132, 0.06592081749879536, 0.015523064733085635, 0.015523064733085633, 0.0620922589325631, 0.040095449714158696, 28.62258228344683, 284.84081134031965, 1.7828553091649177, 13.976535902703782, 1.7828553091649177, 16.304926002510683, 1.7266799134715798, 1.7266799134715798, 0.062092258932352706, 284.8408113403196, 0.4612368920243085, 0.4612368920243085, 1000.0, 1000.0, 10.732981085202264, 3.8392785304419417, 3.3848634336817125, 6.567578975054392, 8.44385111324085, 3.3848634336817125, 6.567578975054392, 8.443851113240852, 0.05353020977462794, 0.007761532366542284, 0.031046129466169126, 95.9228729399156, 0.015523064733084567, 0.5170642369387988, 1.7266799134715813, 2.187916805495886, 0.46123689202430873, 0.01552306473308456, 0.01552306473308456, 629.3142194657767, 3.8392785304419115, 3.83927853044192, 0.37255355359411624, 695.8266327329122, 0.06209225893256311, 17.86224440703351, 10.732981085202285, 10.732981085202285, 309.6040053163418, 0.3725535535940422, 0.3725535535940422, 708.7405947319551, 21.433593447979188, 16.4667000044827, 0.015523064733084565, 0.0620922589325631, 0.031046129466169057, 369.5646722982601, 0.015523064733085635, 0.002157914828444518, 0.015523064733084563, 12.531289848944446, 6.408032498066518, 9.327273599911202, 0.04656919419925369, 0.015523064733084563, 0.06209225893256311, 0.03424819663084128, 0.019003572520771693, 0.017263318626928127, 0.10678197892624094, 0.017263318626928127, 0.0017402538938435612, 0.017263318626928127, 0.031046129466169074, 28.622582283446825, 30.473794765561856, 19.651364630216015, 3.8448473429022028, 12.925909821912432, 0.00020883046726122737, 0.00020883046726122734, 23.21136721577391, 0.42135027277740306, 0.046847634822268655, 0.9363958151993432, 0.046847634822268655, 0.046847634822268655, 0.3745722481108881, 0.37923612854638883, 0.0936256594887836, 0.3745722481108881, 16.046393884041223, 0.46123689202430873, 0.4612368920243086, 0.10866145313159502, 0.09313838839851048, 0.01712409831542064, 0.009536591338262713, 0.00048727109027619706, 0.01712409831542064, 0.03424819663084128, 0.01552306473331555, 0.015523064733088177, 0.108661453131595, 863.9644547056603, 375.11832210297666, 0.03111573962202007, 303.9021552455051, 0.15864154496319363, 0.15864154496319366, 332.15414668314577, 332.15414668314577, 125.03944070099224, 17.719751340209463, 629.1509349578547, 0.04656919419925469, 0.015523064733085633, 0.015523064733085637, 0.015523064733085635, 0.015523064733085635, 0.1592680363645627, 0.3007854830120398, 0.39726515888660807, 1.9196392652209604, 0.7503974790255424, 0.3089994813908627, 0.5836811559952853, 1.9196392652209553, 3.8392785304419053, 1000.0, 1000.0, 10.732981085202264, 0.8926806373861473, 0.4600535193766021, 1.1476626379121497, 78.31769013699096, 0.0400954497141557, 0.04009544971415557, 0.30461404157850624, 0.18627677679701476, 0.04009544971415562, 0.04009544971415579, 114.68516795974358, 284.84081134031965, 0.062092258932352706, 0.03104612946616912, 0.1241845178648191, 3.074262918708281, 1.2323781974642563, 2.391108850141053, 3.074262918708281, 2.391108850141053, 1.232378197464256, 1000.0, 0.040095449714155684, 22.323280848667665, 20.00735096674066, 0.46945089040323906, 997.7531394552744, 0.06209225893233812, 0.03104612946616906, 0.09313838839851048, 0.031046129466169126, 21.433593447979092, 52.11698439251575, 0.031046129466169123, 0.015523064733084563, 0.015523064733084565, 0.015523064733084601, 0.1241845178649215, 0.12418451786492149, 0.28721150263994133, 0.031046129466169126, 0.031046129466169126, 16.304926002510715, 690.4589508171074, 0.015523064733084563, 0.015523064733084563, 0.015523064733084563, 695.8266327329122, 1.9196392652209602, 1.9196392652209602, 1.9196392652209602, 0.0038285585664561464, 1.9196392652209604, 1.9196392652209602, 0.046569194199253795, 0.031046129466169196, 0.09313838839852906, 69.61015575374243, 1.9196392652209533, 1000.0000000000001, 285.0050707173017, 13.943679909193975, 0.015523064733088177, 726.8396049328999, 1.8775251209898853, 182.54290179107653, 0.13573980371984362, 20.007350966740773, 16.30492600251054, 0.00013922031143920321, 0.34470949129274686, 6.341345968854398, 0.34470949129239087, 1000.0, 0.0016706437380662464, 0.5673923795487781, 0.04691724497811735, 10.818671186935262, 284.84081134031965, 1.0653138236553032, 0.015523064733088177, 501.12190880391967, 21.433593447979135, 10.732981085202281, 3.839278530442031, 0.4464795390048266, 685.378937837732, 0.06209225893258008, 16.466700004482846, 0.015523064732983339, 452.857108083924, 111.82603967284825, 8.44385111324084, 6.567578975054403, 6.408032498066553, 19.651364630215994, 3.8448473429021988, 12.925909821912455, 30.47379476556189, 0.00020883046727249166, 23.211367215773866, 10.410825284373939, 0.5744926154357017, 0.04580348248596242, 0.009536591338262691, 277.19769212080683, 0.021370317816398886, 0.1586415449631886, 552.0385670273822, 361.80250082258937, 3.384863433681744, 12.531289848944613, 658.364372993142, 0.040095449714132106, 14.952122235592356, 2.3159298819269907, 0.015523064733088177, 0.12418451786493279, 0.2872115026400479, 0.46945089040343646, 673.5982667173694, 0.01552306473309797, 52.11698439251582, 1.7266799134715711, 9.32727359991138, 9.752452431255055, 0.02255369046429223, 1000.0, 182.5429017910767, 3.15, 0.00013922031150748486, 726.8571559805932, 0.09313838839851048, 0.0620922589325631, 0.007761532366542284, 0.2585321184693994, 0.00020883046726122734, 10.410825284373965, 0.5744926154356352, 0.04211414423101417, 0.09362565948878361, 0.0936256594887836, 0.25853211846958857, 0.09313838839851048, 361.79077151134925, 0.03104612946616906, 0.015523064733084563, 673.59826671737]\n",
      "\n",
      "Reactions pruned to 452 from 2583 (82.5% change)\n",
      "Metabolites pruned to 453 from 1805 (74.9% change)\n",
      "Flux through the objective DECREASED to ~87.01 from ~105.77 (17.74% change)\n",
      "Contextualized GENRE is concordant with the transcriptome (p<0.001 ***)\n",
      "\n",
      "RIPTiDe completed in 43 seconds\n",
      "\n"
     ]
    }
   ],
   "source": [
    "iJO1366_invivo = riptide.contextualize(iJO1366, transcriptome=clinda_k12_metaT)"
   ]
  },
  {
   "cell_type": "code",
   "execution_count": 29,
   "metadata": {},
   "outputs": [
    {
     "name": "stdout",
     "output_type": "stream",
     "text": [
      "[0.538, 0.578, 0.886]\n"
     ]
    }
   ],
   "source": [
    "invivo_rates = collect_growth_rates(invivo_metaT_samples, 'BIOMASS_Ec_iJO1366_WT_53p95M')\n",
    "print([min(invivo_rates), numpy.median(invivo_rates), max(invivo_rates)])\n",
    "with open('/home/mjenior/Desktop/repos/Jenior_RIPTiDe_2019/data/invivo_growth_rates.tsv', 'w') as output_file:\n",
    "    for x in invivo_rates: output_file.write(str(x) + '\\n')"
   ]
  },
  {
   "cell_type": "code",
   "execution_count": 36,
   "metadata": {},
   "outputs": [
    {
     "name": "stdout",
     "output_type": "stream",
     "text": [
      "Metabolite sources: 3\n"
     ]
    }
   ],
   "source": [
    "invivo_anaerobic_atp = find_source(iJO1366_invivo_metaT, 'atp_c')"
   ]
  },
  {
   "cell_type": "code",
   "execution_count": 54,
   "metadata": {},
   "outputs": [],
   "source": [
    "vitro_ex = set([x.id for x in iJO1366_m9_anaerobic.reactions if 'EX_' in x.id])\n",
    "vivo_ex = set([x.id for x in iJO1366_invivo_metaT.reactions if 'EX_' in x.id])\n",
    "\n",
    "vitro_ex_only = vitro_ex.difference(vivo_ex)\n",
    "vitro_ex_only_input = set()\n",
    "for y in vitro_ex_only:\n",
    "    if abs(iJO1366_m9_anaerobic.reactions.get_by_id(y).lower_bound) > abs(iJO1366_m9_anaerobic.reactions.get_by_id(y).upper_bound):\n",
    "        vitro_ex_only_input |= set([y])\n",
    "\n",
    "vivo_ex_only = vivo_ex.difference(vitro_ex)\n",
    "vivo_ex_only_input = set()\n",
    "for y in vivo_ex_only:\n",
    "    if abs(iJO1366_invivo_metaT.reactions.get_by_id(y).lower_bound) > abs(iJO1366_invivo_metaT.reactions.get_by_id(y).upper_bound):\n",
    "        vivo_ex_only_input |= set([y])"
   ]
  },
  {
   "cell_type": "code",
   "execution_count": 58,
   "metadata": {},
   "outputs": [
    {
     "name": "stdout",
     "output_type": "stream",
     "text": [
      "Quinate\n",
      "Glycerol 3-phosphate\n",
      "Glycerophosphoserine\n",
      "L-Leucine\n",
      "L-tartrate\n",
      "Ethanol\n",
      "Guanosine\n",
      "D-Fructose 6-phosphate\n",
      "Allantoin\n"
     ]
    }
   ],
   "source": [
    "for x in vitro_ex_only_input: print(iJO1366_m9_anaerobic.reactions.get_by_id(x).reactants[0].name)"
   ]
  },
  {
   "cell_type": "code",
   "execution_count": 59,
   "metadata": {},
   "outputs": [
    {
     "name": "stdout",
     "output_type": "stream",
     "text": [
      "L-Serine\n",
      "Deoxyuridine\n",
      "Trehalose\n",
      "Deoxyguanosine\n",
      "Glycine\n",
      "Pyridoxine\n",
      "Myo-Inositol hexakisphosphate\n",
      "Shikimate\n"
     ]
    }
   ],
   "source": [
    "for x in vivo_ex_only_input: print(iJO1366_invivo_metaT.reactions.get_by_id(x).reactants[0].name)"
   ]
  },
  {
   "cell_type": "code",
   "execution_count": 19,
   "metadata": {},
   "outputs": [
    {
     "name": "stdout",
     "output_type": "stream",
     "text": [
      "1.11 hours\n"
     ]
    }
   ],
   "source": [
    "max_doubling_time(iJO1366_invivo_metaT)"
   ]
  },
  {
   "cell_type": "code",
   "execution_count": 22,
   "metadata": {},
   "outputs": [],
   "source": [
    "# Write flux sample tables to tsv\n",
    "m9_anaerobic_samples.to_csv('/home/mjenior/Desktop/repos/Jenior_RIPTiDe_2019/data/flux_samples/invitro.flux_samples.tsv', sep='\\t')\n",
    "label_flux_samples('/home/mjenior/Desktop/repos/Jenior_RIPTiDe_2019/data/flux_samples/invitro.flux_samples.tsv', 'invitro')\n",
    "\n",
    "invivo_metaT_samples.to_csv('/home/mjenior/Desktop/repos/Jenior_RIPTiDe_2019/data/flux_samples/invivo.flux_samples.tsv', sep='\\t')\n",
    "label_flux_samples('/home/mjenior/Desktop/repos/Jenior_RIPTiDe_2019/data/flux_samples/invivo.flux_samples.tsv', 'invivo')"
   ]
  },
  {
   "cell_type": "code",
   "execution_count": 17,
   "metadata": {},
   "outputs": [
    {
     "name": "stdout",
     "output_type": "stream",
     "text": [
      "[86.41, 105.13, 111.6]\n",
      "[0.538, 0.571, 0.694]\n"
     ]
    }
   ],
   "source": [
    "invivo_metaT_times = collect_doubling_times(invivo_metaT_samples, 'BIOMASS_Ec_iJO1366_WT_53p95M')\n",
    "print([min(invivo_metaT_times), numpy.median(invivo_metaT_times), max(invivo_metaT_times)])\n",
    "invivo_metaT_rates = collect_growth_rates(invivo_metaT_samples, 'BIOMASS_Ec_iJO1366_WT_53p95M')\n",
    "print([min(invivo_metaT_rates), numpy.median(invivo_metaT_rates), max(invivo_metaT_rates)])"
   ]
  },
  {
   "cell_type": "code",
   "execution_count": 70,
   "metadata": {},
   "outputs": [],
   "source": [
    "m9 = cobra.io.read_sbml_model('/home/mjenior/Desktop/repos/Jenior_RIPTiDe_2019/data/riptide_models/iJO1366_m9_aerobic.sbml')\n",
    "lb = cobra.io.read_sbml_model('/home/mjenior/Desktop/repos/Jenior_RIPTiDe_2019/data/riptide_models/iJO1366_lb_aerobic.sbml')"
   ]
  },
  {
   "cell_type": "code",
   "execution_count": 71,
   "metadata": {},
   "outputs": [
    {
     "name": "stdout",
     "output_type": "stream",
     "text": [
      "Metabolite sources: 4\n",
      "Metabolite sources: 3\n"
     ]
    }
   ],
   "source": [
    "m9_nadph = find_source(m9, 'nadph_c')\n",
    "lb_nadph = find_source(lb, 'nadph_c')"
   ]
  },
  {
   "cell_type": "code",
   "execution_count": null,
   "metadata": {},
   "outputs": [],
   "source": []
  },
  {
   "cell_type": "markdown",
   "metadata": {},
   "source": [
    "### Testing Previous Integration Algorithms"
   ]
  },
  {
   "cell_type": "code",
   "execution_count": 6,
   "metadata": {},
   "outputs": [],
   "source": [
    "iJO1366 = cobra.io.read_sbml_model('/home/mjenior/Desktop/repos/Jenior_RIPTiDe_2019/data/reconstructions/iJO1366.xml')\n",
    "iJO1366.objective = iJO1366.reactions.BIOMASS_Ec_iJO1366_WT_53p95M\n",
    "\n",
    "# Open all exchanges\n",
    "exchanges = set()\n",
    "for rxn in iJO1366.reactions:\n",
    "    if len(rxn.reactants) == 0 or len(rxn.products) == 0:\n",
    "        rxn.bounds = (min(rxn.lower_bound, -1000), max(rxn.upper_bound, 1000))\n",
    "        exchanges |= set([rxn.id])"
   ]
  },
  {
   "cell_type": "code",
   "execution_count": 7,
   "metadata": {},
   "outputs": [
    {
     "data": {
      "application/javascript": [
       "\n",
       "(function(root) {\n",
       "  function now() {\n",
       "    return new Date();\n",
       "  }\n",
       "\n",
       "  var force = true;\n",
       "\n",
       "  if (typeof (root._bokeh_onload_callbacks) === \"undefined\" || force === true) {\n",
       "    root._bokeh_onload_callbacks = [];\n",
       "    root._bokeh_is_loading = undefined;\n",
       "  }\n",
       "\n",
       "  var JS_MIME_TYPE = 'application/javascript';\n",
       "  var HTML_MIME_TYPE = 'text/html';\n",
       "  var EXEC_MIME_TYPE = 'application/vnd.bokehjs_exec.v0+json';\n",
       "  var CLASS_NAME = 'output_bokeh rendered_html';\n",
       "\n",
       "  /**\n",
       "   * Render data to the DOM node\n",
       "   */\n",
       "  function render(props, node) {\n",
       "    var script = document.createElement(\"script\");\n",
       "    node.appendChild(script);\n",
       "  }\n",
       "\n",
       "  /**\n",
       "   * Handle when an output is cleared or removed\n",
       "   */\n",
       "  function handleClearOutput(event, handle) {\n",
       "    var cell = handle.cell;\n",
       "\n",
       "    var id = cell.output_area._bokeh_element_id;\n",
       "    var server_id = cell.output_area._bokeh_server_id;\n",
       "    // Clean up Bokeh references\n",
       "    if (id !== undefined) {\n",
       "      Bokeh.index[id].model.document.clear();\n",
       "      delete Bokeh.index[id];\n",
       "    }\n",
       "\n",
       "    if (server_id !== undefined) {\n",
       "      // Clean up Bokeh references\n",
       "      var cmd = \"from bokeh.io.state import curstate; print(curstate().uuid_to_server['\" + server_id + \"'].get_sessions()[0].document.roots[0]._id)\";\n",
       "      cell.notebook.kernel.execute(cmd, {\n",
       "        iopub: {\n",
       "          output: function(msg) {\n",
       "            var element_id = msg.content.text.trim();\n",
       "            Bokeh.index[element_id].model.document.clear();\n",
       "            delete Bokeh.index[element_id];\n",
       "          }\n",
       "        }\n",
       "      });\n",
       "      // Destroy server and session\n",
       "      var cmd = \"import bokeh.io.notebook as ion; ion.destroy_server('\" + server_id + \"')\";\n",
       "      cell.notebook.kernel.execute(cmd);\n",
       "    }\n",
       "  }\n",
       "\n",
       "  /**\n",
       "   * Handle when a new output is added\n",
       "   */\n",
       "  function handleAddOutput(event, handle) {\n",
       "    var output_area = handle.output_area;\n",
       "    var output = handle.output;\n",
       "\n",
       "    // limit handleAddOutput to display_data with EXEC_MIME_TYPE content only\n",
       "    if ((output.output_type != \"display_data\") || (!output.data.hasOwnProperty(EXEC_MIME_TYPE))) {\n",
       "      return\n",
       "    }\n",
       "\n",
       "    var toinsert = output_area.element.find(\".\" + CLASS_NAME.split(' ')[0]);\n",
       "\n",
       "    if (output.metadata[EXEC_MIME_TYPE][\"id\"] !== undefined) {\n",
       "      toinsert[0].firstChild.textContent = output.data[JS_MIME_TYPE];\n",
       "      // store reference to embed id on output_area\n",
       "      output_area._bokeh_element_id = output.metadata[EXEC_MIME_TYPE][\"id\"];\n",
       "    }\n",
       "    if (output.metadata[EXEC_MIME_TYPE][\"server_id\"] !== undefined) {\n",
       "      var bk_div = document.createElement(\"div\");\n",
       "      bk_div.innerHTML = output.data[HTML_MIME_TYPE];\n",
       "      var script_attrs = bk_div.children[0].attributes;\n",
       "      for (var i = 0; i < script_attrs.length; i++) {\n",
       "        toinsert[0].firstChild.setAttribute(script_attrs[i].name, script_attrs[i].value);\n",
       "      }\n",
       "      // store reference to server id on output_area\n",
       "      output_area._bokeh_server_id = output.metadata[EXEC_MIME_TYPE][\"server_id\"];\n",
       "    }\n",
       "  }\n",
       "\n",
       "  function register_renderer(events, OutputArea) {\n",
       "\n",
       "    function append_mime(data, metadata, element) {\n",
       "      // create a DOM node to render to\n",
       "      var toinsert = this.create_output_subarea(\n",
       "        metadata,\n",
       "        CLASS_NAME,\n",
       "        EXEC_MIME_TYPE\n",
       "      );\n",
       "      this.keyboard_manager.register_events(toinsert);\n",
       "      // Render to node\n",
       "      var props = {data: data, metadata: metadata[EXEC_MIME_TYPE]};\n",
       "      render(props, toinsert[0]);\n",
       "      element.append(toinsert);\n",
       "      return toinsert\n",
       "    }\n",
       "\n",
       "    /* Handle when an output is cleared or removed */\n",
       "    events.on('clear_output.CodeCell', handleClearOutput);\n",
       "    events.on('delete.Cell', handleClearOutput);\n",
       "\n",
       "    /* Handle when a new output is added */\n",
       "    events.on('output_added.OutputArea', handleAddOutput);\n",
       "\n",
       "    /**\n",
       "     * Register the mime type and append_mime function with output_area\n",
       "     */\n",
       "    OutputArea.prototype.register_mime_type(EXEC_MIME_TYPE, append_mime, {\n",
       "      /* Is output safe? */\n",
       "      safe: true,\n",
       "      /* Index of renderer in `output_area.display_order` */\n",
       "      index: 0\n",
       "    });\n",
       "  }\n",
       "\n",
       "  // register the mime type if in Jupyter Notebook environment and previously unregistered\n",
       "  if (root.Jupyter !== undefined) {\n",
       "    var events = require('base/js/events');\n",
       "    var OutputArea = require('notebook/js/outputarea').OutputArea;\n",
       "\n",
       "    if (OutputArea.prototype.mime_types().indexOf(EXEC_MIME_TYPE) == -1) {\n",
       "      register_renderer(events, OutputArea);\n",
       "    }\n",
       "  }\n",
       "\n",
       "  \n",
       "  if (typeof (root._bokeh_timeout) === \"undefined\" || force === true) {\n",
       "    root._bokeh_timeout = Date.now() + 5000;\n",
       "    root._bokeh_failed_load = false;\n",
       "  }\n",
       "\n",
       "  var NB_LOAD_WARNING = {'data': {'text/html':\n",
       "     \"<div style='background-color: #fdd'>\\n\"+\n",
       "     \"<p>\\n\"+\n",
       "     \"BokehJS does not appear to have successfully loaded. If loading BokehJS from CDN, this \\n\"+\n",
       "     \"may be due to a slow or bad network connection. Possible fixes:\\n\"+\n",
       "     \"</p>\\n\"+\n",
       "     \"<ul>\\n\"+\n",
       "     \"<li>re-rerun `output_notebook()` to attempt to load from CDN again, or</li>\\n\"+\n",
       "     \"<li>use INLINE resources instead, as so:</li>\\n\"+\n",
       "     \"</ul>\\n\"+\n",
       "     \"<code>\\n\"+\n",
       "     \"from bokeh.resources import INLINE\\n\"+\n",
       "     \"output_notebook(resources=INLINE)\\n\"+\n",
       "     \"</code>\\n\"+\n",
       "     \"</div>\"}};\n",
       "\n",
       "  function display_loaded() {\n",
       "    var el = document.getElementById(null);\n",
       "    if (el != null) {\n",
       "      el.textContent = \"BokehJS is loading...\";\n",
       "    }\n",
       "    if (root.Bokeh !== undefined) {\n",
       "      if (el != null) {\n",
       "        el.textContent = \"BokehJS \" + root.Bokeh.version + \" successfully loaded.\";\n",
       "      }\n",
       "    } else if (Date.now() < root._bokeh_timeout) {\n",
       "      setTimeout(display_loaded, 100)\n",
       "    }\n",
       "  }\n",
       "\n",
       "\n",
       "  function run_callbacks() {\n",
       "    try {\n",
       "      root._bokeh_onload_callbacks.forEach(function(callback) { callback() });\n",
       "    }\n",
       "    finally {\n",
       "      delete root._bokeh_onload_callbacks\n",
       "    }\n",
       "    console.info(\"Bokeh: all callbacks have finished\");\n",
       "  }\n",
       "\n",
       "  function load_libs(js_urls, callback) {\n",
       "    root._bokeh_onload_callbacks.push(callback);\n",
       "    if (root._bokeh_is_loading > 0) {\n",
       "      console.log(\"Bokeh: BokehJS is being loaded, scheduling callback at\", now());\n",
       "      return null;\n",
       "    }\n",
       "    if (js_urls == null || js_urls.length === 0) {\n",
       "      run_callbacks();\n",
       "      return null;\n",
       "    }\n",
       "    console.log(\"Bokeh: BokehJS not loaded, scheduling load and callback at\", now());\n",
       "    root._bokeh_is_loading = js_urls.length;\n",
       "    for (var i = 0; i < js_urls.length; i++) {\n",
       "      var url = js_urls[i];\n",
       "      var s = document.createElement('script');\n",
       "      s.src = url;\n",
       "      s.async = false;\n",
       "      s.onreadystatechange = s.onload = function() {\n",
       "        root._bokeh_is_loading--;\n",
       "        if (root._bokeh_is_loading === 0) {\n",
       "          console.log(\"Bokeh: all BokehJS libraries loaded\");\n",
       "          run_callbacks()\n",
       "        }\n",
       "      };\n",
       "      s.onerror = function() {\n",
       "        console.warn(\"failed to load library \" + url);\n",
       "      };\n",
       "      console.log(\"Bokeh: injecting script tag for BokehJS library: \", url);\n",
       "      document.getElementsByTagName(\"head\")[0].appendChild(s);\n",
       "    }\n",
       "  };\n",
       "\n",
       "  var js_urls = [\"https://cdn.pydata.org/bokeh/release/bokeh-0.12.13.min.js\", \"https://cdn.pydata.org/bokeh/release/bokeh-widgets-0.12.13.min.js\", \"https://cdn.pydata.org/bokeh/release/bokeh-tables-0.12.13.min.js\", \"https://cdn.pydata.org/bokeh/release/bokeh-gl-0.12.13.min.js\"];\n",
       "\n",
       "  var inline_js = [\n",
       "    function(Bokeh) {\n",
       "      Bokeh.set_log_level(\"info\");\n",
       "    },\n",
       "    \n",
       "    function(Bokeh) {\n",
       "      \n",
       "    },\n",
       "    function(Bokeh) {\n",
       "      console.log(\"Bokeh: injecting CSS: https://cdn.pydata.org/bokeh/release/bokeh-0.12.13.min.css\");\n",
       "      Bokeh.embed.inject_css(\"https://cdn.pydata.org/bokeh/release/bokeh-0.12.13.min.css\");\n",
       "      console.log(\"Bokeh: injecting CSS: https://cdn.pydata.org/bokeh/release/bokeh-widgets-0.12.13.min.css\");\n",
       "      Bokeh.embed.inject_css(\"https://cdn.pydata.org/bokeh/release/bokeh-widgets-0.12.13.min.css\");\n",
       "      console.log(\"Bokeh: injecting CSS: https://cdn.pydata.org/bokeh/release/bokeh-tables-0.12.13.min.css\");\n",
       "      Bokeh.embed.inject_css(\"https://cdn.pydata.org/bokeh/release/bokeh-tables-0.12.13.min.css\");\n",
       "    }\n",
       "  ];\n",
       "\n",
       "  function run_inline_js() {\n",
       "    \n",
       "    if ((root.Bokeh !== undefined) || (force === true)) {\n",
       "      for (var i = 0; i < inline_js.length; i++) {\n",
       "        inline_js[i].call(root, root.Bokeh);\n",
       "      }} else if (Date.now() < root._bokeh_timeout) {\n",
       "      setTimeout(run_inline_js, 100);\n",
       "    } else if (!root._bokeh_failed_load) {\n",
       "      console.log(\"Bokeh: BokehJS failed to load within specified timeout.\");\n",
       "      root._bokeh_failed_load = true;\n",
       "    } else if (force !== true) {\n",
       "      var cell = $(document.getElementById(null)).parents('.cell').data().cell;\n",
       "      cell.output_area.append_execute_result(NB_LOAD_WARNING)\n",
       "    }\n",
       "\n",
       "  }\n",
       "\n",
       "  if (root._bokeh_is_loading === 0) {\n",
       "    console.log(\"Bokeh: BokehJS loaded, going straight to plotting\");\n",
       "    run_inline_js();\n",
       "  } else {\n",
       "    load_libs(js_urls, function() {\n",
       "      console.log(\"Bokeh: BokehJS plotting callback run at\", now());\n",
       "      run_inline_js();\n",
       "    });\n",
       "  }\n",
       "}(window));"
      ],
      "application/vnd.bokehjs_load.v0+json": "\n(function(root) {\n  function now() {\n    return new Date();\n  }\n\n  var force = true;\n\n  if (typeof (root._bokeh_onload_callbacks) === \"undefined\" || force === true) {\n    root._bokeh_onload_callbacks = [];\n    root._bokeh_is_loading = undefined;\n  }\n\n  \n\n  \n  if (typeof (root._bokeh_timeout) === \"undefined\" || force === true) {\n    root._bokeh_timeout = Date.now() + 5000;\n    root._bokeh_failed_load = false;\n  }\n\n  var NB_LOAD_WARNING = {'data': {'text/html':\n     \"<div style='background-color: #fdd'>\\n\"+\n     \"<p>\\n\"+\n     \"BokehJS does not appear to have successfully loaded. If loading BokehJS from CDN, this \\n\"+\n     \"may be due to a slow or bad network connection. Possible fixes:\\n\"+\n     \"</p>\\n\"+\n     \"<ul>\\n\"+\n     \"<li>re-rerun `output_notebook()` to attempt to load from CDN again, or</li>\\n\"+\n     \"<li>use INLINE resources instead, as so:</li>\\n\"+\n     \"</ul>\\n\"+\n     \"<code>\\n\"+\n     \"from bokeh.resources import INLINE\\n\"+\n     \"output_notebook(resources=INLINE)\\n\"+\n     \"</code>\\n\"+\n     \"</div>\"}};\n\n  function display_loaded() {\n    var el = document.getElementById(null);\n    if (el != null) {\n      el.textContent = \"BokehJS is loading...\";\n    }\n    if (root.Bokeh !== undefined) {\n      if (el != null) {\n        el.textContent = \"BokehJS \" + root.Bokeh.version + \" successfully loaded.\";\n      }\n    } else if (Date.now() < root._bokeh_timeout) {\n      setTimeout(display_loaded, 100)\n    }\n  }\n\n\n  function run_callbacks() {\n    try {\n      root._bokeh_onload_callbacks.forEach(function(callback) { callback() });\n    }\n    finally {\n      delete root._bokeh_onload_callbacks\n    }\n    console.info(\"Bokeh: all callbacks have finished\");\n  }\n\n  function load_libs(js_urls, callback) {\n    root._bokeh_onload_callbacks.push(callback);\n    if (root._bokeh_is_loading > 0) {\n      console.log(\"Bokeh: BokehJS is being loaded, scheduling callback at\", now());\n      return null;\n    }\n    if (js_urls == null || js_urls.length === 0) {\n      run_callbacks();\n      return null;\n    }\n    console.log(\"Bokeh: BokehJS not loaded, scheduling load and callback at\", now());\n    root._bokeh_is_loading = js_urls.length;\n    for (var i = 0; i < js_urls.length; i++) {\n      var url = js_urls[i];\n      var s = document.createElement('script');\n      s.src = url;\n      s.async = false;\n      s.onreadystatechange = s.onload = function() {\n        root._bokeh_is_loading--;\n        if (root._bokeh_is_loading === 0) {\n          console.log(\"Bokeh: all BokehJS libraries loaded\");\n          run_callbacks()\n        }\n      };\n      s.onerror = function() {\n        console.warn(\"failed to load library \" + url);\n      };\n      console.log(\"Bokeh: injecting script tag for BokehJS library: \", url);\n      document.getElementsByTagName(\"head\")[0].appendChild(s);\n    }\n  };\n\n  var js_urls = [\"https://cdn.pydata.org/bokeh/release/bokeh-0.12.13.min.js\", \"https://cdn.pydata.org/bokeh/release/bokeh-widgets-0.12.13.min.js\", \"https://cdn.pydata.org/bokeh/release/bokeh-tables-0.12.13.min.js\", \"https://cdn.pydata.org/bokeh/release/bokeh-gl-0.12.13.min.js\"];\n\n  var inline_js = [\n    function(Bokeh) {\n      Bokeh.set_log_level(\"info\");\n    },\n    \n    function(Bokeh) {\n      \n    },\n    function(Bokeh) {\n      console.log(\"Bokeh: injecting CSS: https://cdn.pydata.org/bokeh/release/bokeh-0.12.13.min.css\");\n      Bokeh.embed.inject_css(\"https://cdn.pydata.org/bokeh/release/bokeh-0.12.13.min.css\");\n      console.log(\"Bokeh: injecting CSS: https://cdn.pydata.org/bokeh/release/bokeh-widgets-0.12.13.min.css\");\n      Bokeh.embed.inject_css(\"https://cdn.pydata.org/bokeh/release/bokeh-widgets-0.12.13.min.css\");\n      console.log(\"Bokeh: injecting CSS: https://cdn.pydata.org/bokeh/release/bokeh-tables-0.12.13.min.css\");\n      Bokeh.embed.inject_css(\"https://cdn.pydata.org/bokeh/release/bokeh-tables-0.12.13.min.css\");\n    }\n  ];\n\n  function run_inline_js() {\n    \n    if ((root.Bokeh !== undefined) || (force === true)) {\n      for (var i = 0; i < inline_js.length; i++) {\n        inline_js[i].call(root, root.Bokeh);\n      }} else if (Date.now() < root._bokeh_timeout) {\n      setTimeout(run_inline_js, 100);\n    } else if (!root._bokeh_failed_load) {\n      console.log(\"Bokeh: BokehJS failed to load within specified timeout.\");\n      root._bokeh_failed_load = true;\n    } else if (force !== true) {\n      var cell = $(document.getElementById(null)).parents('.cell').data().cell;\n      cell.output_area.append_execute_result(NB_LOAD_WARNING)\n    }\n\n  }\n\n  if (root._bokeh_is_loading === 0) {\n    console.log(\"Bokeh: BokehJS loaded, going straight to plotting\");\n    run_inline_js();\n  } else {\n    load_libs(js_urls, function() {\n      console.log(\"Bokeh: BokehJS plotting callback run at\", now());\n      run_inline_js();\n    });\n  }\n}(window));"
     },
     "metadata": {},
     "output_type": "display_data"
    }
   ],
   "source": [
    "# Comparison to GIMME, iMAT, and CORDA\n",
    "import copy\n",
    "import cobra\n",
    "from driven.flux_analysis.transcriptomics import *\n",
    "from driven.data_sets.expression_profile import *\n",
    "from corda import CORDA"
   ]
  },
  {
   "cell_type": "code",
   "execution_count": 8,
   "metadata": {},
   "outputs": [],
   "source": [
    "# Read in formatted data\n",
    "m9_aerobic_driven = ExpressionProfile.from_csv('/home/mjenior/Desktop/repos/Jenior_RIPTiDe_2019/data/transcript/Monk_et_al_2016/m9_aerobic_expression.csv')\n",
    "\n",
    "# Define thresholds\n",
    "gimme_threshold = 12\n",
    "\n",
    "imat_lo_threshold = 10\n",
    "imat_hi_threshold = 900\n",
    "\n",
    "conda_lo_threshold = 10\n",
    "conda_hi_threshold = 900\n",
    "\n",
    "# Format data for CORDA\n",
    "conda_gene_confidences = {}\n",
    "with open('/home/mjenior/Desktop/repos/Jenior_RIPTiDe_2019/data/transcript/Monk_et_al_2016/m9_aerobic_expression.csv', 'r') as transcription:\n",
    "    for line in transcription:\n",
    "        gene = line.strip().split(',')[0]\n",
    "        abundance = float(line.strip().split(',')[1])\n",
    "        \n",
    "        if abundance < conda_lo_threshold:\n",
    "            confidence = 1\n",
    "        elif abundance >= conda_lo_threshold and abundance < conda_hi_threshold:\n",
    "            confidence = 2\n",
    "        elif abundance >= conda_hi_threshold:\n",
    "            confidence = 3\n",
    "        else:\n",
    "            confidence = 0\n",
    "        \n",
    "        conda_gene_confidences[gene] = confidence\n",
    "\n",
    "conda_rxn_confidences = {}\n",
    "conda_rxn_confidences['BIOMASS_Ec_iJO1366_WT_53p95M'] = 3\n",
    "for gene in iJO1366.genes:\n",
    "    try:\n",
    "        confidence = conda_gene_confidences[gene.id]\n",
    "    except:\n",
    "        continue\n",
    "    reactions = [x.id for x in list(gene.reactions)]\n",
    "    for rxn in reactions:\n",
    "        conda_rxn_confidences[rxn] = confidence\n",
    "        \n",
    "for rxn in iJO1366.reactions:\n",
    "    if rxn.id not in conda_rxn_confidences.keys():\n",
    "        conda_rxn_confidences[rxn.id] = 0\n"
   ]
  },
  {
   "cell_type": "code",
   "execution_count": 12,
   "metadata": {},
   "outputs": [
    {
     "ename": "AssertionError",
     "evalue": "",
     "output_type": "error",
     "traceback": [
      "\u001b[0;31m---------------------------------------------------------------------------\u001b[0m",
      "\u001b[0;31mAssertionError\u001b[0m                            Traceback (most recent call last)",
      "\u001b[0;32m<ipython-input-12-e70eeef8a126>\u001b[0m in \u001b[0;36m<module>\u001b[0;34m\u001b[0m\n\u001b[1;32m      1\u001b[0m \u001b[0;31m# GIMME\u001b[0m\u001b[0;34m\u001b[0m\u001b[0;34m\u001b[0m\u001b[0m\n\u001b[0;32m----> 2\u001b[0;31m \u001b[0miJO1366_gimme_result\u001b[0m \u001b[0;34m=\u001b[0m \u001b[0mgimme\u001b[0m\u001b[0;34m(\u001b[0m\u001b[0miJO1366\u001b[0m\u001b[0;34m,\u001b[0m \u001b[0mcutoff\u001b[0m\u001b[0;34m=\u001b[0m\u001b[0mgimme_threshold\u001b[0m\u001b[0;34m,\u001b[0m \u001b[0mexpression_profile\u001b[0m\u001b[0;34m=\u001b[0m\u001b[0mm9_aerobic_driven\u001b[0m\u001b[0;34m)\u001b[0m\u001b[0;34m\u001b[0m\u001b[0m\n\u001b[0m\u001b[1;32m      3\u001b[0m \u001b[0mprint\u001b[0m\u001b[0;34m(\u001b[0m\u001b[0;34m'Done'\u001b[0m\u001b[0;34m)\u001b[0m\u001b[0;34m\u001b[0m\u001b[0m\n",
      "\u001b[0;32m~/.local/lib/python3.6/site-packages/driven/flux_analysis/transcriptomics.py\u001b[0m in \u001b[0;36mgimme\u001b[0;34m(model, expression_profile, cutoff, objective, objective_dist, fraction_of_optimum, normalization, condition, not_measured_value, *args, **kwargs)\u001b[0m\n\u001b[1;32m     67\u001b[0m     \"\"\"\n\u001b[1;32m     68\u001b[0m \u001b[0;34m\u001b[0m\u001b[0m\n\u001b[0;32m---> 69\u001b[0;31m     \u001b[0;32massert\u001b[0m \u001b[0misinstance\u001b[0m\u001b[0;34m(\u001b[0m\u001b[0mmodel\u001b[0m\u001b[0;34m,\u001b[0m \u001b[0mSolverBasedModel\u001b[0m\u001b[0;34m)\u001b[0m\u001b[0;34m\u001b[0m\u001b[0m\n\u001b[0m\u001b[1;32m     70\u001b[0m     \u001b[0;32massert\u001b[0m \u001b[0misinstance\u001b[0m\u001b[0;34m(\u001b[0m\u001b[0mexpression_profile\u001b[0m\u001b[0;34m,\u001b[0m \u001b[0mExpressionProfile\u001b[0m\u001b[0;34m)\u001b[0m\u001b[0;34m\u001b[0m\u001b[0m\n\u001b[1;32m     71\u001b[0m     \u001b[0;32massert\u001b[0m \u001b[0misinstance\u001b[0m\u001b[0;34m(\u001b[0m\u001b[0mfraction_of_optimum\u001b[0m\u001b[0;34m,\u001b[0m \u001b[0mnumbers\u001b[0m\u001b[0;34m.\u001b[0m\u001b[0mNumber\u001b[0m\u001b[0;34m)\u001b[0m\u001b[0;34m\u001b[0m\u001b[0m\n",
      "\u001b[0;31mAssertionError\u001b[0m: "
     ]
    }
   ],
   "source": [
    "# GIMME\n",
    "iJO1366_gimme_result = gimme(iJO1366, cutoff=gimme_threshold, expression_profile=m9_aerobic_driven)\n",
    "print('Done')"
   ]
  },
  {
   "cell_type": "code",
   "execution_count": 33,
   "metadata": {},
   "outputs": [
    {
     "name": "stdout",
     "output_type": "stream",
     "text": [
      "130\n",
      "Objective value: nan\n"
     ]
    }
   ],
   "source": [
    "# Check for overlap with lowly expressed reactions and gapfilled\n",
    "current = 0\n",
    "remove = []\n",
    "for entry in iJO1366_gimme_result.data_frame['inconsistency_scores']:\n",
    "    if entry != 0.0:\n",
    "        remove.append(list(iJO1366_gimme_result.fluxes.index)[current])\n",
    "    current += 1\n",
    "\n",
    "iJO1366_gimme = copy.deepcopy(iJO1366)\n",
    "\n",
    "# Constrain fluxes to match output\n",
    "for rxn_id, flux in iJO1366_gimme_result.fluxes.items():\n",
    "    iJO1366_gimme.reactions.get_by_id(rxn_id).bounds = (flux, flux)\n",
    "    \n",
    "# Prune inactive reactions\n",
    "for rxn in remove:\n",
    "    iJO1366_gimme.reactions.get_by_id(rxn).remove_from_model(remove_orphans=True)\n",
    "iJO1366_gimme.reactions.get_by_id('DM_4crsol_c').remove_from_model(remove_orphans=True)\n",
    "print(len(remove))\n",
    "removed = 1\n",
    "while removed == 1:\n",
    "    removed = 0\n",
    "    for cpd in iJO1366_gimme.metabolites:\n",
    "        if len(cpd.reactions) == 0:\n",
    "            cpd.remove_from_model(); removed = 1\n",
    "    for rxn in iJO1366_gimme.reactions:\n",
    "        if len(rxn.metabolites) == 0: \n",
    "            rxn.remove_from_model(); removed = 1\n",
    "\n",
    "# Test for growth\n",
    "print('Objective value: ' + str(iJO1366_gimme.slim_optimize()))"
   ]
  },
  {
   "cell_type": "code",
   "execution_count": 13,
   "metadata": {},
   "outputs": [
    {
     "ename": "AssertionError",
     "evalue": "",
     "output_type": "error",
     "traceback": [
      "\u001b[0;31m---------------------------------------------------------------------------\u001b[0m",
      "\u001b[0;31mAssertionError\u001b[0m                            Traceback (most recent call last)",
      "\u001b[0;32m<ipython-input-13-0693d41b032e>\u001b[0m in \u001b[0;36m<module>\u001b[0;34m\u001b[0m\n\u001b[1;32m      1\u001b[0m \u001b[0;31m# iMAT\u001b[0m\u001b[0;34m\u001b[0m\u001b[0;34m\u001b[0m\u001b[0m\n\u001b[0;32m----> 2\u001b[0;31m \u001b[0miJO1366_imat_result\u001b[0m \u001b[0;34m=\u001b[0m \u001b[0mimat\u001b[0m\u001b[0;34m(\u001b[0m\u001b[0miJO1366\u001b[0m\u001b[0;34m,\u001b[0m \u001b[0mexpression_profile\u001b[0m\u001b[0;34m=\u001b[0m\u001b[0mm9_aerobic_driven\u001b[0m\u001b[0;34m,\u001b[0m \u001b[0mlow_cutoff\u001b[0m\u001b[0;34m=\u001b[0m\u001b[0mimat_lo_threshold\u001b[0m\u001b[0;34m,\u001b[0m \u001b[0mhigh_cutoff\u001b[0m\u001b[0;34m=\u001b[0m\u001b[0mimat_hi_threshold\u001b[0m\u001b[0;34m)\u001b[0m\u001b[0;34m\u001b[0m\u001b[0m\n\u001b[0m\u001b[1;32m      3\u001b[0m \u001b[0mprint\u001b[0m\u001b[0;34m(\u001b[0m\u001b[0;34m'Done'\u001b[0m\u001b[0;34m)\u001b[0m\u001b[0;34m\u001b[0m\u001b[0m\n",
      "\u001b[0;32m~/.local/lib/python3.6/site-packages/driven/flux_analysis/transcriptomics.py\u001b[0m in \u001b[0;36mimat\u001b[0;34m(model, expression_profile, low_cutoff, high_cutoff, epsilon, condition, normalization, fraction_of_optimum, objective, not_measured_value, *args, **kwargs)\u001b[0m\n\u001b[1;32m    127\u001b[0m     \"\"\"\n\u001b[1;32m    128\u001b[0m \u001b[0;34m\u001b[0m\u001b[0m\n\u001b[0;32m--> 129\u001b[0;31m     \u001b[0;32massert\u001b[0m \u001b[0misinstance\u001b[0m\u001b[0;34m(\u001b[0m\u001b[0mmodel\u001b[0m\u001b[0;34m,\u001b[0m \u001b[0mSolverBasedModel\u001b[0m\u001b[0;34m)\u001b[0m\u001b[0;34m\u001b[0m\u001b[0m\n\u001b[0m\u001b[1;32m    130\u001b[0m     \u001b[0;32massert\u001b[0m \u001b[0misinstance\u001b[0m\u001b[0;34m(\u001b[0m\u001b[0mexpression_profile\u001b[0m\u001b[0;34m,\u001b[0m \u001b[0mExpressionProfile\u001b[0m\u001b[0;34m)\u001b[0m\u001b[0;34m\u001b[0m\u001b[0m\n\u001b[1;32m    131\u001b[0m     \u001b[0;32massert\u001b[0m \u001b[0misinstance\u001b[0m\u001b[0;34m(\u001b[0m\u001b[0mhigh_cutoff\u001b[0m\u001b[0;34m,\u001b[0m \u001b[0mnumbers\u001b[0m\u001b[0;34m.\u001b[0m\u001b[0mNumber\u001b[0m\u001b[0;34m)\u001b[0m\u001b[0;34m\u001b[0m\u001b[0m\n",
      "\u001b[0;31mAssertionError\u001b[0m: "
     ]
    }
   ],
   "source": [
    "# iMAT\n",
    "iJO1366_imat_result = imat(iJO1366, expression_profile=m9_aerobic_driven, low_cutoff=imat_lo_threshold, high_cutoff=imat_hi_threshold)\n",
    "print('Done')"
   ]
  },
  {
   "cell_type": "code",
   "execution_count": 35,
   "metadata": {},
   "outputs": [
    {
     "name": "stdout",
     "output_type": "stream",
     "text": [
      "97\n"
     ]
    }
   ],
   "source": [
    "# Check for overlap with lowly expressed reactions\n",
    "from cobra.flux_analysis.parsimonious import *\n",
    "\n",
    "imat_pfba = pfba(iJO1366, fraction_of_optimum=0.8)\n",
    "test1 = imat_pfba.fluxes[imat_pfba.fluxes > 0.0]\n",
    "test1 = set(test1.index)\n",
    "\n",
    "test2 = set()\n",
    "for index in iJO1366_imat_result.lowly_express.keys():\n",
    "    if iJO1366_imat_result.lowly_express[index] == True:\n",
    "        test2 |= set([index])\n",
    "\n",
    "gapfilled_imat = test1.intersection(test2)\n",
    "print(len(gapfilled_imat))"
   ]
  },
  {
   "cell_type": "code",
   "execution_count": 9,
   "metadata": {},
   "outputs": [
    {
     "name": "stdout",
     "output_type": "stream",
     "text": [
      "Done\n"
     ]
    }
   ],
   "source": [
    "# CORDA\n",
    "optimal = CORDA(iJO1366, conda_rxn_confidences)\n",
    "optimal.build()\n",
    "print('Done')"
   ]
  },
  {
   "cell_type": "code",
   "execution_count": 10,
   "metadata": {},
   "outputs": [
    {
     "name": "stdout",
     "output_type": "stream",
     "text": [
      "build status: reconstruction complete\n",
      "Inc. reactions: 1001/2583\n",
      " - unclear: 231/621\n",
      " - exclude: 0/0\n",
      " - low and medium: 611/1784\n",
      " - high: 159/178\n",
      "\n"
     ]
    }
   ],
   "source": [
    "print(optimal)"
   ]
  },
  {
   "cell_type": "code",
   "execution_count": 11,
   "metadata": {},
   "outputs": [
    {
     "data": {
      "text/plain": [
       "0.0"
      ]
     },
     "execution_count": 11,
     "metadata": {},
     "output_type": "execute_result"
    }
   ],
   "source": [
    "optimal.model.objective = optimal.model.reactions.BIOMASS_Ec_iJO1366_WT_53p95M\n",
    "optimal.model.slim_optimize()"
   ]
  }
 ],
 "metadata": {
  "kernelspec": {
   "display_name": "Python 3",
   "language": "python",
   "name": "python3"
  },
  "language_info": {
   "codemirror_mode": {
    "name": "ipython",
    "version": 3
   },
   "file_extension": ".py",
   "mimetype": "text/x-python",
   "name": "python",
   "nbconvert_exporter": "python",
   "pygments_lexer": "ipython3",
   "version": "3.7.3"
  }
 },
 "nbformat": 4,
 "nbformat_minor": 2
}
