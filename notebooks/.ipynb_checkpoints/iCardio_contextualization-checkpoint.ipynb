{
 "cells": [
  {
   "cell_type": "code",
   "execution_count": 1,
   "metadata": {},
   "outputs": [],
   "source": [
    "from riptide import *"
   ]
  },
  {
   "cell_type": "code",
   "execution_count": 2,
   "metadata": {},
   "outputs": [],
   "source": [
    "# Load heart model\n",
    "iCardio = cobra.io.load_matlab_model('/home/mjenior/Desktop/iCardio/iRno_HeartModel.mat')"
   ]
  },
  {
   "cell_type": "code",
   "execution_count": 3,
   "metadata": {},
   "outputs": [
    {
     "data": {
      "text/html": [
       "\n",
       "        <table>\n",
       "            <tr>\n",
       "                <td><strong>Name</strong></td>\n",
       "                <td>iCardio_Rno</td>\n",
       "            </tr><tr>\n",
       "                <td><strong>Memory address</strong></td>\n",
       "                <td>0x07f26c9383358</td>\n",
       "            </tr><tr>\n",
       "                <td><strong>Number of metabolites</strong></td>\n",
       "                <td>2886</td>\n",
       "            </tr><tr>\n",
       "                <td><strong>Number of reactions</strong></td>\n",
       "                <td>4183</td>\n",
       "            </tr><tr>\n",
       "                <td><strong>Number of groups</strong></td>\n",
       "                <td>0</td>\n",
       "            </tr><tr>\n",
       "                <td><strong>Objective expression</strong></td>\n",
       "                <td>1.0*RCR11017 - 1.0*RCR11017_reverse_8d3a1</td>\n",
       "            </tr><tr>\n",
       "                <td><strong>Compartments</strong></td>\n",
       "                <td>c, r, s, m, p, g, l, n</td>\n",
       "            </tr>\n",
       "          </table>"
      ],
      "text/plain": [
       "<Model iCardio_Rno at 0x7f26c9383358>"
      ]
     },
     "execution_count": 3,
     "metadata": {},
     "output_type": "execute_result"
    }
   ],
   "source": [
    "iCardio"
   ]
  },
  {
   "cell_type": "code",
   "execution_count": 3,
   "metadata": {},
   "outputs": [],
   "source": [
    "# Constrain media condition - \n",
    "exchanges = ['RCR30315','RCR90123','RCR30024','RCR30046','RCR30045','RCR30032','RCR30013','RCR30015','RCR30014','RCR30145','RCR30095','RCR30005','RCR30321','RCR30116','RCR30527','RCR30528','RCR30529','RCR30530','RCR30531','RCR90202','RCR30184','RCR30117','RCR30042','RCR30317','RCR30318','RCR30031','RCR30185']\n",
    "\n",
    "for rxn in iCardio.reactions:\n",
    "    if len(rxn.products) == 0:\n",
    "        if not rxn.id in exchanges:\n",
    "            rxn.bounds = (0., min([rxn.upper_bound, 1000.]))\n",
    "        else:\n",
    "            rxn.bounds = (max([rxn.lower_bound, -1000.]), min([rxn.upper_bound, 1000.]))"
   ]
  },
  {
   "cell_type": "code",
   "execution_count": 7,
   "metadata": {},
   "outputs": [
    {
     "name": "stdout",
     "output_type": "stream",
     "text": [
      "Genes: 1728\n",
      "Objective value: 761.7658939393942\n"
     ]
    }
   ],
   "source": [
    "print('Genes: ' + str(len(iCardio.genes)))\n",
    "print('Objective value: ' + str(iCardio.slim_optimize()))"
   ]
  },
  {
   "cell_type": "code",
   "execution_count": 4,
   "metadata": {},
   "outputs": [],
   "source": [
    "# Read in Doxycycline 24 hour transcriptomic data and run RIPTiDe\n",
    "dox_24 = riptide.read_transcription_file(file='/home/mjenior/Desktop/iCardio/Dox_24.tsv', \n",
    "                                         header=True, replicates=True)"
   ]
  },
  {
   "cell_type": "code",
   "execution_count": 5,
   "metadata": {},
   "outputs": [
    {
     "name": "stdout",
     "output_type": "stream",
     "text": [
      "\n",
      "Initializing model and integrating transcriptomic data...\n",
      "Pruning zero flux subnetworks...\n",
      "Analyzing context-specific flux distributions...\n",
      "\n",
      "Reactions pruned to 112 from 4183 (97.32% change)\n",
      "Metabolites pruned to 126 from 2886 (95.63% change)\n",
      "Flux through the objective DECREASED to ~630.76 from ~761.77 (17.2% change)\n",
      "Context-specific metabolism correlates with transcriptome (p=0.011 *)\n",
      "\n",
      "RIPTiDe completed in 3 minutes and 12 seconds\n",
      "\n"
     ]
    }
   ],
   "source": [
    "# RIPTiDe with default parameters\n",
    "iCardio_dox_24 = riptide.contextualize(iCardio, transcriptome=dox_24)"
   ]
  },
  {
   "cell_type": "code",
   "execution_count": 14,
   "metadata": {},
   "outputs": [
    {
     "name": "stdout",
     "output_type": "stream",
     "text": [
      "\n",
      "Initializing model and integrating transcriptomic data...\n",
      "Pruning zero flux subnetworks...\n",
      "Analyzing context-specific flux distributions...\n",
      "\n",
      "Reactions pruned to 113 from 4183 (97.3% change)\n",
      "Metabolites pruned to 127 from 2886 (95.6% change)\n",
      "Flux through the objective DECREASED to ~630.76 from ~761.77 (17.2% change)\n",
      "Context-specific metabolism correlates with transcriptome (p=0.012 *)\n",
      "\n",
      "RIPTiDe completed in 4 minutes and 6 seconds\n",
      "\n"
     ]
    }
   ],
   "source": [
    "# Test with additional RIPTiDe parameters\n",
    "iCardio_dox_24_test1 = riptide.contextualize(iCardio, transcriptome=dox_24, additive=True)"
   ]
  },
  {
   "cell_type": "code",
   "execution_count": 20,
   "metadata": {},
   "outputs": [
    {
     "name": "stdout",
     "output_type": "stream",
     "text": [
      "\n",
      "Initializing model and integrating transcriptomic data...\n",
      "Pruning zero flux subnetworks...\n",
      "Analyzing context-specific flux distributions...\n",
      "\n",
      "Reactions pruned to 108 from 4183 (97.42% change)\n",
      "Metabolites pruned to 124 from 2886 (95.7% change)\n",
      "Flux through the objective DECREASED to ~615.8 from ~761.77 (19.16% change)\n",
      "\n",
      "RIPTiDe completed in 4 minutes and 6 seconds\n",
      "\n"
     ]
    }
   ],
   "source": [
    "# Test with additional RIPTiDe parameters\n",
    "iCardio_dox_24_test2 = riptide.contextualize(iCardio, transcriptome=dox_24, exch_weight=True)"
   ]
  },
  {
   "cell_type": "code",
   "execution_count": 21,
   "metadata": {},
   "outputs": [
    {
     "name": "stdout",
     "output_type": "stream",
     "text": [
      "\n",
      "Initializing model and integrating transcriptomic data...\n",
      "Pruning zero flux subnetworks...\n",
      "Analyzing context-specific flux distributions...\n",
      "\n",
      "Reactions pruned to 109 from 4183 (97.39% change)\n",
      "Metabolites pruned to 125 from 2886 (95.67% change)\n",
      "Flux through the objective DECREASED to ~615.8 from ~761.77 (19.16% change)\n",
      "Context-specific metabolism correlates with transcriptome (p=0.043 *)\n",
      "\n",
      "RIPTiDe completed in 4 minutes and 8 seconds\n",
      "\n"
     ]
    }
   ],
   "source": [
    "# Test with additional RIPTiDe parameters\n",
    "iCardio_dox_24_test3 = riptide.contextualize(iCardio, transcriptome=dox_24, exch_weight=True, additive=True)"
   ]
  },
  {
   "cell_type": "code",
   "execution_count": 6,
   "metadata": {},
   "outputs": [],
   "source": [
    "# Read in DMSO 24 hour transcriptomic data and run RIPTiDe (second replicate)\n",
    "dmso_24 = riptide.read_transcription_file(file='/home/mjenior/Desktop/iCardio/DMSO2_24.tsv', \n",
    "                                            header=True, replicates=True)"
   ]
  },
  {
   "cell_type": "code",
   "execution_count": 10,
   "metadata": {},
   "outputs": [
    {
     "name": "stdout",
     "output_type": "stream",
     "text": [
      "\n",
      "Initializing model and integrating transcriptomic data...\n",
      "Pruning zero flux subnetworks...\n",
      "Analyzing context-specific flux distributions...\n",
      "\n",
      "Reactions pruned to 112 from 4183 (97.32% change)\n",
      "Metabolites pruned to 126 from 2886 (95.63% change)\n",
      "Flux through the objective DECREASED to ~630.76 from ~761.77 (17.2% change)\n",
      "Context-specific metabolism correlates with transcriptome (p=0.008 **)\n",
      "\n",
      "RIPTiDe completed in 4 minutes and 9 seconds\n",
      "\n"
     ]
    }
   ],
   "source": [
    "# RIPTiDe with default parameters\n",
    "iCardio_dmso_24 = riptide.contextualize(iCardio, transcriptome=dmso_24)"
   ]
  },
  {
   "cell_type": "code",
   "execution_count": 6,
   "metadata": {},
   "outputs": [
    {
     "name": "stdout",
     "output_type": "stream",
     "text": [
      "\n",
      "Initializing model and integrating transcriptomic data...\n",
      "Pruning zero flux subnetworks...\n",
      "Analyzing context-specific flux distributions...\n",
      "\n",
      "Reactions pruned to 112 from 4183 (97.32% change)\n",
      "Metabolites pruned to 126 from 2886 (95.63% change)\n",
      "Flux through the objective DECREASED to ~630.76 from ~761.77 (17.2% change)\n",
      "Context-specific metabolism correlates with transcriptome (p=0.014 *)\n",
      "\n",
      "RIPTiDe completed in 3 minutes and 45 seconds\n",
      "\n"
     ]
    }
   ],
   "source": [
    "# Test with additional RIPTiDe parameters\n",
    "iCardio_dmso_24_test1 = riptide.contextualize(iCardio, transcriptome=dmso_24, additive=True)"
   ]
  },
  {
   "cell_type": "code",
   "execution_count": 7,
   "metadata": {},
   "outputs": [
    {
     "name": "stdout",
     "output_type": "stream",
     "text": [
      "\n",
      "Initializing model and integrating transcriptomic data...\n",
      "Pruning zero flux subnetworks...\n",
      "Analyzing context-specific flux distributions...\n",
      "\n",
      "Reactions pruned to 109 from 4183 (97.39% change)\n",
      "Metabolites pruned to 124 from 2886 (95.7% change)\n",
      "Flux through the objective DECREASED to ~615.8 from ~761.77 (19.16% change)\n",
      "Context-specific metabolism correlates with transcriptome (p=0.005 **)\n",
      "\n",
      "RIPTiDe completed in 3 minutes and 9 seconds\n",
      "\n"
     ]
    }
   ],
   "source": [
    "# Test with additional RIPTiDe parameters\n",
    "iCardio_dmso_24_test2 = riptide.contextualize(iCardio, transcriptome=dmso_24, exch_weight=True)"
   ]
  },
  {
   "cell_type": "code",
   "execution_count": 8,
   "metadata": {},
   "outputs": [
    {
     "name": "stdout",
     "output_type": "stream",
     "text": [
      "\n",
      "Initializing model and integrating transcriptomic data...\n",
      "Pruning zero flux subnetworks...\n",
      "Analyzing context-specific flux distributions...\n",
      "\n",
      "Reactions pruned to 109 from 4183 (97.39% change)\n",
      "Metabolites pruned to 124 from 2886 (95.7% change)\n",
      "Flux through the objective DECREASED to ~615.8 from ~761.77 (19.16% change)\n",
      "Context-specific metabolism correlates with transcriptome (p=0.047 *)\n",
      "\n",
      "RIPTiDe completed in 4 minutes and 3 seconds\n",
      "\n"
     ]
    }
   ],
   "source": [
    "# Test with additional RIPTiDe parameters\n",
    "iCardio_dmso_24_test3 = riptide.contextualize(iCardio, transcriptome=dmso_24, exch_weight=True, additive=True)"
   ]
  },
  {
   "cell_type": "code",
   "execution_count": 9,
   "metadata": {},
   "outputs": [
    {
     "name": "stdout",
     "output_type": "stream",
     "text": [
      "Dox 24 hr only genes: 5\n",
      "DMSO 24 hr only genes: 5\n",
      "\n",
      "Dox 24 hr only reactions: 9\n",
      "DMSO 24 hr only reactions: 6\n",
      "\n",
      "Dox 24 hr only metabolites: 3\n",
      "DMSO 24 hr only metabolites: 1\n",
      "\n",
      "Shared genes: 251\n",
      "Shared reactions: 103\n",
      "Shared metabolites: 123\n"
     ]
    }
   ],
   "source": [
    "# Compare resultant model topology\n",
    "\n",
    "test1 = set([x.id for x in iCardio_dox_24.model.genes])\n",
    "test2 = set([x.id for x in iCardio_dmso_24_test2.model.genes])\n",
    "\n",
    "dox_only_gene = list(test1.difference(test2))\n",
    "dmso_only_gene = list(test2.difference(test1))\n",
    "core_gene = list(test1.intersection(test2))\n",
    "\n",
    "print('Dox 24 hr only genes: ' + str(len(dox_only_gene)))\n",
    "print('DMSO 24 hr only genes: ' + str(len(dmso_only_gene)) + '\\n')\n",
    "\n",
    "#--------------------------------------------------------------------------#\n",
    "\n",
    "test1 = set([x.id for x in iCardio_dox_24.model.reactions])\n",
    "test2 = set([x.id for x in iCardio_dmso_24_test2.model.reactions])\n",
    "\n",
    "dox_only_rxn = list(test1.difference(test2))\n",
    "dmso_only_rxn = list(test2.difference(test1))\n",
    "core_rxn = list(test1.intersection(test2))\n",
    "\n",
    "print('Dox 24 hr only reactions: ' + str(len(dox_only_rxn)))\n",
    "print('DMSO 24 hr only reactions: ' + str(len(dmso_only_rxn)) + '\\n')\n",
    "\n",
    "#--------------------------------------------------------------------------#\n",
    "\n",
    "test1 = set([x.id for x in iCardio_dox_24.model.metabolites])\n",
    "test2 = set([x.id for x in iCardio_dmso_24_test2.model.metabolites])\n",
    "\n",
    "dox_only_cpd = list(test1.difference(test2))\n",
    "dmso_only_cpd = list(test2.difference(test1))\n",
    "core_cpd = list(test1.intersection(test2))\n",
    "\n",
    "print('Dox 24 hr only metabolites: ' + str(len(dox_only_cpd)))\n",
    "print('DMSO 24 hr only metabolites: ' + str(len(dmso_only_cpd)) + '\\n')\n",
    "\n",
    "#--------------------------------------------------------------------------#\n",
    "\n",
    "print('Shared genes: ' + str(len(core_gene)))\n",
    "print('Shared reactions: ' + str(len(core_rxn)))\n",
    "print('Shared metabolites: ' + str(len(core_cpd)))"
   ]
  },
  {
   "cell_type": "code",
   "execution_count": 11,
   "metadata": {},
   "outputs": [
    {
     "name": "stdout",
     "output_type": "stream",
     "text": [
      "Dox 24 hr only metabolites:\n",
      "\t2-oxobutyrate from the mitochondria\n",
      "\tserine from the cytoplasm\n",
      "\tserine from the extracellular space\n",
      "\n",
      "DMSO 24 hr only metabolites:\n",
      "\tglucosamine-6-phosphate from the cytoplasm\n"
     ]
    }
   ],
   "source": [
    "# Identify context-specific metabolites\n",
    "compartments = {'c': 'cytoplasm', \n",
    "                'r': 'endoplasmic reticulum', \n",
    "                's': 'extracellular space', \n",
    "                'm': 'mitochondria', \n",
    "                'p': 'peroxisome', \n",
    "                'g': 'golgi', \n",
    "                'l': 'lysosome', \n",
    "                'n': 'nucleus'}\n",
    "\n",
    "\n",
    "print('Dox 24 hr only metabolites:')\n",
    "for x in dox_only_cpd:\n",
    "    name = iCardio_dox_24.model.metabolites.get_by_id(x).name\n",
    "    compartment = compartments[iCardio_dox_24.model.metabolites.get_by_id(x).compartment]\n",
    "    print('\\t' + name + ' from the ' + compartment)\n",
    "    \n",
    "print('\\nDMSO 24 hr only metabolites:')\n",
    "for y in dmso_only_cpd:\n",
    "    name = iCardio_dmso_24_test2.model.metabolites.get_by_id(y).name\n",
    "    compartment = compartments[iCardio_dmso_24_test2.model.metabolites.get_by_id(y).compartment]\n",
    "    print('\\t' + name + ' from the ' + compartment)"
   ]
  },
  {
   "cell_type": "code",
   "execution_count": 12,
   "metadata": {},
   "outputs": [
    {
     "ename": "SyntaxError",
     "evalue": "invalid syntax (<ipython-input-12-a0153e578b39>, line 1)",
     "output_type": "error",
     "traceback": [
      "\u001b[0;36m  File \u001b[0;32m\"<ipython-input-12-a0153e578b39>\"\u001b[0;36m, line \u001b[0;32m1\u001b[0m\n\u001b[0;31m    .model.flux_samples.to_csv('/home/mjenior/Desktop/flux_samples.tsv', sep='\\t')\u001b[0m\n\u001b[0m    ^\u001b[0m\n\u001b[0;31mSyntaxError\u001b[0m\u001b[0;31m:\u001b[0m invalid syntax\n"
     ]
    }
   ],
   "source": [
    "iCardio_dox_24.model.model.flux_samples.to_csv('/home/mjenior/Desktop/iCardio_dox_24.flux_samples.tsv', sep='\\t')\n",
    "iCardio_dmso_24_test2.model.model.flux_samples.to_csv('/home/mjenior/Desktop/iCardio_dmso_24.flux_samples.tsv', sep='\\t')\n"
   ]
  },
  {
   "cell_type": "code",
   "execution_count": null,
   "metadata": {},
   "outputs": [],
   "source": []
  }
 ],
 "metadata": {
  "kernelspec": {
   "display_name": "Python 3",
   "language": "python",
   "name": "python3"
  },
  "language_info": {
   "codemirror_mode": {
    "name": "ipython",
    "version": 3
   },
   "file_extension": ".py",
   "mimetype": "text/x-python",
   "name": "python",
   "nbconvert_exporter": "python",
   "pygments_lexer": "ipython3",
   "version": "3.7.3"
  }
 },
 "nbformat": 4,
 "nbformat_minor": 2
}
