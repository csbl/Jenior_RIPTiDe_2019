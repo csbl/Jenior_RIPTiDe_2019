{
 "cells": [
  {
   "cell_type": "markdown",
   "metadata": {},
   "source": [
    "### Contextualizing Transcriptomic Data"
   ]
  },
  {
   "cell_type": "code",
   "execution_count": 1,
   "metadata": {},
   "outputs": [],
   "source": [
    "from riptide import *"
   ]
  },
  {
   "cell_type": "markdown",
   "metadata": {},
   "source": [
    "### Testing with Toy Model"
   ]
  },
  {
   "cell_type": "code",
   "execution_count": 2,
   "metadata": {},
   "outputs": [],
   "source": [
    "\n",
    "import operator\n",
    "from cobra.flux_analysis.parsimonious import *\n",
    "\n",
    "# Use FBA calculations to find new shadow prices\n",
    "def shadow_prices(model, compartment='all', top=25):\n",
    "    with model as m: solution = pfba(m)\n",
    "    \n",
    "    shadow_prices = {}\n",
    "    for cpd, price in solution.shadow_prices.iteritems():\n",
    "        cpd = model.metabolites.get_by_any(cpd)[0]\n",
    "        if compartment != 'all' and compartment != cpd.compartment:\n",
    "            continue\n",
    "        else:\n",
    "            if price > 0.0: shadow_prices[cpd.name] = price\n",
    "\n",
    "    sorted_prices = sorted(shadow_prices.items(), key=operator.itemgetter(1), reverse=True)[0:top]\n",
    "    sorted_prices = pandas.DataFrame(sorted_prices, columns=['metabolite', 'shadow_price'])\n",
    "    \n",
    "    return sorted_prices\n"
   ]
  },
  {
   "cell_type": "code",
   "execution_count": 3,
   "metadata": {},
   "outputs": [],
   "source": [
    "# Load in example model\n",
    "#toy_model = cobra.io.read_sbml_model('/home/matthew/Desktop/repos/Jenior_RIPTiDe_2019/data/reconstructions/example_GENRE.sbml')\n",
    "\n",
    "toy_model = cobra.io.read_sbml_model('/home/matt/Desktop/repos/Jenior_RIPTiDe_2019/data/reconstructions/example_GENRE.sbml')\n",
    "\n",
    "\n",
    "# gene1 = Glucose transporter\n",
    "# gene2 = Proline transporter\n",
    "# gene3 = Glycine transporter\n",
    "# gene4 = Hydrogen efflux\n",
    "# gene5 = Carbon dioxide efflux\n",
    "# gene6 = Phosphate transporter\n",
    "# gene7 = Glycolysis\n",
    "# gene8 = Stickland fermentation"
   ]
  },
  {
   "cell_type": "code",
   "execution_count": 4,
   "metadata": {},
   "outputs": [
    {
     "data": {
      "text/html": [
       "\n",
       "        <table>\n",
       "            <tr>\n",
       "                <td><strong>Name</strong></td>\n",
       "                <td>iTEST</td>\n",
       "            </tr><tr>\n",
       "                <td><strong>Memory address</strong></td>\n",
       "                <td>0x07f9715d9fe80</td>\n",
       "            </tr><tr>\n",
       "                <td><strong>Number of metabolites</strong></td>\n",
       "                <td>14</td>\n",
       "            </tr><tr>\n",
       "                <td><strong>Number of reactions</strong></td>\n",
       "                <td>16</td>\n",
       "            </tr><tr>\n",
       "                <td><strong>Number of groups</strong></td>\n",
       "                <td>0</td>\n",
       "            </tr><tr>\n",
       "                <td><strong>Objective expression</strong></td>\n",
       "                <td>1.0*DM_atp_c - 1.0*DM_atp_c_reverse_1b037</td>\n",
       "            </tr><tr>\n",
       "                <td><strong>Compartments</strong></td>\n",
       "                <td>e, c</td>\n",
       "            </tr>\n",
       "          </table>"
      ],
      "text/plain": [
       "<Model iTEST at 0x7f9715d9fe80>"
      ]
     },
     "execution_count": 4,
     "metadata": {},
     "output_type": "execute_result"
    }
   ],
   "source": [
    "toy_model"
   ]
  },
  {
   "cell_type": "code",
   "execution_count": 5,
   "metadata": {},
   "outputs": [
    {
     "data": {
      "text/html": [
       "<div>\n",
       "<style scoped>\n",
       "    .dataframe tbody tr th:only-of-type {\n",
       "        vertical-align: middle;\n",
       "    }\n",
       "\n",
       "    .dataframe tbody tr th {\n",
       "        vertical-align: top;\n",
       "    }\n",
       "\n",
       "    .dataframe thead th {\n",
       "        text-align: right;\n",
       "    }\n",
       "</style>\n",
       "<table border=\"1\" class=\"dataframe\">\n",
       "  <thead>\n",
       "    <tr style=\"text-align: right;\">\n",
       "      <th></th>\n",
       "      <th>metabolite</th>\n",
       "      <th>shadow_price</th>\n",
       "    </tr>\n",
       "  </thead>\n",
       "  <tbody>\n",
       "    <tr>\n",
       "      <th>0</th>\n",
       "      <td>ATP</td>\n",
       "      <td>8.0</td>\n",
       "    </tr>\n",
       "    <tr>\n",
       "      <th>1</th>\n",
       "      <td>Glucose</td>\n",
       "      <td>2.0</td>\n",
       "    </tr>\n",
       "    <tr>\n",
       "      <th>2</th>\n",
       "      <td>Proline</td>\n",
       "      <td>2.0</td>\n",
       "    </tr>\n",
       "    <tr>\n",
       "      <th>3</th>\n",
       "      <td>Pi</td>\n",
       "      <td>2.0</td>\n",
       "    </tr>\n",
       "    <tr>\n",
       "      <th>4</th>\n",
       "      <td>ADP</td>\n",
       "      <td>1.0</td>\n",
       "    </tr>\n",
       "  </tbody>\n",
       "</table>\n",
       "</div>"
      ],
      "text/plain": [
       "  metabolite  shadow_price\n",
       "0        ATP           8.0\n",
       "1    Glucose           2.0\n",
       "2    Proline           2.0\n",
       "3         Pi           2.0\n",
       "4        ADP           1.0"
      ]
     },
     "execution_count": 5,
     "metadata": {},
     "output_type": "execute_result"
    }
   ],
   "source": [
    "shadow_prices(toy_model)"
   ]
  },
  {
   "cell_type": "code",
   "execution_count": 6,
   "metadata": {},
   "outputs": [
    {
     "name": "stdout",
     "output_type": "stream",
     "text": [
      "EX_gluc_e   -1000.0\n",
      "rxn1         1000.0\n",
      "EX_pro_e        0.0\n",
      "rxn2            0.0\n",
      "EX_gly_e        0.0\n",
      "rxn3            0.0\n",
      "EX_h_e       1000.0\n",
      "rxn4         1000.0\n",
      "EX_co2_e        0.0\n",
      "rxn5            0.0\n",
      "EX_pi_e     -1000.0\n",
      "rxn6         1000.0\n",
      "EX_adp_c    -1000.0\n",
      "rxn7         1000.0\n",
      "rxn8            0.0\n",
      "DM_atp_c     1000.0\n",
      "Name: fluxes, dtype: float64\n"
     ]
    }
   ],
   "source": [
    "# Find most parsimonious route of flux\n",
    "from cobra.flux_analysis.parsimonious import pfba\n",
    "toy_solution = pfba(toy_model)\n",
    "print(toy_solution.fluxes)"
   ]
  },
  {
   "cell_type": "code",
   "execution_count": 7,
   "metadata": {},
   "outputs": [],
   "source": [
    "# Create associated transcriptomes\n",
    "glucose_transcriptome = {'gene1':100, 'gene2':1, 'gene3':1, 'gene4':1, \n",
    "                         'gene5':1, 'gene6':100, 'gene7':10000, 'gene8':1}\n",
    "peptide_transcriptome = {'gene1':1, 'gene2':100, 'gene3':100, 'gene4':1, \n",
    "                         'gene5':1, 'gene6':1, 'gene7':1, 'gene8':10000}"
   ]
  },
  {
   "cell_type": "code",
   "execution_count": 8,
   "metadata": {
    "scrolled": true
   },
   "outputs": [
    {
     "name": "stdout",
     "output_type": "stream",
     "text": [
      "\n",
      "Initializing model and integrating transcriptomic data...\n",
      "Pruning zero flux subnetworks...\n",
      "Analyzing context-specific flux distributions...\n",
      "\n",
      "Reactions pruned to 9 from 16 (43.75% change)\n",
      "Metabolites pruned to 8 from 14 (42.86% change)\n",
      "\n",
      "RIPTiDe completed in 3 seconds\n",
      "\n"
     ]
    }
   ],
   "source": [
    "# Contextualize toy model\n",
    "toy_model_glucose = riptide.contextualize(toy_model, transcriptome=glucose_transcriptome)"
   ]
  },
  {
   "cell_type": "code",
   "execution_count": 9,
   "metadata": {},
   "outputs": [
    {
     "data": {
      "text/html": [
       "<div>\n",
       "<style scoped>\n",
       "    .dataframe tbody tr th:only-of-type {\n",
       "        vertical-align: middle;\n",
       "    }\n",
       "\n",
       "    .dataframe tbody tr th {\n",
       "        vertical-align: top;\n",
       "    }\n",
       "\n",
       "    .dataframe thead th {\n",
       "        text-align: right;\n",
       "    }\n",
       "</style>\n",
       "<table border=\"1\" class=\"dataframe\">\n",
       "  <thead>\n",
       "    <tr style=\"text-align: right;\">\n",
       "      <th></th>\n",
       "      <th>metabolite</th>\n",
       "      <th>shadow_price</th>\n",
       "    </tr>\n",
       "  </thead>\n",
       "  <tbody>\n",
       "    <tr>\n",
       "      <th>0</th>\n",
       "      <td>ATP</td>\n",
       "      <td>8.0</td>\n",
       "    </tr>\n",
       "    <tr>\n",
       "      <th>1</th>\n",
       "      <td>Glucose</td>\n",
       "      <td>2.0</td>\n",
       "    </tr>\n",
       "    <tr>\n",
       "      <th>2</th>\n",
       "      <td>Pi</td>\n",
       "      <td>2.0</td>\n",
       "    </tr>\n",
       "    <tr>\n",
       "      <th>3</th>\n",
       "      <td>ADP</td>\n",
       "      <td>1.0</td>\n",
       "    </tr>\n",
       "  </tbody>\n",
       "</table>\n",
       "</div>"
      ],
      "text/plain": [
       "  metabolite  shadow_price\n",
       "0        ATP           8.0\n",
       "1    Glucose           2.0\n",
       "2         Pi           2.0\n",
       "3        ADP           1.0"
      ]
     },
     "execution_count": 9,
     "metadata": {},
     "output_type": "execute_result"
    }
   ],
   "source": [
    "shadow_prices(toy_model_glucose.model)"
   ]
  },
  {
   "cell_type": "code",
   "execution_count": 10,
   "metadata": {},
   "outputs": [
    {
     "name": "stdout",
     "output_type": "stream",
     "text": [
      "\n",
      "Initializing model and integrating transcriptomic data...\n",
      "Pruning zero flux subnetworks...\n",
      "Analyzing context-specific flux distributions...\n",
      "\n",
      "Reactions pruned to 13 from 16 (18.75% change)\n",
      "Metabolites pruned to 12 from 14 (14.29% change)\n",
      "\n",
      "RIPTiDe completed in 3 seconds\n",
      "\n"
     ]
    }
   ],
   "source": [
    "# Contextualize toy model\n",
    "toy_model_peptide = riptide.contextualize(toy_model, transcriptome=peptide_transcriptome)"
   ]
  },
  {
   "cell_type": "code",
   "execution_count": 11,
   "metadata": {},
   "outputs": [
    {
     "data": {
      "text/html": [
       "<div>\n",
       "<style scoped>\n",
       "    .dataframe tbody tr th:only-of-type {\n",
       "        vertical-align: middle;\n",
       "    }\n",
       "\n",
       "    .dataframe tbody tr th {\n",
       "        vertical-align: top;\n",
       "    }\n",
       "\n",
       "    .dataframe thead th {\n",
       "        text-align: right;\n",
       "    }\n",
       "</style>\n",
       "<table border=\"1\" class=\"dataframe\">\n",
       "  <thead>\n",
       "    <tr style=\"text-align: right;\">\n",
       "      <th></th>\n",
       "      <th>metabolite</th>\n",
       "      <th>shadow_price</th>\n",
       "    </tr>\n",
       "  </thead>\n",
       "  <tbody>\n",
       "    <tr>\n",
       "      <th>0</th>\n",
       "      <td>ATP</td>\n",
       "      <td>12.0</td>\n",
       "    </tr>\n",
       "    <tr>\n",
       "      <th>1</th>\n",
       "      <td>Proline</td>\n",
       "      <td>2.0</td>\n",
       "    </tr>\n",
       "    <tr>\n",
       "      <th>2</th>\n",
       "      <td>Glycine</td>\n",
       "      <td>2.0</td>\n",
       "    </tr>\n",
       "    <tr>\n",
       "      <th>3</th>\n",
       "      <td>Pi</td>\n",
       "      <td>2.0</td>\n",
       "    </tr>\n",
       "    <tr>\n",
       "      <th>4</th>\n",
       "      <td>ADP</td>\n",
       "      <td>1.0</td>\n",
       "    </tr>\n",
       "  </tbody>\n",
       "</table>\n",
       "</div>"
      ],
      "text/plain": [
       "  metabolite  shadow_price\n",
       "0        ATP          12.0\n",
       "1    Proline           2.0\n",
       "2    Glycine           2.0\n",
       "3         Pi           2.0\n",
       "4        ADP           1.0"
      ]
     },
     "execution_count": 11,
     "metadata": {},
     "output_type": "execute_result"
    }
   ],
   "source": [
    "shadow_prices(toy_model_peptide.model)"
   ]
  },
  {
   "cell_type": "code",
   "execution_count": 15,
   "metadata": {},
   "outputs": [
    {
     "name": "stdout",
     "output_type": "stream",
     "text": [
      "898.265562550187\n",
      "898.265562550187\n"
     ]
    }
   ],
   "source": [
    "# Test difference in objective fluxes\n",
    "gluc_arp = list(toy_model_glucose.flux_samples['DM_atp_c'])\n",
    "pep_arp = list(toy_model_peptide.flux_samples['DM_atp_c'])\n",
    "\n",
    "print(numpy.median(gluc_arp))\n",
    "print(numpy.median(pep_arp))"
   ]
  },
  {
   "cell_type": "markdown",
   "metadata": {},
   "source": [
    "### Testing with E.coli K-12 MG1655 model"
   ]
  },
  {
   "cell_type": "code",
   "execution_count": 5,
   "metadata": {},
   "outputs": [],
   "source": [
    "iJO1366 = cobra.io.read_sbml_model('/home/matt/Desktop/repos/Jenior_RIPTiDe_2019/data/reconstructions/iJO1366.xml')\n",
    "iJO1366.objective = iJO1366.reactions.BIOMASS_Ec_iJO1366_WT_53p95M\n",
    "\n",
    "# Open all exchanges\n",
    "exchanges = set()\n",
    "for rxn in iJO1366.reactions:\n",
    "    if len(rxn.reactants) == 0 or len(rxn.products) == 0:\n",
    "        rxn.bounds = (min(rxn.lower_bound, -1000), max(rxn.upper_bound, 1000))\n",
    "        exchanges |= set([rxn.id])"
   ]
  },
  {
   "cell_type": "code",
   "execution_count": 3,
   "metadata": {},
   "outputs": [],
   "source": [
    "def max_doubling_time(model):\n",
    "    \n",
    "    with model as m: \n",
    "        growth =  m.slim_optimize()\n",
    "    \n",
    "    if growth < 1e-6:\n",
    "        growth = 'No growth'\n",
    "    else:    \n",
    "        growth = (1.0 / growth) * 3600.0\n",
    "        if growth < 60.0:\n",
    "            growth = str(round(growth, 1)) + ' minutes'\n",
    "        else:\n",
    "            growth = growth / 60.0\n",
    "            growth = str(round(growth, 3)) + ' hours'\n",
    "            \n",
    "    print(growth)\n",
    "\n",
    "\n",
    "def collect_doubling_times(flux_samples, biomass):\n",
    "    biomass = list(flux_samples[biomass])\n",
    "    times = []\n",
    "    \n",
    "    for x in biomass:\n",
    "        growth = (1.0 / x) * 3600.0 # Calculated in minutes\n",
    "        growth = round(growth, 2)\n",
    "        times.append(growth)\n",
    "        \n",
    "    return times\n",
    "\n",
    "\n",
    "def collect_growth_rates(flux_samples, biomass):\n",
    "    biomass = list(flux_samples[biomass])\n",
    "    rates = []\n",
    "    \n",
    "    for x in biomass:\n",
    "        rate = x / 60.0\n",
    "        rate = round(rate, 3)\n",
    "        rates.append(rate)\n",
    "        \n",
    "    return rates"
   ]
  },
  {
   "cell_type": "code",
   "execution_count": 7,
   "metadata": {
    "scrolled": true
   },
   "outputs": [
    {
     "name": "stdout",
     "output_type": "stream",
     "text": [
      "34.0 minutes\n"
     ]
    }
   ],
   "source": [
    "max_doubling_time(iJO1366)"
   ]
  },
  {
   "cell_type": "code",
   "execution_count": 18,
   "metadata": {},
   "outputs": [
    {
     "data": {
      "text/html": [
       "\n",
       "        <table>\n",
       "            <tr>\n",
       "                <td><strong>Name</strong></td>\n",
       "                <td>iJO1366</td>\n",
       "            </tr><tr>\n",
       "                <td><strong>Memory address</strong></td>\n",
       "                <td>0x07f8f897aa3d0</td>\n",
       "            </tr><tr>\n",
       "                <td><strong>Number of metabolites</strong></td>\n",
       "                <td>1805</td>\n",
       "            </tr><tr>\n",
       "                <td><strong>Number of reactions</strong></td>\n",
       "                <td>2583</td>\n",
       "            </tr><tr>\n",
       "                <td><strong>Objective expression</strong></td>\n",
       "                <td>0.0 + 1.0*BIOMASS_Ec_iJO1366_WT_53p95M - 1.0*BIOMASS_Ec_iJO1366_WT_53p95M_reverse_06c4a</td>\n",
       "            </tr><tr>\n",
       "                <td><strong>Compartments</strong></td>\n",
       "                <td>periplasm, cytosol, extracellular space</td>\n",
       "            </tr>\n",
       "          </table>"
      ],
      "text/plain": [
       "<Model iJO1366 at 0x7f8f897aa3d0>"
      ]
     },
     "execution_count": 18,
     "metadata": {},
     "output_type": "execute_result"
    }
   ],
   "source": [
    "iJO1366"
   ]
  },
  {
   "cell_type": "code",
   "execution_count": null,
   "metadata": {},
   "outputs": [],
   "source": []
  },
  {
   "cell_type": "code",
   "execution_count": null,
   "metadata": {},
   "outputs": [],
   "source": []
  },
  {
   "cell_type": "code",
   "execution_count": null,
   "metadata": {},
   "outputs": [],
   "source": []
  },
  {
   "cell_type": "code",
   "execution_count": null,
   "metadata": {},
   "outputs": [],
   "source": []
  },
  {
   "cell_type": "code",
   "execution_count": null,
   "metadata": {},
   "outputs": [],
   "source": []
  },
  {
   "cell_type": "markdown",
   "metadata": {},
   "source": [
    "### Flux sampling on base model"
   ]
  },
  {
   "cell_type": "code",
   "execution_count": 8,
   "metadata": {},
   "outputs": [],
   "source": [
    "# Prune blocked reactions\n",
    "flux_span = flux_variability_analysis(iJO1366, fraction_of_optimum=0.01)\n",
    "blocked_rxns = []\n",
    "for rxn_id, min_max in flux_span.iterrows():\n",
    "    if max(abs(min_max)) < 1e-6: blocked_rxns.append(rxn_id)\n",
    "for rxn in blocked_rxns: \n",
    "    iJO1366.reactions.get_by_id(rxn).remove_from_model(remove_orphans=True)"
   ]
  },
  {
   "cell_type": "code",
   "execution_count": 11,
   "metadata": {},
   "outputs": [],
   "source": [
    "# Constrain possible solutions\n",
    "obj_val = iJO1366.slim_optimize()\n",
    "obj_constraint = iJO1366.problem.Constraint(iJO1366.objective.expression, lb=obj_val*0.8, ub=obj_val)\n",
    "iJO1366.add_cons_vars([obj_constraint])\n",
    "iJO1366.solver.update()"
   ]
  },
  {
   "cell_type": "code",
   "execution_count": 13,
   "metadata": {},
   "outputs": [
    {
     "name": "stdout",
     "output_type": "stream",
     "text": [
      "[-69727.61, 92.4, 665273.68]\n"
     ]
    }
   ],
   "source": [
    "# Flux sampling of base model\n",
    "iJO1366_sampling_object = ACHRSampler(iJO1366)\n",
    "iJO1366_flux_samples = iJO1366_sampling_object.sample(5000)"
   ]
  },
  {
   "cell_type": "code",
   "execution_count": 40,
   "metadata": {},
   "outputs": [],
   "source": [
    "# Collect base model growth information\n",
    "base_rates = collect_growth_rates(iJO1366_flux_samples, 'BIOMASS_Ec_iJO1366_WT_53p95M')\n",
    "\n",
    "# Screen data against negative values\n",
    "screened_base_rates = []\n",
    "for x in base_rates:\n",
    "    if x > 0.0: \n",
    "        screened_base_rates.append(str(x))"
   ]
  },
  {
   "cell_type": "code",
   "execution_count": 42,
   "metadata": {},
   "outputs": [],
   "source": [
    "# Save times to a file\n",
    "with open('/home/mjenior/Desktop/repos/Jenior_RIPTiDe_2019/data/unconstrained_growth_rates.tsv', 'w') as rates:\n",
    "    for x in screened_base_rates: rates.write(x + '\\n')"
   ]
  },
  {
   "cell_type": "markdown",
   "metadata": {},
   "source": [
    "### Contextualizing Published Datasets"
   ]
  },
  {
   "cell_type": "code",
   "execution_count": 6,
   "metadata": {},
   "outputs": [],
   "source": [
    "# Read in transcriptomes\n",
    "\n",
    "# Data collected from:\n",
    "# Monk et al. (2016). Multi-omics Quantification of Species Variation of Escherichia coli\n",
    "# Links Molecular Features with Strain Phenotypes. Cell Systems. 3; 238–251.\n",
    "\n",
    "# Load in GPR translations\n",
    "gpr_dict = {}\n",
    "with open('/home/matt/Desktop/repos/Jenior_RIPTiDe_2019/data/transcript/Monk_et_al_2016/iJO1366_genes.tsv', 'r') as genes:\n",
    "    for line in genes:\n",
    "        line = line.split()\n",
    "        gpr_dict[line[1]] = line[0]\n",
    "\n",
    "# Normalized abundances\n",
    "# Separate into treatment goups and calculate medians\n",
    "m9_aerobic = {}\n",
    "m9_anaerobic = {}     \n",
    "with open('/home/matt/Desktop/repos/Jenior_RIPTiDe_2019/data/transcript/Monk_et_al_2016/normalized.tsv', 'r') as transcription:\n",
    "    for line in transcription:\n",
    "        line = line.split()\n",
    "        if line[0] == 'gene':\n",
    "            continue\n",
    "        else:\n",
    "            try:\n",
    "                gene = gpr_dict[line[0]]\n",
    "            except:\n",
    "                continue\n",
    "            m9_aerobic[gene] = numpy.median([int(x) for x in line[1:4]])\n",
    "            m9_anaerobic[gene] = numpy.median([int(y) for y in line[4:7]])\n",
    "\n",
    "# Rich media (LB) data from:\n",
    "# Double-stranded transcriptome of E. coli\n",
    "# Meghan Lybecker, Bob Zimmermann, Ivana Bilusic, Nadezda Tukhtubaeva, Renée Schroeder\n",
    "# Proceedings of the National Academy of Sciences Feb 2014, 111 (8) 3134-3139; DOI: 10.1073/pnas.1315974111\n",
    "lb_aerobic = {}     \n",
    "with open('/home/matt/Desktop/repos/Jenior_RIPTiDe_2019/data/transcript/Lybecker_2014.mapped.norm.tsv', 'r') as transcription:\n",
    "    header = transcription.readline()\n",
    "    for line in transcription: \n",
    "        line = line.split()\n",
    "        lb_aerobic[line[0]] = float(line[1])"
   ]
  },
  {
   "cell_type": "markdown",
   "metadata": {},
   "source": [
    "### Sensitivity testing for minimum objective flux"
   ]
  },
  {
   "cell_type": "code",
   "execution_count": null,
   "metadata": {},
   "outputs": [
    {
     "name": "stdout",
     "output_type": "stream",
     "text": [
      "\n",
      "Initializing model and integrating transcriptomic data...\n"
     ]
    }
   ],
   "source": [
    "iJO1366_10 = riptide.contextualize(iJO1366, transcriptome=m9_aerobic, fraction = 0.1)\n",
    "iJO1366_20 = riptide.contextualize(iJO1366, transcriptome=m9_aerobic, fraction = 0.2)\n",
    "iJO1366_30 = riptide.contextualize(iJO1366, transcriptome=m9_aerobic, fraction = 0.3)\n",
    "iJO1366_40 = riptide.contextualize(iJO1366, transcriptome=m9_aerobic, fraction = 0.4)\n",
    "iJO1366_50 = riptide.contextualize(iJO1366, transcriptome=m9_aerobic, fraction = 0.5)\n",
    "iJO1366_60 = riptide.contextualize(iJO1366, transcriptome=m9_aerobic, fraction = 0.6)\n",
    "iJO1366_70 = riptide.contextualize(iJO1366, transcriptome=m9_aerobic, fraction = 0.7)\n",
    "iJO1366_80 = riptide.contextualize(iJO1366, transcriptome=m9_aerobic, fraction = 0.8)\n",
    "iJO1366_90 = riptide.contextualize(iJO1366, transcriptome=m9_aerobic, fraction = 0.9)\n",
    "iJO1366_100 = riptide.contextualize(iJO1366, transcriptome=m9_aerobic, fraction = 1.0)"
   ]
  },
  {
   "cell_type": "code",
   "execution_count": null,
   "metadata": {},
   "outputs": [],
   "source": []
  },
  {
   "cell_type": "code",
   "execution_count": null,
   "metadata": {},
   "outputs": [],
   "source": []
  },
  {
   "cell_type": "code",
   "execution_count": null,
   "metadata": {},
   "outputs": [],
   "source": []
  },
  {
   "cell_type": "code",
   "execution_count": null,
   "metadata": {},
   "outputs": [],
   "source": []
  },
  {
   "cell_type": "code",
   "execution_count": null,
   "metadata": {},
   "outputs": [],
   "source": []
  },
  {
   "cell_type": "code",
   "execution_count": 4,
   "metadata": {
    "scrolled": true
   },
   "outputs": [
    {
     "name": "stdout",
     "output_type": "stream",
     "text": [
      "\n",
      "Initializing model and integrating transcriptomic data...\n",
      "Pruning zero flux subnetworks...\n",
      "Analyzing context-specific flux distributions...\n",
      "\n",
      "Reactions pruned to 485 from 2583 (81.22% change)\n",
      "Metabolites pruned to 481 from 1805 (73.35% change)\n",
      "Flux through the objective DECREASED to ~85.9 from ~105.77 (18.79% change)\n",
      "Contextualized metabolism has a concordancy of 33.9% (p<0.001) with the transcriptome\n",
      "\n",
      "RIPTiDe completed in 1 minutes and 5 seconds\n",
      "\n"
     ]
    }
   ],
   "source": [
    "# Aerobic growth in M9 + glucose\n",
    "iJO1366_m9_aerobic = riptide.contextualize(iJO1366, transcriptome=m9_aerobic)"
   ]
  },
  {
   "cell_type": "code",
   "execution_count": 136,
   "metadata": {},
   "outputs": [
    {
     "name": "stdout",
     "output_type": "stream",
     "text": [
      "[65.36, 84.06, 86.4]\n",
      "[0.694, 0.714, 0.918]\n"
     ]
    }
   ],
   "source": [
    "m9_aerobic_times = collect_doubling_times(m9_aerobic_samples, 'BIOMASS_Ec_iJO1366_WT_53p95M')\n",
    "print([min(m9_aerobic_times), numpy.median(m9_aerobic_times), max(m9_aerobic_times)])\n",
    "m9_aerobic_rates = collect_growth_rates(m9_aerobic_samples, 'BIOMASS_Ec_iJO1366_WT_53p95M')\n",
    "print([min(m9_aerobic_rates), numpy.median(m9_aerobic_rates), max(m9_aerobic_rates)])"
   ]
  },
  {
   "cell_type": "code",
   "execution_count": 137,
   "metadata": {},
   "outputs": [],
   "source": [
    "# Run in aerobic exchange conditions\n",
    "#iJO1366_m9_anaerobic_test, m9_anaerobic_samples_test = riptide(iJO1366, m9_anaerobic)"
   ]
  },
  {
   "cell_type": "code",
   "execution_count": 138,
   "metadata": {},
   "outputs": [],
   "source": [
    "#max_doubling_time(iJO1366_m9_anaerobic_test)"
   ]
  },
  {
   "cell_type": "code",
   "execution_count": 139,
   "metadata": {},
   "outputs": [],
   "source": [
    "#m9_aerobic_rates_test = collect_growth_rates(m9_anaerobic_samples_test, 'BIOMASS_Ec_iJO1366_WT_53p95M')\n",
    "#print([min(m9_aerobic_rates_test), numpy.median(m9_aerobic_rates_test), max(m9_aerobic_rates_test)])"
   ]
  },
  {
   "cell_type": "code",
   "execution_count": 5,
   "metadata": {},
   "outputs": [
    {
     "name": "stdout",
     "output_type": "stream",
     "text": [
      "\n",
      "Initializing model and integrating transcriptomic data...\n",
      "Pruning zero flux subnetworks...\n",
      "Analyzing context-specific flux distributions...\n",
      "\n",
      "Reactions pruned to 475 from 2583 (81.61% change)\n",
      "Metabolites pruned to 473 from 1805 (73.8% change)\n",
      "Flux through the objective DECREASED to ~85.64 from ~105.77 (19.03% change)\n",
      "Contextualized metabolism has a concordancy of 34.4% (p<0.001) with the transcriptome\n",
      "\n",
      "RIPTiDe completed in 38 seconds\n",
      "\n"
     ]
    }
   ],
   "source": [
    "# Anaerobic growth in M9 + glucose\n",
    "#iJO1366.reactions.get_by_id('EX_o2_e').bounds = (0.0, 0.0) # make anaerobic\n",
    "iJO1366_m9_anaerobic = riptide.contextualize(iJO1366, transcriptome=m9_anaerobic)\n",
    "#iJO1366.reactions.get_by_id('EX_o2_e').bounds = (-1000.0, 1000.0) # revert change"
   ]
  },
  {
   "cell_type": "code",
   "execution_count": 154,
   "metadata": {},
   "outputs": [
    {
     "name": "stdout",
     "output_type": "stream",
     "text": [
      "[90.55, 280.415, 401.4]\n",
      "[0.149, 0.214, 0.663]\n"
     ]
    }
   ],
   "source": [
    "m9_anaerobic_times = collect_doubling_times(m9_anaerobic_samples, 'BIOMASS_Ec_iJO1366_WT_53p95M')\n",
    "print([min(m9_anaerobic_times), numpy.median(m9_anaerobic_times), max(m9_anaerobic_times)])\n",
    "m9_anaerobic_rates = collect_growth_rates(m9_anaerobic_samples, 'BIOMASS_Ec_iJO1366_WT_53p95M')\n",
    "print([min(m9_anaerobic_rates), numpy.median(m9_anaerobic_rates), max(m9_anaerobic_rates)])"
   ]
  },
  {
   "cell_type": "code",
   "execution_count": 6,
   "metadata": {},
   "outputs": [
    {
     "name": "stdout",
     "output_type": "stream",
     "text": [
      "\n",
      "Initializing model and integrating transcriptomic data...\n",
      "Pruning zero flux subnetworks...\n",
      "Analyzing context-specific flux distributions...\n",
      "\n",
      "Reactions pruned to 455 from 2583 (82.38% change)\n",
      "Metabolites pruned to 456 from 1805 (74.74% change)\n",
      "Flux through the objective DECREASED to ~86.58 from ~105.77 (18.14% change)\n",
      "Contextualized metabolism has a concordancy of 25.4% (p<0.001) with the transcriptome\n",
      "\n",
      "RIPTiDe completed in 38 seconds\n",
      "\n"
     ]
    }
   ],
   "source": [
    "# Aerobic growth in LB\n",
    "iJO1366_lb_aerobic = riptide.contextualize(iJO1366, transcriptome=lb_aerobic)"
   ]
  },
  {
   "cell_type": "code",
   "execution_count": 10,
   "metadata": {},
   "outputs": [
    {
     "data": {
      "text/html": [
       "\n",
       "        <table>\n",
       "            <tr>\n",
       "                <td><strong>Name</strong></td>\n",
       "                <td>iJO1366_riptide</td>\n",
       "            </tr><tr>\n",
       "                <td><strong>Memory address</strong></td>\n",
       "                <td>0x07f97e5f95e90</td>\n",
       "            </tr><tr>\n",
       "                <td><strong>Number of metabolites</strong></td>\n",
       "                <td>495</td>\n",
       "            </tr><tr>\n",
       "                <td><strong>Number of reactions</strong></td>\n",
       "                <td>494</td>\n",
       "            </tr><tr>\n",
       "                <td><strong>Objective expression</strong></td>\n",
       "                <td>0.0 + 1.0*BIOMASS_Ec_iJO1366_WT_53p95M - 1.0*BIOMASS_Ec_iJO1366_WT_53p95M_reverse_06c4a</td>\n",
       "            </tr><tr>\n",
       "                <td><strong>Compartments</strong></td>\n",
       "                <td>periplasm, cytosol, extracellular space</td>\n",
       "            </tr>\n",
       "          </table>"
      ],
      "text/plain": [
       "<Model iJO1366_riptide at 0x7f97e5f95e90>"
      ]
     },
     "execution_count": 10,
     "metadata": {},
     "output_type": "execute_result"
    }
   ],
   "source": [
    "iJO1366_lb_aerobic"
   ]
  },
  {
   "cell_type": "code",
   "execution_count": 30,
   "metadata": {},
   "outputs": [
    {
     "name": "stdout",
     "output_type": "stream",
     "text": [
      "1.44 hours\n"
     ]
    }
   ],
   "source": [
    "max_doubling_time(iJO1366_lb_aerobic)"
   ]
  },
  {
   "cell_type": "code",
   "execution_count": 153,
   "metadata": {},
   "outputs": [
    {
     "name": "stdout",
     "output_type": "stream",
     "text": [
      "[130.42, 358.015, 493.16]\n",
      "[0.122, 0.168, 0.46]\n"
     ]
    }
   ],
   "source": [
    "lb_aerobic_times = collect_doubling_times(lb_samples, 'BIOMASS_Ec_iJO1366_WT_53p95M')\n",
    "print([min(lb_aerobic_times), numpy.median(lb_aerobic_times), max(lb_aerobic_times)])\n",
    "lb_aerobic_rates = collect_growth_rates(lb_samples, 'BIOMASS_Ec_iJO1366_WT_53p95M')\n",
    "print([min(lb_aerobic_rates), numpy.median(lb_aerobic_rates), max(lb_aerobic_rates)])"
   ]
  },
  {
   "cell_type": "code",
   "execution_count": 22,
   "metadata": {},
   "outputs": [
    {
     "name": "stdout",
     "output_type": "stream",
     "text": [
      "Initializing model and parsing transcriptome...\n",
      "Pruning zero flux subnetworks...\n",
      "Sampling context-specific solution space (longest step)...\n",
      "\n",
      "Reactions pruned to 449 from 2583 (82.6% reduction)\n",
      "Metabolites pruned to 449 from 1805 (75.1% reduction)\n",
      "\n",
      "Flux through the objective REDUCED to 56.29 from 105.765 (46.78% shift)\n",
      "Solution space ellipsoid volume DECREASED to ~0.302 from ~9.161 (96.7% shift)\n",
      "\n",
      "RIPTiDe completed in 3.8 minutes\n"
     ]
    }
   ],
   "source": [
    "# Compare to base implementation of pFBA\n",
    "# All coefficients set to 1.0, so transcriptome is irrelevant\n",
    "iJO1366_pfba, pfba_samples = riptide(iJO1366, m9_aerobic, coefficients=[1.0,1.0,1.0,1.0,1.0])"
   ]
  },
  {
   "cell_type": "code",
   "execution_count": 14,
   "metadata": {},
   "outputs": [
    {
     "data": {
      "text/html": [
       "\n",
       "        <table>\n",
       "            <tr>\n",
       "                <td><strong>Name</strong></td>\n",
       "                <td>iJO1366_riptide</td>\n",
       "            </tr><tr>\n",
       "                <td><strong>Memory address</strong></td>\n",
       "                <td>0x07f7d70f15750</td>\n",
       "            </tr><tr>\n",
       "                <td><strong>Number of metabolites</strong></td>\n",
       "                <td>449</td>\n",
       "            </tr><tr>\n",
       "                <td><strong>Number of reactions</strong></td>\n",
       "                <td>449</td>\n",
       "            </tr><tr>\n",
       "                <td><strong>Objective expression</strong></td>\n",
       "                <td>0.0 + 1.0*BIOMASS_Ec_iJO1366_WT_53p95M - 1.0*BIOMASS_Ec_iJO1366_WT_53p95M_reverse_06c4a</td>\n",
       "            </tr><tr>\n",
       "                <td><strong>Compartments</strong></td>\n",
       "                <td>periplasm, cytosol, extracellular space</td>\n",
       "            </tr>\n",
       "          </table>"
      ],
      "text/plain": [
       "<Model iJO1366_riptide at 0x7f7d70f15750>"
      ]
     },
     "execution_count": 14,
     "metadata": {},
     "output_type": "execute_result"
    }
   ],
   "source": [
    "iJO1366_pfba"
   ]
  },
  {
   "cell_type": "code",
   "execution_count": 12,
   "metadata": {},
   "outputs": [
    {
     "data": {
      "text/plain": [
       "57.20042650657536"
      ]
     },
     "execution_count": 12,
     "metadata": {},
     "output_type": "execute_result"
    }
   ],
   "source": [
    "iJO1366_pfba.slim_optimize()"
   ]
  },
  {
   "cell_type": "code",
   "execution_count": 8,
   "metadata": {},
   "outputs": [
    {
     "data": {
      "text/plain": [
       "374"
      ]
     },
     "execution_count": 8,
     "metadata": {},
     "output_type": "execute_result"
    }
   ],
   "source": [
    "len(iJO1366_pfba.genes)"
   ]
  },
  {
   "cell_type": "code",
   "execution_count": 30,
   "metadata": {},
   "outputs": [
    {
     "name": "stdout",
     "output_type": "stream",
     "text": [
      "[0.694, 0.716, 0.938]\n"
     ]
    }
   ],
   "source": [
    "pfba_rates = collect_growth_rates(pfba_samples, 'BIOMASS_Ec_iJO1366_WT_53p95M')\n",
    "print([min(pfba_rates), numpy.median(pfba_rates), max(pfba_rates)])\n",
    "with open('/home/matt/Desktop/repos/Jenior_RIPTiDe_2019/data/pfba_growth_rates.tsv', 'w') as output_file:\n",
    "    for x in pfba_rates: output_file.write(str(x) + '\\n')"
   ]
  },
  {
   "cell_type": "code",
   "execution_count": null,
   "metadata": {},
   "outputs": [],
   "source": [
    "write pfba_times to file\n",
    "with open('/home/matt/Desktop/repos/Jenior_RIPTiDe_2019/data/invivo_growth_rates.tsv', 'w') as output_file:\n",
    "    for x in pfba_times: output_file.write(str(x) + '\\n')"
   ]
  },
  {
   "cell_type": "code",
   "execution_count": null,
   "metadata": {},
   "outputs": [],
   "source": []
  },
  {
   "cell_type": "code",
   "execution_count": null,
   "metadata": {},
   "outputs": [],
   "source": []
  },
  {
   "cell_type": "code",
   "execution_count": 24,
   "metadata": {},
   "outputs": [],
   "source": [
    "# Compares lists to create diagrams for 4 groups\n",
    "def venn_comparison(list1, list2, list3, list4):\n",
    "        \n",
    "    # Confirm correct data types\n",
    "    list1 = set(list1)\n",
    "    list2 = set(list2)\n",
    "    list3 = set(list3)\n",
    "    list4 = set(list4)\n",
    "    \n",
    "    # Identify exclusive elements\n",
    "    list1_only = list1.difference(list2)\n",
    "    list1_only = list1_only.difference(list3)\n",
    "    list1_only = list1_only.difference(list4)\n",
    "    list2_only = list2.difference(list1)\n",
    "    list2_only = list2_only.difference(list3)\n",
    "    list2_only = list2_only.difference(list4)\n",
    "    list3_only = list3.difference(list1)\n",
    "    list3_only = list3_only.difference(list2)\n",
    "    list3_only = list3_only.difference(list4)\n",
    "    list4_only = list4.difference(list1)\n",
    "    list4_only = list4_only.difference(list2)\n",
    "    list4_only = list4_only.difference(list3)\n",
    "\n",
    "    # Find overlap between just 2 groups\n",
    "    list1_list2_overlap = list1.intersection(list2)\n",
    "    list1_list2_overlap = list1_list2_overlap.difference(list3)\n",
    "    list1_list2_overlap = list1_list2_overlap.difference(list4)\n",
    "    list1_list3_overlap = list1.intersection(list3)\n",
    "    list1_list3_overlap = list1_list3_overlap.difference(list2)\n",
    "    list1_list3_overlap = list1_list3_overlap.difference(list4)\n",
    "    list1_list4_overlap = list1.intersection(list4)\n",
    "    list1_list4_overlap = list1_list4_overlap.difference(list2)\n",
    "    list1_list4_overlap = list1_list4_overlap.difference(list3)\n",
    "    list2_list3_overlap = list2.intersection(list3)\n",
    "    list2_list3_overlap = list2_list3_overlap.difference(list1)\n",
    "    list2_list3_overlap = list2_list3_overlap.difference(list4)\n",
    "    list2_list4_overlap = list2.intersection(list4)\n",
    "    list2_list4_overlap = list2_list4_overlap.difference(list1)\n",
    "    list2_list4_overlap = list2_list4_overlap.difference(list3)\n",
    "    list3_list4_overlap = list3.intersection(list4)\n",
    "    list3_list4_overlap = list3_list4_overlap.difference(list1)\n",
    "    list3_list4_overlap = list3_list4_overlap.difference(list2)\n",
    "\n",
    "    # Find overlap in 3 groups\n",
    "    list1_list2_list3_overlap = list1.intersection(list2)\n",
    "    list1_list2_list3_overlap = list1_list2_list3_overlap.intersection(list3)\n",
    "    list1_list2_list3_overlap = list1_list2_list3_overlap.difference(list4)\n",
    "    list1_list2_list4_overlap = list1.intersection(list2)\n",
    "    list1_list2_list4_overlap = list1_list2_list4_overlap.intersection(list4)\n",
    "    list1_list2_list4_overlap = list1_list2_list4_overlap.difference(list3)\n",
    "    list1_list3_list4_overlap = list1.intersection(list3)\n",
    "    list1_list3_list4_overlap = list1_list3_list4_overlap.intersection(list4)\n",
    "    list1_list3_list4_overlap = list1_list3_list4_overlap.difference(list2)\n",
    "    list2_list3_list4_overlap = list2.intersection(list3)\n",
    "    list2_list3_list4_overlap = list2_list3_list4_overlap.intersection(list4)\n",
    "    list2_list3_list4_overlap = list2_list3_list4_overlap.difference(list1)\n",
    "    \n",
    "    # Find overlap between all groups\n",
    "    all_list_overlap = list1.intersection(list2)\n",
    "    all_list_overlap = all_list_overlap.intersection(list3)\n",
    "    all_list_overlap = all_list_overlap.intersection(list4)\n",
    "    \n",
    "    # Calculate totals in each group\n",
    "    list1_total = float(len(list1))\n",
    "    list2_total = float(len(list2))\n",
    "    list3_total = float(len(list3))\n",
    "    list4_total = float(len(list4))\n",
    "    list1_only_total = float(len(list1_only))\n",
    "    list2_only_total = float(len(list2_only))\n",
    "    list3_only_total = float(len(list3_only))\n",
    "    list4_only_total = float(len(list4_only))\n",
    "    list1_list2_overlap_total = float(len(list1_list2_overlap))\n",
    "    list1_list3_overlap_total = float(len(list1_list3_overlap))\n",
    "    list1_list4_overlap_total = float(len(list1_list4_overlap))\n",
    "    list2_list3_overlap_total = float(len(list2_list3_overlap))\n",
    "    list2_list4_overlap_total = float(len(list2_list4_overlap))\n",
    "    list3_list4_overlap_total = float(len(list3_list4_overlap))\n",
    "    list1_list2_list3_overlap_total = float(len(list1_list2_list3_overlap))\n",
    "    list1_list2_list4_overlap_total = float(len(list1_list2_list4_overlap))\n",
    "    list1_list3_list4_overlap_total = float(len(list1_list3_list4_overlap))\n",
    "    list2_list3_list4_overlap_total = float(len(list2_list3_list4_overlap))\n",
    "    all_list_overlap_total = float(len(all_list_overlap))\n",
    "    \n",
    "    # Calculate percent overlaps\n",
    "    list1_only_percent = round(((list1_only_total / list1_total) * 100.0), 1)\n",
    "    list2_only_percent = round(((list2_only_total / list2_total) * 100.0), 1)\n",
    "    list3_only_percent = round(((list3_only_total / list3_total) * 100.0), 1)\n",
    "    list4_only_percent = round(((list4_only_total / list4_total) * 100.0), 1)\n",
    "    temp1 = (list1_list2_overlap_total / list1_total) * 100.0\n",
    "    temp2 = (list1_list2_overlap_total / list2_total) * 100.0\n",
    "    list1_list2_overlap_percent = round(numpy.mean([temp1, temp2]), 1)\n",
    "    temp1 = (list1_list3_overlap_total / list1_total) * 100.0\n",
    "    temp2 = (list1_list3_overlap_total / list3_total) * 100.0\n",
    "    list1_list3_overlap_percent = round(numpy.mean([temp1, temp2]), 1)\n",
    "    temp1 = (list1_list4_overlap_total / list1_total) * 100.0\n",
    "    temp2 = (list1_list4_overlap_total / list4_total) * 100.0\n",
    "    list1_list4_overlap_percent = round(numpy.mean([temp1, temp2]), 1)\n",
    "    temp1 = (list2_list3_overlap_total / list2_total) * 100.0\n",
    "    temp2 = (list2_list3_overlap_total / list3_total) * 100.0\n",
    "    list2_list3_overlap_percent = round(numpy.mean([temp1, temp2]), 1)\n",
    "    temp1 = (list2_list4_overlap_total / list2_total) * 100.0\n",
    "    temp2 = (list2_list4_overlap_total / list4_total) * 100.0\n",
    "    list2_list4_overlap_percent = round(numpy.mean([temp1, temp2]), 1)\n",
    "    temp1 = (list3_list4_overlap_total / list3_total) * 100.0\n",
    "    temp2 = (list3_list4_overlap_total / list4_total) * 100.0\n",
    "    list3_list4_overlap_percent = round(numpy.mean([temp1, temp2]), 1)\n",
    "    temp1 = (list1_list2_list3_overlap_total / list1_total) * 100.0\n",
    "    temp2 = (list1_list2_list3_overlap_total / list2_total) * 100.0\n",
    "    temp3 = (list1_list2_list3_overlap_total / list3_total) * 100.0\n",
    "    list1_list2_list3_overlap_percent = round(numpy.mean([temp1, temp2, temp3]), 1)\n",
    "    temp1 = (list1_list2_list4_overlap_total / list1_total) * 100.0\n",
    "    temp2 = (list1_list2_list4_overlap_total / list2_total) * 100.0\n",
    "    temp3 = (list1_list2_list4_overlap_total / list4_total) * 100.0\n",
    "    list1_list2_list4_overlap_percent = round(numpy.mean([temp1, temp2, temp3]), 1)\n",
    "    temp1 = (list1_list3_list4_overlap_total / list1_total) * 100.0\n",
    "    temp2 = (list1_list3_list4_overlap_total / list3_total) * 100.0\n",
    "    temp3 = (list1_list3_list4_overlap_total / list4_total) * 100.0\n",
    "    list1_list3_list4_overlap_percent = round(numpy.mean([temp1, temp2, temp3]), 1)\n",
    "    temp1 = (list2_list3_list4_overlap_total / list2_total) * 100.0\n",
    "    temp2 = (list2_list3_list4_overlap_total / list3_total) * 100.0\n",
    "    temp3 = (list2_list3_list4_overlap_total / list4_total) * 100.0\n",
    "    list2_list3_list4_overlap_percent = round(numpy.mean([temp1, temp2, temp3]), 1)\n",
    "    temp1 = (all_list_overlap_total / list1_total) * 100.0\n",
    "    temp2 = (all_list_overlap_total / list2_total) * 100.0\n",
    "    temp3 = (all_list_overlap_total / list3_total) * 100.0\n",
    "    temp4 = (all_list_overlap_total / list4_total) * 100.0\n",
    "    all_list_overlap_percent = round(numpy.mean([temp1, temp2, temp3, temp4]), 1)\n",
    "    \n",
    "    # Print report to the screen\n",
    "    print('List 1 only: ' + str(list1_only_percent) + '% (' + str(int(list1_only_total)) + ')')\n",
    "    print('List 2 only: ' + str(list2_only_percent) + '% (' + str(int(list2_only_total)) + ')')\n",
    "    print('List 3 only: ' + str(list3_only_percent) + '% (' + str(int(list3_only_total)) + ')')\n",
    "    print('List 4 only: ' + str(list4_only_percent) + '% (' + str(int(list4_only_total)) + ')')\n",
    "    print('')\n",
    "    print('List 1 + List 2: ' + str(list1_list2_overlap_percent) + '% (' + str(int(list1_list2_overlap_total)) + ')')\n",
    "    print('List 1 + List 3: ' + str(list1_list3_overlap_percent) + '% (' + str(int(list1_list3_overlap_total)) + ')')\n",
    "    print('List 1 + List 4: ' + str(list1_list4_overlap_percent) + '% (' + str(int(list1_list4_overlap_total)) + ')')\n",
    "    print('List 2 + List 3: ' + str(list2_list3_overlap_percent) + '% (' + str(int(list2_list3_overlap_total)) + ')')\n",
    "    print('List 2 + List 4: ' + str(list2_list4_overlap_percent) + '% (' + str(int(list2_list4_overlap_total)) + ')')\n",
    "    print('List 3 + List 4: ' + str(list3_list4_overlap_percent) + '% (' + str(int(list3_list4_overlap_total)) + ')')\n",
    "    print('')\n",
    "    print('List 1 + List 2 + List 3: ' + str(list1_list2_list3_overlap_percent) + '% (' + str(int(list1_list2_list3_overlap_total)) + ')')\n",
    "    print('List 1 + List 2 + List 4: ' + str(list1_list2_list4_overlap_percent) + '% (' + str(int(list1_list2_list4_overlap_total)) + ')')\n",
    "    print('List 1 + List 3 + List 4: ' + str(list1_list3_list4_overlap_percent) + '% (' + str(int(list1_list3_list4_overlap_total)) + ')')\n",
    "    print('List 2 + List 3 + List 4: ' + str(list2_list3_list4_overlap_percent) + '% (' + str(int(list2_list3_list4_overlap_total)) + ')')\n",
    "    print('')\n",
    "    print('Shared: ' + str(all_list_overlap_percent) + '% (' + str(int(all_list_overlap_total)) + ')')\n",
    "\n",
    "    # Return new lists\n",
    "    return [list1_only,list2_only,list3_only,list4_only,list1_list2_overlap, list1_list3_overlap, list1_list4_overlap, list2_list3_overlap, list2_list4_overlap, list3_list4_overlap, list1_list2_list3_overlap, list1_list2_list4_overlap, list1_list3_list4_overlap, list2_list3_list4_overlap, all_list_overlap]\n"
   ]
  },
  {
   "cell_type": "code",
   "execution_count": 33,
   "metadata": {},
   "outputs": [
    {
     "name": "stdout",
     "output_type": "stream",
     "text": [
      "List 1 only: 3.8% (17)\n",
      "List 2 only: 4.3% (21)\n",
      "List 3 only: 4.1% (19)\n",
      "List 4 only: 8.0% (40)\n",
      "\n",
      "List 1 + List 2: 4.5% (21)\n",
      "List 1 + List 3: 4.8% (22)\n",
      "List 1 + List 4: 1.3% (6)\n",
      "List 2 + List 3: 1.7% (8)\n",
      "List 2 + List 4: 8.8% (44)\n",
      "List 3 + List 4: 5.8% (28)\n",
      "\n",
      "List 1 + List 2 + List 3: 4.7% (22)\n",
      "List 1 + List 2 + List 4: 3.1% (15)\n",
      "List 1 + List 3 + List 4: 1.1% (5)\n",
      "List 2 + List 3 + List 4: 4.5% (22)\n",
      "\n",
      "Shared: 71.5% (341)\n"
     ]
    }
   ],
   "source": [
    "# Reactions\n",
    "iJO1366_m9_aerobic_reactions = [x.id for x in iJO1366_m9_aerobic.reactions]\n",
    "iJO1366_m9_anaerobic_reactions = [x.id for x in iJO1366_m9_anaerobic.reactions]\n",
    "iJO1366_lb_aerobic_reactions = [x.id for x in iJO1366_lb_aerobic.reactions]\n",
    "iJO1366_pfba_reactions = [x.id for x in iJO1366_pfba.reactions]\n",
    "\n",
    "reactions_comparisons = venn_comparison(iJO1366_pfba_reactions, iJO1366_lb_aerobic_reactions, iJO1366_m9_aerobic_reactions, iJO1366_m9_anaerobic_reactions)\n",
    "\n",
    "# List 1: pfba\n",
    "# List 2: lb_aerobic\n",
    "# List 3: m9_aerobic\n",
    "# List 4: m9_anaerobic"
   ]
  },
  {
   "cell_type": "code",
   "execution_count": 34,
   "metadata": {},
   "outputs": [
    {
     "name": "stdout",
     "output_type": "stream",
     "text": [
      "List 1 only: 1.3% (6)\n",
      "List 2 only: 3.2% (16)\n",
      "List 3 only: 1.9% (9)\n",
      "List 4 only: 5.0% (25)\n",
      "\n",
      "List 1 + List 2: 2.1% (10)\n",
      "List 1 + List 3: 2.6% (12)\n",
      "List 1 + List 4: 0.6% (3)\n",
      "List 2 + List 3: 1.0% (5)\n",
      "List 2 + List 4: 6.8% (34)\n",
      "List 3 + List 4: 3.5% (17)\n",
      "\n",
      "List 1 + List 2 + List 3: 1.7% (8)\n",
      "List 1 + List 2 + List 4: 1.9% (9)\n",
      "List 1 + List 3 + List 4: 0.4% (2)\n",
      "List 2 + List 3 + List 4: 2.9% (14)\n",
      "\n",
      "Shared: 83.6% (399)\n"
     ]
    }
   ],
   "source": [
    "# Metabolites\n",
    "iJO1366_m9_aerobic_metabolites = [x.id for x in iJO1366_m9_aerobic.metabolites]\n",
    "iJO1366_m9_anaerobic_metabolites = [x.id for x in iJO1366_m9_anaerobic.metabolites]\n",
    "iJO1366_lb_aerobic_metabolites = [x.id for x in iJO1366_lb_aerobic.metabolites]\n",
    "iJO1366_pfba_metabolites = [x.id for x in iJO1366_pfba.metabolites]\n",
    "\n",
    "metabolites_comparisons = venn_comparison(iJO1366_pfba_metabolites, iJO1366_lb_aerobic_metabolites, iJO1366_m9_aerobic_metabolites, iJO1366_m9_anaerobic_metabolites)\n",
    "\n",
    "# List 1: pfba\n",
    "# List 2: lb_aerobic\n",
    "# List 3: m9_aerobic\n",
    "# List 4: m9_anaerobic"
   ]
  },
  {
   "cell_type": "code",
   "execution_count": 35,
   "metadata": {},
   "outputs": [],
   "source": [
    "# Screen context specific growth rates by each model's optimal growth\n",
    "\n",
    "# Determine bounds\n",
    "pfba_obj_val_lb = iJO1366_pfba.slim_optimize() * 0.8\n",
    "lb_aerobic_obj_val_lb = iJO1366_lb_aerobic.slim_optimize() * 0.8\n",
    "m9_aerobic_obj_val_lb = iJO1366_m9_aerobic.slim_optimize() * 0.8\n",
    "m9_anaerobic_obj_val_lb = iJO1366_m9_anaerobic.slim_optimize() * 0.8\n",
    "pfba_obj_val_ub = iJO1366_pfba.slim_optimize()\n",
    "lb_aerobic_obj_val_ub = iJO1366_lb_aerobic.slim_optimize()\n",
    "m9_aerobic_obj_val_ub = iJO1366_m9_aerobic.slim_optimize()\n",
    "m9_anaerobic_obj_val_ub = iJO1366_m9_anaerobic.slim_optimize()\n",
    "\n",
    "# Collect fluxes\n",
    "pfba_biomass = list(pfba_samples['BIOMASS_Ec_iJO1366_WT_53p95M'])\n",
    "lb_biomass = list(lb_samples['BIOMASS_Ec_iJO1366_WT_53p95M'])\n",
    "m9_aerobic_biomass = list(m9_aerobic_samples['BIOMASS_Ec_iJO1366_WT_53p95M'])\n",
    "m9_anaerobic_biomass = list(m9_anaerobic_samples['BIOMASS_Ec_iJO1366_WT_53p95M'])\n",
    "\n",
    "# Screen fluxes\n",
    "pfba_biomass = [x for x in pfba_biomass if x >= pfba_obj_val_lb and x <= pfba_obj_val_ub]\n",
    "lb_biomass = [x for x in lb_biomass if x >= lb_aerobic_obj_val_lb and x <= lb_aerobic_obj_val_ub]\n",
    "m9_aerobic_biomass = [x for x in m9_aerobic_biomass if x >= m9_aerobic_obj_val_lb and x <= m9_aerobic_obj_val_ub]\n",
    "m9_anaerobic_biomass = [x for x in m9_anaerobic_biomass if x >= m9_anaerobic_obj_val_lb and x <= m9_anaerobic_obj_val_ub]\n",
    "\n",
    "# Convert to per hour rate\n",
    "pfba_rates = [round((x / 60.0), 3) for x in pfba_biomass]\n",
    "lb_aerobic_rates = [round((x / 60.0), 3) for x in lb_biomass]\n",
    "m9_aerobic_rates = [round((x / 60.0), 3) for x in m9_aerobic_biomass]\n",
    "m9_anaerobic_rates = [round((x / 60.0), 3) for x in m9_anaerobic_biomass]\n",
    "\n",
    "# Subsample evenly\n",
    "import random\n",
    "sub_level = min([len(pfba_rates), len(lb_aerobic_rates), len(m9_aerobic_rates), len(m9_anaerobic_rates)])\n",
    "pfba_sub = random.sample(range(0,len(pfba_rates)), sub_level)\n",
    "lb_sub = random.sample(range(0,len(lb_aerobic_rates)), sub_level)\n",
    "m9a_sub = random.sample(range(0,len(m9_aerobic_rates)), sub_level)\n",
    "m9n_sub = random.sample(range(0,len(m9_anaerobic_rates)), sub_level)\n",
    "pfba_rates = [pfba_rates[i] for i in pfba_sub]\n",
    "lb_aerobic_rates = [lb_aerobic_rates[i] for i in lb_sub]\n",
    "m9_aerobic_rates = [m9_aerobic_rates[i] for i in m9a_sub]\n",
    "m9_anaerobic_rates = [m9_anaerobic_rates[i] for i in m9n_sub]\n",
    "\n",
    "# Convert to strings\n",
    "pfba_rates = [str(x) for x in pfba_rates]\n",
    "pfba_rates = 'base_pfba\\t' + '\\t'.join(pfba_rates) + '\\n'\n",
    "m9_aerobic_rates = [str(x) for x in m9_aerobic_rates]\n",
    "m9_aerobic_rates = 'm9_gluc_aerobic\\t' + '\\t'.join(m9_aerobic_rates) + '\\n'\n",
    "m9_anaerobic_rates = [str(x) for x in m9_anaerobic_rates]\n",
    "m9_anaerobic_rates = 'm9_gluc_anaerobic\\t' + '\\t'.join(m9_anaerobic_rates) + '\\n'\n",
    "lb_aerobic_rates = [str(x) for x in lb_aerobic_rates]\n",
    "lb_aerobic_rates = 'lb_aerobic\\t' + '\\t'.join(lb_aerobic_rates) + '\\n'\n",
    "\n",
    "# Write to file\n",
    "with open('/home/mjenior/Desktop/repos/Jenior_RIPTiDe_2019/data/new_growth_rates.tsv', 'w') as rates:\n",
    "    rates.write(pfba_rates)\n",
    "    rates.write(m9_aerobic_rates)\n",
    "    rates.write(m9_anaerobic_rates)\n",
    "    rates.write(lb_aerobic_rates)"
   ]
  },
  {
   "cell_type": "code",
   "execution_count": 19,
   "metadata": {},
   "outputs": [],
   "source": [
    "# Write contextualized models to SBMLs and JSONs\n",
    "cobra.io.write_sbml_model(iJO1366_m9_aerobic, '/home/matt/Desktop/repos/Jenior_RIPTiDe_2019/data/riptide_models/iJO1366_m9_aerobic.sbml')\n",
    "cobra.io.save_json_model(iJO1366_m9_aerobic, '/home/matt/Desktop/repos/Jenior_RIPTiDe_2019/data/riptide_models/iJO1366_m9_aerobic.json')\n",
    "cobra.io.write_sbml_model(iJO1366_m9_anaerobic, '/home/matt/Desktop/repos/Jenior_RIPTiDe_2019/data/riptide_models/iJO1366_m9_anaerobic.sbml')\n",
    "cobra.io.save_json_model(iJO1366_m9_anaerobic, '/home/matt/Desktop/repos/Jenior_RIPTiDe_2019/data/riptide_models/iJO1366_m9_anaerobic.json')\n",
    "cobra.io.write_sbml_model(iJO1366_lb_aerobic, '/home/matt/Desktop/repos/Jenior_RIPTiDe_2019/data/riptide_models/iJO1366_lb_aerobic.sbml')\n",
    "cobra.io.save_json_model(iJO1366_lb_aerobic, '/home/matt/Desktop/repos/Jenior_RIPTiDe_2019/data/riptide_models/iJO1366_lb_aerobic.json')"
   ]
  },
  {
   "cell_type": "code",
   "execution_count": 21,
   "metadata": {},
   "outputs": [],
   "source": [
    "# Correct the sample labels\n",
    "def label_flux_samples(file_name, label):\n",
    "    new_name = file_name.rstrip('tsv') + 'format.tsv'\n",
    "    new_file = open(new_name, 'w')\n",
    "    \n",
    "    with open(file_name, 'r') as samples:\n",
    "        header = samples.readline()\n",
    "        header = 'sample\\t' + header\n",
    "        new_file.write(header)\n",
    "        current = 1\n",
    "        \n",
    "        for line in samples:\n",
    "            line = label + '_' + str(current) + '\\t' + line\n",
    "            new_file.write(line)\n",
    "            current += 1\n",
    "\n",
    "    new_file.close()"
   ]
  },
  {
   "cell_type": "code",
   "execution_count": 27,
   "metadata": {},
   "outputs": [],
   "source": [
    "# Write chosen flux sample tables to tsvs\n",
    "m9_aerobic_samples.to_csv('/home/matt/Desktop/repos/Jenior_RIPTiDe_2019/data/flux_samples/M9_aerobic.flux_samples.tsv', sep='\\t')\n",
    "m9_anaerobic_samples.to_csv('/home/matt/Desktop/repos/Jenior_RIPTiDe_2019/data/flux_samples/M9_anaerobic.flux_samples.tsv', sep='\\t')\n",
    "lb_samples.to_csv('/home/matt/Desktop/repos/Jenior_RIPTiDe_2019/data/flux_samples/LB_aerobic.flux_samples.tsv', sep='\\t')\n",
    "pfba_samples.to_csv('/home/matt/Desktop/repos/Jenior_RIPTiDe_2019/data/flux_samples/pFBA.flux_samples.tsv', sep='\\t')\n",
    "\n",
    "    \n",
    "label_flux_samples('/home/matt/Desktop/repos/Jenior_RIPTiDe_2019/data/flux_samples/M9_aerobic.flux_samples.tsv', 'm9_aer')\n",
    "label_flux_samples('/home/matt/Desktop/repos/Jenior_RIPTiDe_2019/data/flux_samples/M9_anaerobic.flux_samples.tsv', 'm9_anaer')\n",
    "label_flux_samples('/home/matt/Desktop/repos/Jenior_RIPTiDe_2019/data/flux_samples/LB_aerobic.flux_samples.tsv', 'lb')\n",
    "label_flux_samples('/home/matt/Desktop/repos/Jenior_RIPTiDe_2019/data/flux_samples/pFBA.flux_samples.tsv', 'pfba')"
   ]
  },
  {
   "cell_type": "markdown",
   "metadata": {},
   "source": [
    "### Context-specific Essentiality"
   ]
  },
  {
   "cell_type": "code",
   "execution_count": 8,
   "metadata": {},
   "outputs": [],
   "source": [
    "import cobra.flux_analysis"
   ]
  },
  {
   "cell_type": "code",
   "execution_count": 19,
   "metadata": {},
   "outputs": [
    {
     "name": "stdout",
     "output_type": "stream",
     "text": [
      "Essential genes: 105\n"
     ]
    }
   ],
   "source": [
    "iJO1366_essential_genes = cobra.flux_analysis.find_essential_genes(iJO1366)\n",
    "print('Essential genes: ' + str(len(iJO1366_essential_genes)))"
   ]
  },
  {
   "cell_type": "code",
   "execution_count": 20,
   "metadata": {},
   "outputs": [
    {
     "name": "stdout",
     "output_type": "stream",
     "text": [
      "Essential genes: 226\n"
     ]
    }
   ],
   "source": [
    "iJO1366_pfba_essential_genes = cobra.flux_analysis.find_essential_genes(iJO1366_pfba)\n",
    "iJO1366_pfba_essential_genes = set([x.id for x in iJO1366_pfba_essential_genes])\n",
    "print('Essential genes: ' + str(len(iJO1366_pfba_essential_genes)))"
   ]
  },
  {
   "cell_type": "code",
   "execution_count": 21,
   "metadata": {},
   "outputs": [
    {
     "name": "stdout",
     "output_type": "stream",
     "text": [
      "Essential genes: 227\n"
     ]
    }
   ],
   "source": [
    "iJO1366_lb_aerobic_essential_genes = cobra.flux_analysis.find_essential_genes(iJO1366_lb_aerobic)\n",
    "iJO1366_lb_aerobic_essential_genes = set([x.id for x in iJO1366_lb_aerobic_essential_genes])\n",
    "print('Essential genes: ' + str(len(iJO1366_lb_aerobic_essential_genes)))"
   ]
  },
  {
   "cell_type": "code",
   "execution_count": 22,
   "metadata": {},
   "outputs": [
    {
     "name": "stdout",
     "output_type": "stream",
     "text": [
      "Essential genes: 232\n"
     ]
    }
   ],
   "source": [
    "iJO1366_m9_aerobic_essential_genes = cobra.flux_analysis.find_essential_genes(iJO1366_m9_aerobic)\n",
    "iJO1366_m9_aerobic_essential_genes = set([x.id for x in iJO1366_m9_aerobic_essential_genes])\n",
    "print('Essential genes: ' + str(len(iJO1366_m9_aerobic_essential_genes)))"
   ]
  },
  {
   "cell_type": "code",
   "execution_count": 23,
   "metadata": {},
   "outputs": [
    {
     "name": "stdout",
     "output_type": "stream",
     "text": [
      "Essential genes: 229\n"
     ]
    }
   ],
   "source": [
    "iJO1366_m9_anaerobic_essential_genes = cobra.flux_analysis.find_essential_genes(iJO1366_m9_anaerobic)\n",
    "iJO1366_m9_anaerobic_essential_genes = set([x.id for x in iJO1366_m9_anaerobic_essential_genes])\n",
    "print('Essential genes: ' + str(len(iJO1366_m9_anaerobic_essential_genes)))"
   ]
  },
  {
   "cell_type": "code",
   "execution_count": 14,
   "metadata": {},
   "outputs": [
    {
     "ename": "NameError",
     "evalue": "name 'venn_comparison' is not defined",
     "output_type": "error",
     "traceback": [
      "\u001b[0;31m---------------------------------------------------------------------------\u001b[0m",
      "\u001b[0;31mNameError\u001b[0m                                 Traceback (most recent call last)",
      "\u001b[0;32m<ipython-input-14-5d857bc3bd67>\u001b[0m in \u001b[0;36m<module>\u001b[0;34m()\u001b[0m\n\u001b[0;32m----> 1\u001b[0;31m \u001b[0messentiality_comparisons\u001b[0m \u001b[0;34m=\u001b[0m \u001b[0mvenn_comparison\u001b[0m\u001b[0;34m(\u001b[0m\u001b[0miJO1366_pfba_essential_genes\u001b[0m\u001b[0;34m,\u001b[0m \u001b[0miJO1366_lb_aerobic_essential_genes\u001b[0m\u001b[0;34m,\u001b[0m \u001b[0miJO1366_m9_aerobic_essential_genes\u001b[0m\u001b[0;34m,\u001b[0m \u001b[0miJO1366_m9_anaerobic_essential_genes\u001b[0m\u001b[0;34m)\u001b[0m\u001b[0;34m\u001b[0m\u001b[0m\n\u001b[0m\u001b[1;32m      2\u001b[0m \u001b[0;31m# List 1: pfba\u001b[0m\u001b[0;34m\u001b[0m\u001b[0;34m\u001b[0m\u001b[0m\n\u001b[1;32m      3\u001b[0m \u001b[0;31m# List 2: lb_aerobic\u001b[0m\u001b[0;34m\u001b[0m\u001b[0;34m\u001b[0m\u001b[0m\n\u001b[1;32m      4\u001b[0m \u001b[0;31m# List 3: m9_aerobic\u001b[0m\u001b[0;34m\u001b[0m\u001b[0;34m\u001b[0m\u001b[0m\n\u001b[1;32m      5\u001b[0m \u001b[0;31m# List 4: m9_anaerobic\u001b[0m\u001b[0;34m\u001b[0m\u001b[0;34m\u001b[0m\u001b[0m\n",
      "\u001b[0;31mNameError\u001b[0m: name 'venn_comparison' is not defined"
     ]
    }
   ],
   "source": [
    "essentiality_comparisons = venn_comparison(iJO1366_pfba_essential_genes, iJO1366_lb_aerobic_essential_genes, iJO1366_m9_aerobic_essential_genes, iJO1366_m9_anaerobic_essential_genes)\n",
    "# List 1: pfba\n",
    "# List 2: lb_aerobic\n",
    "# List 3: m9_aerobic\n",
    "# List 4: m9_anaerobic"
   ]
  },
  {
   "cell_type": "code",
   "execution_count": 15,
   "metadata": {},
   "outputs": [
    {
     "name": "stdout",
     "output_type": "stream",
     "text": [
      "Essential in all GENREs: 178\n"
     ]
    }
   ],
   "source": [
    "# Find those genes shared in all models\n",
    "core_essential = iJO1366_pfba_essential_genes.intersection(iJO1366_lb_aerobic_essential_genes)\n",
    "core_essential = core_essential.intersection(iJO1366_m9_aerobic_essential_genes)\n",
    "core_essential = core_essential.intersection(iJO1366_m9_anaerobic_essential_genes)\n",
    "print('Essential in all GENREs: ' + str(len(core_essential)))\n",
    "\n",
    "# Substract as background from each\n",
    "iJO1366_pfba_essential_genes = iJO1366_pfba_essential_genes.difference(core_essential)\n",
    "iJO1366_lb_aerobic_essential_genes = iJO1366_lb_aerobic_essential_genes.difference(core_essential)\n",
    "iJO1366_m9_aerobic_essential_genes = iJO1366_m9_aerobic_essential_genes.difference(core_essential)\n",
    "iJO1366_m9_anaerobic_essential_genes = iJO1366_m9_anaerobic_essential_genes.difference(core_essential)\n",
    "\n",
    "# Find non-essentiality across models\n",
    "iJO1366_pfba_genes = set([x.id for x in iJO1366_pfba.genes])\n",
    "iJO1366_lb_aerobic_genes = set([x.id for x in iJO1366_lb_aerobic.genes])\n",
    "iJO1366_m9_aerobic_genes = set([x.id for x in iJO1366_m9_aerobic.genes])\n",
    "iJO1366_m9_anaerobic_genes = set([x.id for x in iJO1366_m9_anaerobic.genes])\n",
    "\n",
    "# Compare overlapping genes\n",
    "total_genes = set()\n",
    "total_genes |= iJO1366_pfba_essential_genes\n",
    "total_genes |= iJO1366_lb_aerobic_essential_genes\n",
    "total_genes |= iJO1366_m9_aerobic_essential_genes\n",
    "total_genes |= iJO1366_m9_anaerobic_essential_genes\n",
    "with open('/home/matt/Desktop/repos/Jenior_RIPTiDe_2019/data/essentiality_test.tsv', 'w') as outfile:\n",
    "    outfile.write('gene\\tpfba\\tlb_aerobic\\tm9_aerobic\\tm9_anaerobic\\n')\n",
    "    for gene in total_genes:\n",
    "        entry = ['filler','filler','filler','filler']\n",
    "        \n",
    "        if gene in iJO1366_pfba_essential_genes:\n",
    "            entry[0] = 2\n",
    "        elif gene in iJO1366_pfba_genes:\n",
    "            entry[0] = 1\n",
    "        else:\n",
    "            entry[0] = 0\n",
    "            \n",
    "        if gene in iJO1366_lb_aerobic_essential_genes:\n",
    "            entry[1] = 2\n",
    "        elif gene in iJO1366_lb_aerobic_genes:\n",
    "            entry[1] = 1\n",
    "        else:\n",
    "            entry[1] = 0\n",
    "            \n",
    "        if gene in iJO1366_m9_aerobic_essential_genes:\n",
    "            entry[2] = 2\n",
    "        elif gene in iJO1366_m9_aerobic_genes:\n",
    "            entry[2] = 1\n",
    "        else:\n",
    "            entry[2] = 0\n",
    "            \n",
    "        if gene in iJO1366_m9_anaerobic_essential_genes:\n",
    "            entry[3] = 2\n",
    "        elif gene in iJO1366_m9_anaerobic_genes:\n",
    "            entry[3] = 1\n",
    "        else:\n",
    "            entry[3] = 0\n",
    "            \n",
    "        entry = gene + '\\t' + '\\t'.join([str(x) for x in entry]) + '\\n'\n",
    "        outfile.write(entry)\n"
   ]
  },
  {
   "cell_type": "markdown",
   "metadata": {},
   "source": [
    "### Metatranscriptomic analysis"
   ]
  },
  {
   "cell_type": "code",
   "execution_count": 69,
   "metadata": {},
   "outputs": [],
   "source": [
    "def find_source(model, met_id):\n",
    "    generating = set()\n",
    "    for rxn in model.reactions:\n",
    "        for met in rxn.products:\n",
    "            if met_id in met.id:\n",
    "                generating |= set([rxn.id])\n",
    "        \n",
    "    print('Metabolite sources: ' + str(len(generating)))\n",
    "    return generating"
   ]
  },
  {
   "cell_type": "code",
   "execution_count": 18,
   "metadata": {},
   "outputs": [],
   "source": [
    "clinda_k12_metaT = {}\n",
    "with open('/home/matt/Desktop/repos/Jenior_RIPTiDe_2019/data/transcript/clinda_k12.mapped.norm.tsv', 'r') as transcription:\n",
    "    header = transcription.readline()\n",
    "    for line in transcription:\n",
    "        line = line.split()\n",
    "        clinda_k12_metaT[line[0]] = float(line[2])"
   ]
  },
  {
   "cell_type": "code",
   "execution_count": 19,
   "metadata": {},
   "outputs": [
    {
     "name": "stdout",
     "output_type": "stream",
     "text": [
      "Initializing model and parsing transcriptome...\n",
      "Pruning zero flux subnetworks...\n",
      "Sampling context-specific solution space (longest step)...\n",
      "\n",
      "Reactions pruned to 490 from 2583 (81.0% reduction)\n",
      "Metabolites pruned to 493 from 1805 (72.7% reduction)\n",
      "\n",
      "Flux through the objective REDUCED to 53.17 from 105.765 (49.73% shift)\n",
      "Solution space ellipsoid volume DECREASED to ~0.306 from ~9.161 (96.66% shift)\n",
      "\n",
      "RIPTiDe completed in 4.9 minutes\n"
     ]
    }
   ],
   "source": [
    "iJO1366_invivo_metaT, invivo_metaT_samples = riptide(iJO1366, clinda_k12_metaT)"
   ]
  },
  {
   "cell_type": "code",
   "execution_count": 29,
   "metadata": {},
   "outputs": [
    {
     "name": "stdout",
     "output_type": "stream",
     "text": [
      "[0.538, 0.578, 0.886]\n"
     ]
    }
   ],
   "source": [
    "invivo_rates = collect_growth_rates(invivo_metaT_samples, 'BIOMASS_Ec_iJO1366_WT_53p95M')\n",
    "print([min(invivo_rates), numpy.median(invivo_rates), max(invivo_rates)])\n",
    "with open('/home/mjenior/Desktop/repos/Jenior_RIPTiDe_2019/data/invivo_growth_rates.tsv', 'w') as output_file:\n",
    "    for x in invivo_rates: output_file.write(str(x) + '\\n')"
   ]
  },
  {
   "cell_type": "code",
   "execution_count": 36,
   "metadata": {},
   "outputs": [
    {
     "name": "stdout",
     "output_type": "stream",
     "text": [
      "Metabolite sources: 3\n"
     ]
    }
   ],
   "source": [
    "invivo_anaerobic_atp = find_source(iJO1366_invivo_metaT, 'atp_c')"
   ]
  },
  {
   "cell_type": "code",
   "execution_count": 54,
   "metadata": {},
   "outputs": [],
   "source": [
    "vitro_ex = set([x.id for x in iJO1366_m9_anaerobic.reactions if 'EX_' in x.id])\n",
    "vivo_ex = set([x.id for x in iJO1366_invivo_metaT.reactions if 'EX_' in x.id])\n",
    "\n",
    "vitro_ex_only = vitro_ex.difference(vivo_ex)\n",
    "vitro_ex_only_input = set()\n",
    "for y in vitro_ex_only:\n",
    "    if abs(iJO1366_m9_anaerobic.reactions.get_by_id(y).lower_bound) > abs(iJO1366_m9_anaerobic.reactions.get_by_id(y).upper_bound):\n",
    "        vitro_ex_only_input |= set([y])\n",
    "\n",
    "vivo_ex_only = vivo_ex.difference(vitro_ex)\n",
    "vivo_ex_only_input = set()\n",
    "for y in vivo_ex_only:\n",
    "    if abs(iJO1366_invivo_metaT.reactions.get_by_id(y).lower_bound) > abs(iJO1366_invivo_metaT.reactions.get_by_id(y).upper_bound):\n",
    "        vivo_ex_only_input |= set([y])"
   ]
  },
  {
   "cell_type": "code",
   "execution_count": 58,
   "metadata": {},
   "outputs": [
    {
     "name": "stdout",
     "output_type": "stream",
     "text": [
      "Quinate\n",
      "Glycerol 3-phosphate\n",
      "Glycerophosphoserine\n",
      "L-Leucine\n",
      "L-tartrate\n",
      "Ethanol\n",
      "Guanosine\n",
      "D-Fructose 6-phosphate\n",
      "Allantoin\n"
     ]
    }
   ],
   "source": [
    "for x in vitro_ex_only_input: print(iJO1366_m9_anaerobic.reactions.get_by_id(x).reactants[0].name)"
   ]
  },
  {
   "cell_type": "code",
   "execution_count": 59,
   "metadata": {},
   "outputs": [
    {
     "name": "stdout",
     "output_type": "stream",
     "text": [
      "L-Serine\n",
      "Deoxyuridine\n",
      "Trehalose\n",
      "Deoxyguanosine\n",
      "Glycine\n",
      "Pyridoxine\n",
      "Myo-Inositol hexakisphosphate\n",
      "Shikimate\n"
     ]
    }
   ],
   "source": [
    "for x in vivo_ex_only_input: print(iJO1366_invivo_metaT.reactions.get_by_id(x).reactants[0].name)"
   ]
  },
  {
   "cell_type": "code",
   "execution_count": 19,
   "metadata": {},
   "outputs": [
    {
     "name": "stdout",
     "output_type": "stream",
     "text": [
      "1.11 hours\n"
     ]
    }
   ],
   "source": [
    "max_doubling_time(iJO1366_invivo_metaT)"
   ]
  },
  {
   "cell_type": "code",
   "execution_count": 22,
   "metadata": {},
   "outputs": [],
   "source": [
    "# Write flux sample tables to tsv\n",
    "m9_anaerobic_samples.to_csv('/home/mjenior/Desktop/repos/Jenior_RIPTiDe_2019/data/flux_samples/invitro.flux_samples.tsv', sep='\\t')\n",
    "label_flux_samples('/home/mjenior/Desktop/repos/Jenior_RIPTiDe_2019/data/flux_samples/invitro.flux_samples.tsv', 'invitro')\n",
    "\n",
    "invivo_metaT_samples.to_csv('/home/mjenior/Desktop/repos/Jenior_RIPTiDe_2019/data/flux_samples/invivo.flux_samples.tsv', sep='\\t')\n",
    "label_flux_samples('/home/mjenior/Desktop/repos/Jenior_RIPTiDe_2019/data/flux_samples/invivo.flux_samples.tsv', 'invivo')"
   ]
  },
  {
   "cell_type": "code",
   "execution_count": 17,
   "metadata": {},
   "outputs": [
    {
     "name": "stdout",
     "output_type": "stream",
     "text": [
      "[86.41, 105.13, 111.6]\n",
      "[0.538, 0.571, 0.694]\n"
     ]
    }
   ],
   "source": [
    "invivo_metaT_times = collect_doubling_times(invivo_metaT_samples, 'BIOMASS_Ec_iJO1366_WT_53p95M')\n",
    "print([min(invivo_metaT_times), numpy.median(invivo_metaT_times), max(invivo_metaT_times)])\n",
    "invivo_metaT_rates = collect_growth_rates(invivo_metaT_samples, 'BIOMASS_Ec_iJO1366_WT_53p95M')\n",
    "print([min(invivo_metaT_rates), numpy.median(invivo_metaT_rates), max(invivo_metaT_rates)])"
   ]
  },
  {
   "cell_type": "code",
   "execution_count": 70,
   "metadata": {},
   "outputs": [],
   "source": [
    "m9 = cobra.io.read_sbml_model('/home/mjenior/Desktop/repos/Jenior_RIPTiDe_2019/data/riptide_models/iJO1366_m9_aerobic.sbml')\n",
    "lb = cobra.io.read_sbml_model('/home/mjenior/Desktop/repos/Jenior_RIPTiDe_2019/data/riptide_models/iJO1366_lb_aerobic.sbml')"
   ]
  },
  {
   "cell_type": "code",
   "execution_count": 71,
   "metadata": {},
   "outputs": [
    {
     "name": "stdout",
     "output_type": "stream",
     "text": [
      "Metabolite sources: 4\n",
      "Metabolite sources: 3\n"
     ]
    }
   ],
   "source": [
    "m9_nadph = find_source(m9, 'nadph_c')\n",
    "lb_nadph = find_source(lb, 'nadph_c')"
   ]
  },
  {
   "cell_type": "code",
   "execution_count": null,
   "metadata": {},
   "outputs": [],
   "source": []
  },
  {
   "cell_type": "markdown",
   "metadata": {},
   "source": [
    "### Testing Previous Integration Algorithms"
   ]
  },
  {
   "cell_type": "code",
   "execution_count": 9,
   "metadata": {},
   "outputs": [],
   "source": [
    "iJO1366 = cobra.io.read_sbml_model('/home/matt/Desktop/repos/Jenior_RIPTiDe_2019/data/reconstructions/iJO1366.xml')\n",
    "iJO1366.objective = iJO1366.reactions.BIOMASS_Ec_iJO1366_WT_53p95M\n",
    "\n",
    "# Open all exchanges\n",
    "exchanges = set()\n",
    "for rxn in iJO1366.reactions:\n",
    "    if len(rxn.reactants) == 0 or len(rxn.products) == 0:\n",
    "        rxn.bounds = (min(rxn.lower_bound, -1000), max(rxn.upper_bound, 1000))\n",
    "        exchanges |= set([rxn.id])"
   ]
  },
  {
   "cell_type": "code",
   "execution_count": 10,
   "metadata": {},
   "outputs": [],
   "source": [
    "# Comparison to GIMME, iMAT, and CORDA\n",
    "import copy\n",
    "import cobra\n",
    "from driven.flux_analysis.transcriptomics import *\n",
    "from driven.data_sets.expression_profile import *\n",
    "from corda import CORDA"
   ]
  },
  {
   "cell_type": "code",
   "execution_count": 31,
   "metadata": {},
   "outputs": [],
   "source": [
    "# Read in formatted data\n",
    "m9_aerobic_driven = ExpressionProfile.from_csv('/home/matt/Desktop/repos/Jenior_RIPTiDe_2019/data/transcript/Monk_et_al_2016/m9_aerobic_expression.csv')\n",
    "\n",
    "# Define thresholds\n",
    "gimme_threshold = 12\n",
    "\n",
    "imat_lo_threshold = 10\n",
    "imat_hi_threshold = 900\n",
    "\n",
    "conda_lo_threshold = 10\n",
    "conda_hi_threshold = 900\n",
    "\n",
    "# Format data for CORDA\n",
    "conda_gene_confidences = {}\n",
    "with open('/home/matt/Desktop/repos/Jenior_RIPTiDe_2019/data/transcript/Monk_et_al_2016/m9_aerobic_expression.csv', 'r') as transcription:\n",
    "    for line in transcription:\n",
    "        gene = line.strip().split(',')[0]\n",
    "        abundance = float(line.strip().split(',')[1])\n",
    "        \n",
    "        if abundance < conda_lo_threshold:\n",
    "            confidence = 1\n",
    "        elif abundance >= conda_lo_threshold and abundance < conda_hi_threshold:\n",
    "            confidence = 2\n",
    "        elif abundance >= conda_hi_threshold:\n",
    "            confidence = 3\n",
    "        else:\n",
    "            confidence = 0\n",
    "        \n",
    "        conda_gene_confidences[gene] = confidence\n",
    "\n",
    "conda_rxn_confidences = {}\n",
    "conda_rxn_confidences['BIOMASS_Ec_iJO1366_WT_53p95M'] = 3\n",
    "for gene in iJO1366.genes:\n",
    "    try:\n",
    "        confidence = conda_gene_confidences[gene.id]\n",
    "    except:\n",
    "        continue\n",
    "    reactions = [x.id for x in list(gene.reactions)]\n",
    "    for rxn in reactions:\n",
    "        conda_rxn_confidences[rxn] = confidence\n",
    "        \n",
    "for rxn in iJO1366.reactions:\n",
    "    if rxn.id not in conda_rxn_confidences.keys():\n",
    "        conda_rxn_confidences[rxn.id] = 0\n"
   ]
  },
  {
   "cell_type": "code",
   "execution_count": 12,
   "metadata": {},
   "outputs": [
    {
     "ename": "AssertionError",
     "evalue": "",
     "output_type": "error",
     "traceback": [
      "\u001b[0;31m---------------------------------------------------------------------------\u001b[0m",
      "\u001b[0;31mAssertionError\u001b[0m                            Traceback (most recent call last)",
      "\u001b[0;32m<ipython-input-12-e70eeef8a126>\u001b[0m in \u001b[0;36m<module>\u001b[0;34m\u001b[0m\n\u001b[1;32m      1\u001b[0m \u001b[0;31m# GIMME\u001b[0m\u001b[0;34m\u001b[0m\u001b[0;34m\u001b[0m\u001b[0m\n\u001b[0;32m----> 2\u001b[0;31m \u001b[0miJO1366_gimme_result\u001b[0m \u001b[0;34m=\u001b[0m \u001b[0mgimme\u001b[0m\u001b[0;34m(\u001b[0m\u001b[0miJO1366\u001b[0m\u001b[0;34m,\u001b[0m \u001b[0mcutoff\u001b[0m\u001b[0;34m=\u001b[0m\u001b[0mgimme_threshold\u001b[0m\u001b[0;34m,\u001b[0m \u001b[0mexpression_profile\u001b[0m\u001b[0;34m=\u001b[0m\u001b[0mm9_aerobic_driven\u001b[0m\u001b[0;34m)\u001b[0m\u001b[0;34m\u001b[0m\u001b[0m\n\u001b[0m\u001b[1;32m      3\u001b[0m \u001b[0mprint\u001b[0m\u001b[0;34m(\u001b[0m\u001b[0;34m'Done'\u001b[0m\u001b[0;34m)\u001b[0m\u001b[0;34m\u001b[0m\u001b[0m\n",
      "\u001b[0;32m~/.local/lib/python3.6/site-packages/driven/flux_analysis/transcriptomics.py\u001b[0m in \u001b[0;36mgimme\u001b[0;34m(model, expression_profile, cutoff, objective, objective_dist, fraction_of_optimum, normalization, condition, not_measured_value, *args, **kwargs)\u001b[0m\n\u001b[1;32m     67\u001b[0m     \"\"\"\n\u001b[1;32m     68\u001b[0m \u001b[0;34m\u001b[0m\u001b[0m\n\u001b[0;32m---> 69\u001b[0;31m     \u001b[0;32massert\u001b[0m \u001b[0misinstance\u001b[0m\u001b[0;34m(\u001b[0m\u001b[0mmodel\u001b[0m\u001b[0;34m,\u001b[0m \u001b[0mSolverBasedModel\u001b[0m\u001b[0;34m)\u001b[0m\u001b[0;34m\u001b[0m\u001b[0m\n\u001b[0m\u001b[1;32m     70\u001b[0m     \u001b[0;32massert\u001b[0m \u001b[0misinstance\u001b[0m\u001b[0;34m(\u001b[0m\u001b[0mexpression_profile\u001b[0m\u001b[0;34m,\u001b[0m \u001b[0mExpressionProfile\u001b[0m\u001b[0;34m)\u001b[0m\u001b[0;34m\u001b[0m\u001b[0m\n\u001b[1;32m     71\u001b[0m     \u001b[0;32massert\u001b[0m \u001b[0misinstance\u001b[0m\u001b[0;34m(\u001b[0m\u001b[0mfraction_of_optimum\u001b[0m\u001b[0;34m,\u001b[0m \u001b[0mnumbers\u001b[0m\u001b[0;34m.\u001b[0m\u001b[0mNumber\u001b[0m\u001b[0;34m)\u001b[0m\u001b[0;34m\u001b[0m\u001b[0m\n",
      "\u001b[0;31mAssertionError\u001b[0m: "
     ]
    }
   ],
   "source": [
    "# GIMME\n",
    "iJO1366_gimme_result = gimme(iJO1366, cutoff=gimme_threshold, expression_profile=m9_aerobic_driven)\n",
    "print('Done')"
   ]
  },
  {
   "cell_type": "code",
   "execution_count": 33,
   "metadata": {},
   "outputs": [
    {
     "name": "stdout",
     "output_type": "stream",
     "text": [
      "130\n",
      "Objective value: nan\n"
     ]
    }
   ],
   "source": [
    "# Check for overlap with lowly expressed reactions and gapfilled\n",
    "current = 0\n",
    "remove = []\n",
    "for entry in iJO1366_gimme_result.data_frame['inconsistency_scores']:\n",
    "    if entry != 0.0:\n",
    "        remove.append(list(iJO1366_gimme_result.fluxes.index)[current])\n",
    "    current += 1\n",
    "\n",
    "iJO1366_gimme = copy.deepcopy(iJO1366)\n",
    "\n",
    "# Constrain fluxes to match output\n",
    "for rxn_id, flux in iJO1366_gimme_result.fluxes.items():\n",
    "    iJO1366_gimme.reactions.get_by_id(rxn_id).bounds = (flux, flux)\n",
    "    \n",
    "# Prune inactive reactions\n",
    "for rxn in remove:\n",
    "    iJO1366_gimme.reactions.get_by_id(rxn).remove_from_model(remove_orphans=True)\n",
    "iJO1366_gimme.reactions.get_by_id('DM_4crsol_c').remove_from_model(remove_orphans=True)\n",
    "print(len(remove))\n",
    "removed = 1\n",
    "while removed == 1:\n",
    "    removed = 0\n",
    "    for cpd in iJO1366_gimme.metabolites:\n",
    "        if len(cpd.reactions) == 0:\n",
    "            cpd.remove_from_model(); removed = 1\n",
    "    for rxn in iJO1366_gimme.reactions:\n",
    "        if len(rxn.metabolites) == 0: \n",
    "            rxn.remove_from_model(); removed = 1\n",
    "\n",
    "# Test for growth\n",
    "print('Objective value: ' + str(iJO1366_gimme.slim_optimize()))"
   ]
  },
  {
   "cell_type": "code",
   "execution_count": null,
   "metadata": {},
   "outputs": [],
   "source": []
  },
  {
   "cell_type": "code",
   "execution_count": 13,
   "metadata": {},
   "outputs": [
    {
     "ename": "AssertionError",
     "evalue": "",
     "output_type": "error",
     "traceback": [
      "\u001b[0;31m---------------------------------------------------------------------------\u001b[0m",
      "\u001b[0;31mAssertionError\u001b[0m                            Traceback (most recent call last)",
      "\u001b[0;32m<ipython-input-13-0693d41b032e>\u001b[0m in \u001b[0;36m<module>\u001b[0;34m\u001b[0m\n\u001b[1;32m      1\u001b[0m \u001b[0;31m# iMAT\u001b[0m\u001b[0;34m\u001b[0m\u001b[0;34m\u001b[0m\u001b[0m\n\u001b[0;32m----> 2\u001b[0;31m \u001b[0miJO1366_imat_result\u001b[0m \u001b[0;34m=\u001b[0m \u001b[0mimat\u001b[0m\u001b[0;34m(\u001b[0m\u001b[0miJO1366\u001b[0m\u001b[0;34m,\u001b[0m \u001b[0mexpression_profile\u001b[0m\u001b[0;34m=\u001b[0m\u001b[0mm9_aerobic_driven\u001b[0m\u001b[0;34m,\u001b[0m \u001b[0mlow_cutoff\u001b[0m\u001b[0;34m=\u001b[0m\u001b[0mimat_lo_threshold\u001b[0m\u001b[0;34m,\u001b[0m \u001b[0mhigh_cutoff\u001b[0m\u001b[0;34m=\u001b[0m\u001b[0mimat_hi_threshold\u001b[0m\u001b[0;34m)\u001b[0m\u001b[0;34m\u001b[0m\u001b[0m\n\u001b[0m\u001b[1;32m      3\u001b[0m \u001b[0mprint\u001b[0m\u001b[0;34m(\u001b[0m\u001b[0;34m'Done'\u001b[0m\u001b[0;34m)\u001b[0m\u001b[0;34m\u001b[0m\u001b[0m\n",
      "\u001b[0;32m~/.local/lib/python3.6/site-packages/driven/flux_analysis/transcriptomics.py\u001b[0m in \u001b[0;36mimat\u001b[0;34m(model, expression_profile, low_cutoff, high_cutoff, epsilon, condition, normalization, fraction_of_optimum, objective, not_measured_value, *args, **kwargs)\u001b[0m\n\u001b[1;32m    127\u001b[0m     \"\"\"\n\u001b[1;32m    128\u001b[0m \u001b[0;34m\u001b[0m\u001b[0m\n\u001b[0;32m--> 129\u001b[0;31m     \u001b[0;32massert\u001b[0m \u001b[0misinstance\u001b[0m\u001b[0;34m(\u001b[0m\u001b[0mmodel\u001b[0m\u001b[0;34m,\u001b[0m \u001b[0mSolverBasedModel\u001b[0m\u001b[0;34m)\u001b[0m\u001b[0;34m\u001b[0m\u001b[0m\n\u001b[0m\u001b[1;32m    130\u001b[0m     \u001b[0;32massert\u001b[0m \u001b[0misinstance\u001b[0m\u001b[0;34m(\u001b[0m\u001b[0mexpression_profile\u001b[0m\u001b[0;34m,\u001b[0m \u001b[0mExpressionProfile\u001b[0m\u001b[0;34m)\u001b[0m\u001b[0;34m\u001b[0m\u001b[0m\n\u001b[1;32m    131\u001b[0m     \u001b[0;32massert\u001b[0m \u001b[0misinstance\u001b[0m\u001b[0;34m(\u001b[0m\u001b[0mhigh_cutoff\u001b[0m\u001b[0;34m,\u001b[0m \u001b[0mnumbers\u001b[0m\u001b[0;34m.\u001b[0m\u001b[0mNumber\u001b[0m\u001b[0;34m)\u001b[0m\u001b[0;34m\u001b[0m\u001b[0m\n",
      "\u001b[0;31mAssertionError\u001b[0m: "
     ]
    }
   ],
   "source": [
    "# iMAT\n",
    "iJO1366_imat_result = imat(iJO1366, expression_profile=m9_aerobic_driven, low_cutoff=imat_lo_threshold, high_cutoff=imat_hi_threshold)\n",
    "print('Done')"
   ]
  },
  {
   "cell_type": "code",
   "execution_count": 35,
   "metadata": {},
   "outputs": [
    {
     "name": "stdout",
     "output_type": "stream",
     "text": [
      "97\n"
     ]
    }
   ],
   "source": [
    "# Check for overlap with lowly expressed reactions\n",
    "from cobra.flux_analysis.parsimonious import *\n",
    "\n",
    "imat_pfba = pfba(iJO1366, fraction_of_optimum=0.8)\n",
    "test1 = imat_pfba.fluxes[imat_pfba.fluxes > 0.0]\n",
    "test1 = set(test1.index)\n",
    "\n",
    "test2 = set()\n",
    "for index in iJO1366_imat_result.lowly_express.keys():\n",
    "    if iJO1366_imat_result.lowly_express[index] == True:\n",
    "        test2 |= set([index])\n",
    "\n",
    "gapfilled_imat = test1.intersection(test2)\n",
    "print(len(gapfilled_imat))"
   ]
  },
  {
   "cell_type": "code",
   "execution_count": 22,
   "metadata": {},
   "outputs": [
    {
     "name": "stdout",
     "output_type": "stream",
     "text": [
      "Done\n"
     ]
    }
   ],
   "source": [
    "# CONDA\n",
    "optimal = CORDA(iJO1366, conda_rxn_confidences)\n",
    "optimal.build()\n",
    "print('Done')"
   ]
  },
  {
   "cell_type": "code",
   "execution_count": 23,
   "metadata": {},
   "outputs": [
    {
     "name": "stdout",
     "output_type": "stream",
     "text": [
      "build status: reconstruction complete\n",
      "Inc. reactions: 1001/2583\n",
      " - unclear: 231/621\n",
      " - exclude: 0/0\n",
      " - low and medium: 611/1784\n",
      " - high: 159/178\n",
      "\n"
     ]
    }
   ],
   "source": [
    "print(optimal)"
   ]
  },
  {
   "cell_type": "code",
   "execution_count": 28,
   "metadata": {},
   "outputs": [
    {
     "data": {
      "text/plain": [
       "0.0"
      ]
     },
     "execution_count": 28,
     "metadata": {},
     "output_type": "execute_result"
    }
   ],
   "source": [
    "optimal.model.slim_optimize()"
   ]
  },
  {
   "cell_type": "code",
   "execution_count": 29,
   "metadata": {},
   "outputs": [
    {
     "data": {
      "text/plain": [
       "105.76529080812088"
      ]
     },
     "execution_count": 29,
     "metadata": {},
     "output_type": "execute_result"
    }
   ],
   "source": [
    "iJO1366.slim_optimize()"
   ]
  },
  {
   "cell_type": "code",
   "execution_count": null,
   "metadata": {},
   "outputs": [],
   "source": []
  }
 ],
 "metadata": {
  "kernelspec": {
   "display_name": "Python 3",
   "language": "python",
   "name": "python3"
  },
  "language_info": {
   "codemirror_mode": {
    "name": "ipython",
    "version": 3
   },
   "file_extension": ".py",
   "mimetype": "text/x-python",
   "name": "python",
   "nbconvert_exporter": "python",
   "pygments_lexer": "ipython3",
   "version": "3.6.4"
  }
 },
 "nbformat": 4,
 "nbformat_minor": 2
}
